{
  "nbformat": 4,
  "nbformat_minor": 0,
  "metadata": {
    "colab": {
      "provenance": []
    },
    "kernelspec": {
      "name": "python3",
      "display_name": "Python 3"
    },
    "language_info": {
      "name": "python"
    }
  },
  "cells": [
    {
      "cell_type": "code",
      "execution_count": 1,
      "metadata": {
        "id": "QFJPuQdaSZkS"
      },
      "outputs": [],
      "source": [
        "!pip install transformers gradio datasets > /dev/null"
      ]
    },
    {
      "cell_type": "code",
      "source": [
        "import gradio as gr\n",
        "from transformers import AutoModelForCausalLM, AutoTokenizer\n",
        "import torch\n",
        "\n",
        "tokenizer = AutoTokenizer.from_pretrained(\"microsoft/DialoGPT-medium\")\n",
        "model = AutoModelForCausalLM.from_pretrained(\"microsoft/DialoGPT-medium\")"
      ],
      "metadata": {
        "id": "P-pjD65BTidt"
      },
      "execution_count": null,
      "outputs": []
    },
    {
      "cell_type": "code",
      "source": [
        "def user(message, history):\n",
        "    return \"\", history + [[message, None]]"
      ],
      "metadata": {
        "id": "VRe9rjVVTiii"
      },
      "execution_count": 3,
      "outputs": []
    },
    {
      "cell_type": "code",
      "source": [
        "def bot(history):\n",
        "\n",
        "    user_message = history[-1][0]\n",
        "\n",
        "    new_user_input_ids = tokenizer.encode(\n",
        "        user_message + tokenizer.eos_token,\n",
        "        return_tensors=\"pt\"\n",
        "    )\n",
        "\n",
        "    # append the new user input tokens to the chat history\n",
        "    bot_input_ids = torch.cat([torch.LongTensor([]),\n",
        "                               new_user_input_ids], dim=-1)\n",
        "\n",
        "    # generate a response\n",
        "    response = model.generate(\n",
        "        bot_input_ids,\n",
        "        max_length=1000,\n",
        "        pad_token_id=tokenizer.eos_token_id\n",
        "    ).tolist()\n",
        "\n",
        "    # convert the tokens to text, and then split the responses into lines\n",
        "    response = tokenizer.decode(response[0]).split(\"<|endoftext|>\")\n",
        "\n",
        "    response = [(response[i],\n",
        "                 response[i + 1]) for i in range(0,\n",
        "                                                 len(response) - 1,\n",
        "                                                 2)]  # convert to tuples of list\n",
        "    history[-1] = response[0]\n",
        "\n",
        "    return history\n"
      ],
      "metadata": {
        "id": "vCxsbid6Timj"
      },
      "execution_count": 4,
      "outputs": []
    },
    {
      "cell_type": "code",
      "source": [
        "user_message = \"This is a nice cool breezy weather\"\n",
        "\n",
        "new_user_input_ids = tokenizer.encode(\n",
        "        user_message + tokenizer.eos_token,\n",
        "        return_tensors=\"pt\"\n",
        "    )"
      ],
      "metadata": {
        "id": "onU2or5Iivt3"
      },
      "execution_count": 28,
      "outputs": []
    },
    {
      "cell_type": "code",
      "source": [
        "# append the new user input tokens to the chat history\n",
        "bot_input_ids = torch.cat([torch.LongTensor([]),\n",
        "                               new_user_input_ids], dim=-1)"
      ],
      "metadata": {
        "id": "tCGhtC1di8p5"
      },
      "execution_count": 29,
      "outputs": []
    },
    {
      "cell_type": "code",
      "source": [
        "# generate a response\n",
        "response = model.generate(\n",
        "        bot_input_ids,\n",
        "        max_length=1000,\n",
        "        pad_token_id=tokenizer.eos_token_id\n",
        "    ).tolist()"
      ],
      "metadata": {
        "colab": {
          "base_uri": "https://localhost:8080/"
        },
        "id": "y8DwIVcwizfL",
        "outputId": "34cbde2f-62bf-4370-b6df-091c2aa7970c"
      },
      "execution_count": 30,
      "outputs": [
        {
          "output_type": "stream",
          "name": "stderr",
          "text": [
            "A decoder-only architecture is being used, but right-padding was detected! For correct generation results, please set `padding_side='left'` when initializing the tokenizer.\n"
          ]
        }
      ]
    },
    {
      "cell_type": "code",
      "source": [
        "response[0]"
      ],
      "metadata": {
        "colab": {
          "base_uri": "https://localhost:8080/"
        },
        "id": "w5wN6oOekLbn",
        "outputId": "1f54439a-dbaa-4eb5-9b8f-902e04ba6c35"
      },
      "execution_count": 32,
      "outputs": [
        {
          "output_type": "execute_result",
          "data": {
            "text/plain": [
              "[1212,\n",
              " 318,\n",
              " 257,\n",
              " 3621,\n",
              " 3608,\n",
              " 20780,\n",
              " 7357,\n",
              " 6193,\n",
              " 50256,\n",
              " 1026,\n",
              " 338,\n",
              " 257,\n",
              " 3621,\n",
              " 1110,\n",
              " 329,\n",
              " 257,\n",
              " 20780,\n",
              " 7357,\n",
              " 1110,\n",
              " 50256]"
            ]
          },
          "metadata": {},
          "execution_count": 32
        }
      ]
    },
    {
      "cell_type": "markdown",
      "source": [
        "There are three Gradio components here:\n",
        "\n",
        "    A Chatbot, whose value stores the entire history of the conversation, as a list of response pairs between the user and bot.\n",
        "\n",
        "    A Textbox where the user can type their message, and then hit enter/submit to trigger the chatbot response\n",
        "\n",
        "    A ClearButton button to clear the Textbox and entire Chatbot history\n"
      ],
      "metadata": {
        "id": "3UyolOzQa96M"
      }
    },
    {
      "cell_type": "code",
      "source": [
        "with gr.Blocks() as demo:\n",
        "    chatbot = gr.Chatbot()\n",
        "    msg = gr.Textbox()\n",
        "    clear = gr.Button(\"Clear\")\n",
        "\n",
        "    msg.submit(user, [msg, chatbot], [msg, chatbot], queue=False).then(\n",
        "        bot, chatbot, chatbot\n",
        "    )\n",
        "    clear.click(lambda: None, None, chatbot, queue=False)\n",
        "\n",
        "demo.launch()\n"
      ],
      "metadata": {
        "id": "Xyw_m8JVTiu-"
      },
      "execution_count": null,
      "outputs": []
    },
    {
      "cell_type": "code",
      "source": [
        "def multiplier(message, history):\n",
        "\n",
        "    iputs = message.split('x')\n",
        "\n",
        "    # append the new user input tokens to the chat history\n",
        "    oput = str(int(iputs[0]) * int(iputs[1]))\n",
        "\n",
        "    history.append((message,oput))\n",
        "\n",
        "    return \"\", history\n"
      ],
      "metadata": {
        "id": "5XTAIkfrTixb"
      },
      "execution_count": 25,
      "outputs": []
    },
    {
      "cell_type": "code",
      "source": [
        "with gr.Blocks() as demo:\n",
        "    chatbot = gr.Chatbot()\n",
        "    msg = gr.Textbox()\n",
        "    clear = gr.Button(\"Clear\")\n",
        "\n",
        "    msg.submit(multiplier, [msg,\n",
        "                      chatbot], [msg,\n",
        "                                 chatbot])\n",
        "\n",
        "demo.launch(debug = True)\n"
      ],
      "metadata": {
        "colab": {
          "base_uri": "https://localhost:8080/",
          "height": 653
        },
        "id": "RbiNLIfZc2vt",
        "outputId": "34c3b8aa-86c4-44a5-a423-df6fb1e41eb9"
      },
      "execution_count": 27,
      "outputs": [
        {
          "output_type": "stream",
          "name": "stdout",
          "text": [
            "Colab notebook detected. This cell will run indefinitely so that you can see errors and logs. To turn off, set debug=False in launch().\n",
            "Note: opening Chrome Inspector may crash demo inside Colab notebooks.\n",
            "\n",
            "To create a public link, set `share=True` in `launch()`.\n"
          ]
        },
        {
          "output_type": "display_data",
          "data": {
            "text/plain": [
              "<IPython.core.display.Javascript object>"
            ],
            "application/javascript": [
              "(async (port, path, width, height, cache, element) => {\n",
              "                        if (!google.colab.kernel.accessAllowed && !cache) {\n",
              "                            return;\n",
              "                        }\n",
              "                        element.appendChild(document.createTextNode(''));\n",
              "                        const url = await google.colab.kernel.proxyPort(port, {cache});\n",
              "\n",
              "                        const external_link = document.createElement('div');\n",
              "                        external_link.innerHTML = `\n",
              "                            <div style=\"font-family: monospace; margin-bottom: 0.5rem\">\n",
              "                                Running on <a href=${new URL(path, url).toString()} target=\"_blank\">\n",
              "                                    https://localhost:${port}${path}\n",
              "                                </a>\n",
              "                            </div>\n",
              "                        `;\n",
              "                        element.appendChild(external_link);\n",
              "\n",
              "                        const iframe = document.createElement('iframe');\n",
              "                        iframe.src = new URL(path, url).toString();\n",
              "                        iframe.height = height;\n",
              "                        iframe.allow = \"autoplay; camera; microphone; clipboard-read; clipboard-write;\"\n",
              "                        iframe.width = width;\n",
              "                        iframe.style.border = 0;\n",
              "                        element.appendChild(iframe);\n",
              "                    })(7863, \"/\", \"100%\", 500, false, window.element)"
            ]
          },
          "metadata": {}
        },
        {
          "output_type": "stream",
          "name": "stdout",
          "text": [
            "Keyboard interruption in main thread... closing server.\n"
          ]
        },
        {
          "output_type": "execute_result",
          "data": {
            "text/plain": []
          },
          "metadata": {},
          "execution_count": 27
        }
      ]
    }
  ]
}