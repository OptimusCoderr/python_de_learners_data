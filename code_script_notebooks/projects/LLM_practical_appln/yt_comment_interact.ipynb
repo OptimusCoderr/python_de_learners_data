{
 "cells": [
  {
   "cell_type": "code",
   "execution_count": 1,
   "metadata": {
    "colab": {
     "base_uri": "https://localhost:8080/"
    },
    "id": "gn-P659Faeyp",
    "outputId": "d0fa8ef4-f620-4499-f8bb-bc3629105947"
   },
   "outputs": [
    {
     "name": "stdout",
     "output_type": "stream",
     "text": [
      "\u001b[31mERROR: Invalid requirement: '–upgrade'\u001b[0m\u001b[31m\n",
      "\u001b[0m"
     ]
    }
   ],
   "source": [
    "!pip install –upgrade google-api-python-client google-auth-httplib2 google-auth-oauthlib > /dev/null"
   ]
  },
  {
   "cell_type": "markdown",
   "metadata": {},
   "source": [
    "https://github.com/youtube/api-samples/blob/master/python/comment_threads.py\n",
    "\n",
    "https://github.com/youtube/api-samples/blob/master/python/comment_handling.py"
   ]
  },
  {
   "cell_type": "markdown",
   "metadata": {},
   "source": [
    "### Want youtube video comments needs to be auto replied by LLM? \n",
    "\n",
    "- Get the Youtube Data API enabled\n",
    "\n",
    "- Get the API credentials ready from the Google Console\n",
    "\n",
    "- Find out how to get the Youtube API to work. Ask Youtube itself for the answer and a helpful video like below will be available\n",
    "https://www.youtube.com/watch?v=qz8GaznXij4\n",
    "\n",
    "- Take the code for getting the API connected, and then understand how to list, insert and reply to comments. The functions below will do the same.\n",
    "\n",
    "#### The part where LLM enters the play.\n",
    "\n",
    "- Comment for which you want the reply to be provided, has to be fed to the LLM\n",
    "\n",
    "- The comment needs to be classified, as appreciation, neutral, positive feedback, critical feedback, negative comment, a question. \n",
    "\n",
    "- If positive or neutral, just a heart felt thanks would suffice. \n",
    "\n",
    "- For the rest of the feedbacks appropriate replies needs to be provided by the LLM.These needs to be coded into the prompt template.\n",
    "\n",
    "- Some strict guidelines needs to be provided to the model, like\n",
    " \n",
    "   a) How many words the reply can be.\n",
    "   \n",
    "   b) The word feedback can be mentioned\n",
    "   \n",
    "   c) End by saying that, the issue at hand will be looked into\n",
    "   \n",
    "- For the questions the model can be allowed to answer directly.\n",
    "\n"
   ]
  },
  {
   "cell_type": "code",
   "execution_count": 1,
   "metadata": {
    "id": "7afVH21XaapM"
   },
   "outputs": [],
   "source": [
    "import os\n",
    "import datetime\n",
    "from collections import namedtuple\n",
    "from google_auth_oauthlib.flow import InstalledAppFlow\n",
    "from googleapiclient.discovery import build\n",
    "from google.oauth2.credentials import Credentials\n",
    "from google.auth.transport.requests import Request"
   ]
  },
  {
   "cell_type": "code",
   "execution_count": 2,
   "metadata": {
    "id": "2w2Yy8HkaUgE"
   },
   "outputs": [],
   "source": [
    "def create_service(client_secret_file, api_name, api_version, *scopes, prefix=''):\n",
    "    CLIENT_SECRET_FILE = client_secret_file\n",
    "    API_SERVICE_NAME = api_name\n",
    "    API_VERSION = api_version\n",
    "    SCOPES = [scope for scope in scopes[0]]\n",
    "    \n",
    "    creds = None\n",
    "    working_dir = os.getcwd()\n",
    "    token_dir = 'token files'\n",
    "    token_file = f'token_{API_SERVICE_NAME}_{API_VERSION}{prefix}.json'\n",
    "\n",
    "    ### Check if token dir exists first, if not, create the folder\n",
    "    if not os.path.exists(os.path.join(working_dir, token_dir)):\n",
    "        os.mkdir(os.path.join(working_dir, token_dir))\n",
    "\n",
    "    if os.path.exists(os.path.join(working_dir, token_dir, token_file)):\n",
    "        creds = Credentials.from_authorized_user_file(os.path.join(working_dir, token_dir, token_file), SCOPES)\n",
    "        # with open(os.path.join(working_dir, token_dir, token_file), 'rb') as token:\n",
    "        #   cred = pickle.load(token)\n",
    "\n",
    "    if not creds or not creds.valid:\n",
    "        if creds and creds.expired and creds.refresh_token:\n",
    "            creds.refresh(Request())\n",
    "        else:\n",
    "            flow = InstalledAppFlow.from_client_secrets_file(CLIENT_SECRET_FILE, SCOPES)\n",
    "            creds = flow.run_local_server(port=0)\n",
    "\n",
    "        with open(os.path.join(working_dir, token_dir, token_file), 'w') as token:\n",
    "            token.write(creds.to_json())\n",
    "\n",
    "    try:\n",
    "        service = build(API_SERVICE_NAME, API_VERSION, credentials=creds, static_discovery=False)\n",
    "        print(API_SERVICE_NAME, API_VERSION, 'service created successfully')\n",
    "        return service\n",
    "    except Exception as e:\n",
    "        print(e)\n",
    "        print(f'Failed to create service instance for {API_SERVICE_NAME}')\n",
    "        os.remove(os.path.join(working_dir, token_dir, token_file))\n",
    "        return None\n",
    "\n",
    "def convert_to_RFC_datetime(year=1900, month=1, day=1, hour=0, minute=0):\n",
    "    dt = datetime.datetime(year, month, day, hour, minute, 0).isoformat() + 'Z'\n",
    "    return dt\n"
   ]
  },
  {
   "cell_type": "code",
   "execution_count": 3,
   "metadata": {
    "id": "fwSKt6tGa46o"
   },
   "outputs": [],
   "source": [
    "CLIENT_FILE = 'client_secret.json'\n",
    "API_NAME = 'youtube'\n",
    "API_VERSION = 'v3'\n",
    "SCOPES = [\n",
    "\t'https://www.googleapis.com/auth/youtube',\n",
    "\t'https://www.googleapis.com/auth/youtube.force-ssl',\n",
    "\t'https://www.googleapis.com/auth/youtubepartner'\n",
    "]\n"
   ]
  },
  {
   "cell_type": "code",
   "execution_count": 4,
   "metadata": {
    "colab": {
     "base_uri": "https://localhost:8080/"
    },
    "id": "wZXvpsFia6-4",
    "outputId": "516ee92f-8af8-42e5-fa44-ac86ab25fb37"
   },
   "outputs": [
    {
     "name": "stdout",
     "output_type": "stream",
     "text": [
      "Please visit this URL to authorize this application: https://accounts.google.com/o/oauth2/auth?response_type=code&client_id=1005487433681-prrvprs0u0va23kr55ln9h84afvg6aqs.apps.googleusercontent.com&redirect_uri=http%3A%2F%2Flocalhost%3A42265%2F&scope=https%3A%2F%2Fwww.googleapis.com%2Fauth%2Fyoutube+https%3A%2F%2Fwww.googleapis.com%2Fauth%2Fyoutube.force-ssl+https%3A%2F%2Fwww.googleapis.com%2Fauth%2Fyoutubepartner&state=TzxPUwb4ok3kMK2oMrT9Ag6xHtJTvt&access_type=offline\n"
     ]
    },
    {
     "name": "stderr",
     "output_type": "stream",
     "text": [
      "Gtk-Message: 13:35:59.401: Failed to load module \"xapp-gtk3-module\"\n",
      "Gtk-Message: 13:35:59.402: Failed to load module \"xapp-gtk3-module\"\n",
      "Gtk-Message: 13:35:59.402: Failed to load module \"canberra-gtk-module\"\n",
      "Gtk-Message: 13:35:59.402: Failed to load module \"canberra-gtk-module\"\n",
      "[2 zypak-helper] Wait found events, but sd-event found none\n"
     ]
    },
    {
     "name": "stdout",
     "output_type": "stream",
     "text": [
      "Stub sandbox ignoring command: /app/extra/nacl_helper\n"
     ]
    },
    {
     "name": "stderr",
     "output_type": "stream",
     "text": [
      "[2:2:0425/133606.215470:ERROR:nacl_fork_delegate_linux.cc(313)] Bad NaCl helper startup ack (0 bytes)\n",
      "Gtk-Message: 13:36:07.257: Failed to load module \"xapp-gtk3-module\"\n",
      "Gtk-Message: 13:36:07.258: Failed to load module \"xapp-gtk3-module\"\n",
      "Gtk-Message: 13:36:07.258: Failed to load module \"canberra-gtk-module\"\n",
      "Gtk-Message: 13:36:07.259: Failed to load module \"canberra-gtk-module\"\n"
     ]
    },
    {
     "name": "stdout",
     "output_type": "stream",
     "text": [
      "Opening in existing browser session.\n",
      "youtube v3 service created successfully\n"
     ]
    }
   ],
   "source": [
    "service = create_service(CLIENT_FILE, API_NAME, API_VERSION, SCOPES)"
   ]
  },
  {
   "cell_type": "code",
   "execution_count": 34,
   "metadata": {},
   "outputs": [],
   "source": [
    "video_id = 'QctIBHK_ysQ'\n",
    "channel_id = 'UCRkoxQy1AuX8dT8WYnw0w-w'"
   ]
  },
  {
   "cell_type": "code",
   "execution_count": 6,
   "metadata": {},
   "outputs": [],
   "source": [
    "# Example 1. Post A Comment\n",
    "request_body = {\n",
    "\t'snippet': {\n",
    "\t\t'videoId': video_id,\n",
    "\t\t'topLevelComment': {\n",
    "\t\t\t'snippet': {\n",
    "\t\t\t\t'textOriginal': 'Hi there. Nice Video'\n",
    "\t\t\t}\n",
    "\t\t}\n",
    "\t}\n",
    "}"
   ]
  },
  {
   "cell_type": "code",
   "execution_count": 7,
   "metadata": {
    "collapsed": true
   },
   "outputs": [
    {
     "name": "stdout",
     "output_type": "stream",
     "text": [
      "{'kind': 'youtube#commentThread', 'etag': 'p04nAg-rlWXzR9Hda4T5UDaHYIY', 'id': 'Ugxu6xrUzu2wR8vkiLJ4AaABAg', 'snippet': {'channelId': 'UCRkoxQy1AuX8dT8WYnw0w-w', 'videoId': 'QctIBHK_ysQ', 'topLevelComment': {'kind': 'youtube#comment', 'etag': '_OTZ6Lvz0zxKI7iL3DmYERIsF5g', 'id': 'Ugxu6xrUzu2wR8vkiLJ4AaABAg', 'snippet': {'channelId': 'UCRkoxQy1AuX8dT8WYnw0w-w', 'videoId': 'QctIBHK_ysQ', 'textDisplay': 'Hi there. Nice Video', 'textOriginal': 'Hi there. Nice Video', 'authorDisplayName': 'M M Kamalraj', 'authorProfileImageUrl': 'https://yt3.ggpht.com/ytc/AGIKgqOKL-VUl-PxaWd8t5RqVItndFgmJAAHjpTw6LVY=s48-c-k-c0x00ffffff-no-rj', 'authorChannelUrl': 'http://www.youtube.com/channel/UCYn9rPY7ouwHAo_7P2nxTRQ', 'authorChannelId': {'value': 'UCYn9rPY7ouwHAo_7P2nxTRQ'}, 'canRate': True, 'viewerRating': 'none', 'likeCount': 0, 'publishedAt': '2023-04-25T08:08:53Z', 'updatedAt': '2023-04-25T08:08:53Z'}}, 'canReply': True, 'totalReplyCount': 0, 'isPublic': True}}\n"
     ]
    }
   ],
   "source": [
    "response = service.commentThreads().insert(\n",
    "\tpart='snippet',\n",
    "\tbody=request_body\n",
    ").execute()\n",
    "\n",
    "print(response)"
   ]
  },
  {
   "cell_type": "code",
   "execution_count": 15,
   "metadata": {},
   "outputs": [
    {
     "data": {
      "text/plain": [
       "['list', 'list_next', 'markAsSpam', 'setModerationStatus', 'update']"
      ]
     },
     "execution_count": 15,
     "metadata": {},
     "output_type": "execute_result"
    }
   ],
   "source": [
    "dir(service.comments())[-5:]"
   ]
  },
  {
   "cell_type": "code",
   "execution_count": 19,
   "metadata": {},
   "outputs": [],
   "source": [
    "request_body = {\n",
    "\t'snippet': {\n",
    "\t\t'videoId': video_id,\n",
    "    }\n",
    "}"
   ]
  },
  {
   "cell_type": "code",
   "execution_count": 36,
   "metadata": {},
   "outputs": [],
   "source": [
    "results = service.commentThreads().list(\n",
    "    part=\"snippet\",\n",
    "    videoId=video_id,\n",
    "    textFormat=\"plainText\"\n",
    "  ).execute()"
   ]
  },
  {
   "cell_type": "code",
   "execution_count": 46,
   "metadata": {},
   "outputs": [],
   "source": [
    "def get_comments(youtube, video_id):\n",
    "  results = youtube.commentThreads().list(\n",
    "    part=\"snippet\",\n",
    "    videoId=video_id,\n",
    "    #channelId='UCRkoxQy1AuX8dT8WYnw0w-w',\n",
    "    textFormat=\"plainText\"\n",
    "  ).execute()\n",
    "\n",
    "  comments = []\n",
    "  #print(results)\n",
    "  for item in results[\"items\"]:\n",
    "    comment = item[\"snippet\"][\"topLevelComment\"]\n",
    "    author = comment[\"snippet\"][\"authorDisplayName\"]\n",
    "    text = comment[\"snippet\"][\"textDisplay\"]\n",
    "    comment_id = item['id']\n",
    "    comments.append({\"comment\":text,\n",
    "                     \"comment_id\":comment_id})\n",
    "    \n",
    "  return comments"
   ]
  },
  {
   "cell_type": "code",
   "execution_count": 29,
   "metadata": {},
   "outputs": [],
   "source": [
    "def insert_comment(youtube, channel_id, video_id, text):\n",
    "  insert_result = youtube.commentThreads().insert(\n",
    "    part=\"snippet\",\n",
    "    body=dict(\n",
    "      snippet=dict(\n",
    "        channelId=channel_id,\n",
    "        videoId=video_id,\n",
    "        topLevelComment=dict(\n",
    "          snippet=dict(\n",
    "            textOriginal=text\n",
    "          )\n",
    "        )\n",
    "      )\n",
    "    )\n",
    "  ).execute()\n",
    "\n",
    "  comment = insert_result[\"snippet\"][\"topLevelComment\"]\n",
    "  author = comment[\"snippet\"][\"authorDisplayName\"]\n",
    "  text = comment[\"snippet\"][\"textDisplay\"]"
   ]
  },
  {
   "cell_type": "code",
   "execution_count": 72,
   "metadata": {},
   "outputs": [],
   "source": [
    "video_id = \"3igkDV0_qfg\""
   ]
  },
  {
   "cell_type": "code",
   "execution_count": 54,
   "metadata": {},
   "outputs": [],
   "source": [
    "def reply_comment(youtube, comment_id, text):\n",
    "  insert_result = youtube.comments().insert(\n",
    "    part=\"snippet\",\n",
    "    body=dict(\n",
    "      snippet=dict(\n",
    "        parentId=comment_id,\n",
    "        textOriginal=text\n",
    "      )\n",
    "    )\n",
    "  ).execute()\n",
    "\n",
    "  author = insert_result[\"snippet\"][\"authorDisplayName\"]\n",
    "  text = insert_result[\"snippet\"][\"textDisplay\"]"
   ]
  },
  {
   "cell_type": "code",
   "execution_count": 55,
   "metadata": {},
   "outputs": [],
   "source": [
    "reply_comment(youtube=service,\n",
    "             comment_id=comment_id,\n",
    "             text='Nice room decor video')"
   ]
  },
  {
   "cell_type": "code",
   "execution_count": 60,
   "metadata": {},
   "outputs": [],
   "source": [
    "import os\n",
    "os.environ['OPENAI_API_KEY']=''"
   ]
  },
  {
   "cell_type": "code",
   "execution_count": 67,
   "metadata": {},
   "outputs": [],
   "source": [
    "from langchain import PromptTemplate, OpenAI, LLMChain\n",
    "\n",
    "prompt_template = \"\"\"\n",
    "You are a helpful youtube comment replying bot. The following \n",
    "{comment} will be provided to you. Use following conditions to reply.\n",
    "If the comment is appreciative, positive feedback or neutral then\n",
    "reply 'Thanks for your feedback.'\n",
    "If the comment is critical feedback then reply 'Sorry for the \n",
    "inconvenience. We will look into the issue and get back'\n",
    "If the comment is a question. Then you can try to answer the question \n",
    "in 25 words. If you don't know the answer, then say you don't know.\n",
    "\"\"\"\n",
    "\n",
    "llm = OpenAI(temperature=0)\n",
    "\n",
    "llm_chain = LLMChain(\n",
    "    llm=llm,\n",
    "    prompt=PromptTemplate.from_template(prompt_template)\n",
    ")\n"
   ]
  },
  {
   "cell_type": "code",
   "execution_count": 68,
   "metadata": {},
   "outputs": [
    {
     "data": {
      "text/plain": [
       "{'comment': \"I have not seen anywhere any mention to the resolution of rendered images. How big or what size can you get from this?'\",\n",
       " 'text': \"\\nSorry, I don't know the exact resolution of the rendered images. However, you can adjust the size of the images according to your needs.\"}"
      ]
     },
     "execution_count": 68,
     "metadata": {},
     "output_type": "execute_result"
    }
   ],
   "source": [
    "llm_chain(\"\"\"I have not seen anywhere any mention to the resolution of rendered images. How big or what size can you get from this?'\"\"\")"
   ]
  },
  {
   "cell_type": "code",
   "execution_count": 69,
   "metadata": {},
   "outputs": [
    {
     "data": {
      "text/plain": [
       "{'comment': 'This is one of best videos I have watched',\n",
       " 'text': '\\nThanks for your feedback. We appreciate your support.'}"
      ]
     },
     "execution_count": 69,
     "metadata": {},
     "output_type": "execute_result"
    }
   ],
   "source": [
    "llm_chain(\"\"\"This is one of best videos I have watched\"\"\")"
   ]
  },
  {
   "cell_type": "code",
   "execution_count": 70,
   "metadata": {},
   "outputs": [
    {
     "data": {
      "text/plain": [
       "{'comment': 'This is one of the worst videos I have watched',\n",
       " 'text': '\\nSorry for the inconvenience. We will look into the issue and get back.'}"
      ]
     },
     "execution_count": 70,
     "metadata": {},
     "output_type": "execute_result"
    }
   ],
   "source": [
    "llm_chain(\"\"\"This is one of the worst videos I have watched\"\"\")"
   ]
  },
  {
   "cell_type": "code",
   "execution_count": 71,
   "metadata": {},
   "outputs": [
    {
     "data": {
      "text/plain": [
       "{'comment': 'This is an informative video',\n",
       " 'text': '\\nThanks for your feedback! We appreciate your support.'}"
      ]
     },
     "execution_count": 71,
     "metadata": {},
     "output_type": "execute_result"
    }
   ],
   "source": [
    "llm_chain(\"\"\"This is an informative video\"\"\")"
   ]
  },
  {
   "cell_type": "code",
   "execution_count": 75,
   "metadata": {},
   "outputs": [],
   "source": []
  },
  {
   "cell_type": "code",
   "execution_count": 76,
   "metadata": {},
   "outputs": [],
   "source": [
    "comments = get_comments(youtube=service,\n",
    "                       video_id=videoId)"
   ]
  },
  {
   "cell_type": "code",
   "execution_count": 77,
   "metadata": {},
   "outputs": [
    {
     "data": {
      "text/plain": [
       "[{'comment': 'good explanation! please continue doing this. Just few suggestions to improve viewer experience: please try to avoid quick screen scrolling up and down, also, sometimes sound a little loud and its hard to keep listening. \\nBut in general very good education content, thank you 🙏',\n",
       "  'comment_id': 'UgzuXk0Zw7C1ZvQgzoB4AaABAg'},\n",
       " {'comment': 'Really applaud your content on different topics on langchain and LLMs. Keep doing it. These videos can be useful to so many people in the present and future too.',\n",
       "  'comment_id': 'Ugyb4aic1Qsz8ckOLjh4AaABAg'},\n",
       " {'comment': 'Amazing Content Bro🔥',\n",
       "  'comment_id': 'UgzSGu9jHUDqVSlQc4t4AaABAg'},\n",
       " {'comment': 'Chatgpt is limited till 2021, otherwise, we can ask chatgpt itself to generate code using langchain framework.',\n",
       "  'comment_id': 'Ugx83T-E_hUAaX6y7DV4AaABAg'},\n",
       " {'comment': 'Amazing! Been working through this very thing! And I put all your notebooks in my Pycharm and run it through the editor and have been having a ton of fun…keep ‘em coming and THANK YOU!🦾🤓🤖',\n",
       "  'comment_id': 'Ugy_gQYm7_SOGRewO8h4AaABAg'},\n",
       " {'comment': 'Great explanation...!!!  thank you',\n",
       "  'comment_id': 'Ugxo4vfJimZuhGZDOfR4AaABAg'}]"
      ]
     },
     "execution_count": 77,
     "metadata": {},
     "output_type": "execute_result"
    }
   ],
   "source": [
    "#get the comments\n",
    "comments"
   ]
  },
  {
   "cell_type": "code",
   "execution_count": 81,
   "metadata": {},
   "outputs": [
    {
     "name": "stdout",
     "output_type": "stream",
     "text": [
      "6\n",
      "testing comment... applaudable video\n",
      "\n",
      "Comment: This video was really helpful.\n",
      "\n",
      "Thanks for your feedback.\n",
      "testing comment... applaudable video\n",
      "\n",
      "Comment: This video was really helpful.\n",
      "\n",
      "Thanks for your feedback.\n"
     ]
    },
    {
     "ename": "KeyboardInterrupt",
     "evalue": "",
     "output_type": "error",
     "traceback": [
      "\u001b[0;31m---------------------------------------------------------------------------\u001b[0m",
      "\u001b[0;31mKeyboardInterrupt\u001b[0m                         Traceback (most recent call last)",
      "Cell \u001b[0;32mIn[81], line 35\u001b[0m\n\u001b[1;32m     29\u001b[0m     reply_comment(youtube\u001b[38;5;241m=\u001b[39mservice,\n\u001b[1;32m     30\u001b[0m                   comment_id\u001b[38;5;241m=\u001b[39mrecent_id, \n\u001b[1;32m     31\u001b[0m                   text\u001b[38;5;241m=\u001b[39mllm_reply)\n\u001b[1;32m     33\u001b[0m \u001b[38;5;66;03m#Sleep for 5 minutes\u001b[39;00m\n\u001b[0;32m---> 35\u001b[0m \u001b[43mtime\u001b[49m\u001b[38;5;241;43m.\u001b[39;49m\u001b[43msleep\u001b[49m\u001b[43m(\u001b[49m\u001b[38;5;241;43m30\u001b[39;49m\u001b[43m)\u001b[49m\n",
      "\u001b[0;31mKeyboardInterrupt\u001b[0m: "
     ]
    }
   ],
   "source": [
    "import time\n",
    "\n",
    "#decide the video you want to automate\n",
    "videoId = '3igkDV0_qfg'\n",
    "\n",
    "#get the present comments \n",
    "\n",
    "initial_comments = len(get_comments(youtube=service,video_id=videoId))\n",
    "print(initial_comments)\n",
    "\n",
    "#the logic will be in endless loop\n",
    "while True:\n",
    "    \n",
    "    new_comments = get_comments(youtube=service,\n",
    "                       video_id=videoId) \n",
    "    \n",
    "    if len(new_comments) > initial_comments:\n",
    "        \n",
    "        recent_comment = new_comments[0]['comment']\n",
    "        \n",
    "        recent_id = new_comments[0]['comment_id']\n",
    "        \n",
    "        print(recent_comment)\n",
    "        \n",
    "        llm_reply = llm_chain(recent_comment)['text']\n",
    "        \n",
    "        print(llm_reply)\n",
    "        \n",
    "        reply_comment(youtube=service,\n",
    "                      comment_id=recent_id, \n",
    "                      text=llm_reply)\n",
    "    \n",
    "    #Sleep for 5 minutes\n",
    "    \n",
    "    time.sleep(30)"
   ]
  },
  {
   "cell_type": "code",
   "execution_count": null,
   "metadata": {},
   "outputs": [],
   "source": []
  },
  {
   "cell_type": "code",
   "execution_count": null,
   "metadata": {},
   "outputs": [],
   "source": []
  }
 ],
 "metadata": {
  "colab": {
   "provenance": []
  },
  "kernelspec": {
   "display_name": "Python 3 (ipykernel)",
   "language": "python",
   "name": "python3"
  },
  "language_info": {
   "codemirror_mode": {
    "name": "ipython",
    "version": 3
   },
   "file_extension": ".py",
   "mimetype": "text/x-python",
   "name": "python",
   "nbconvert_exporter": "python",
   "pygments_lexer": "ipython3",
   "version": "3.10.9"
  }
 },
 "nbformat": 4,
 "nbformat_minor": 1
}
