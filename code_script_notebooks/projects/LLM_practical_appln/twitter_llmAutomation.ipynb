{
  "cells": [
    {
      "cell_type": "code",
      "execution_count": 1,
      "id": "80aa1aa2",
      "metadata": {
        "id": "80aa1aa2"
      },
      "outputs": [],
      "source": [
        "import tweepy\n",
        "import pandas as pd \n",
        "import json\n",
        "from datetime import datetime"
      ]
    },
    {
      "cell_type": "code",
      "execution_count": 2,
      "id": "f7e44bf2",
      "metadata": {
        "id": "f7e44bf2"
      },
      "outputs": [],
      "source": [
        "import configparser"
      ]
    },
    {
      "cell_type": "code",
      "execution_count": 24,
      "id": "de71f16c",
      "metadata": {
        "id": "de71f16c"
      },
      "outputs": [],
      "source": [
        "config = configparser.ConfigParser()"
      ]
    },
    {
      "cell_type": "code",
      "execution_count": 25,
      "id": "954d67d7",
      "metadata": {
        "id": "954d67d7"
      },
      "outputs": [],
      "source": [
        "config.read_file(open('clustwiter.config'))"
      ]
    },
    {
      "cell_type": "markdown",
      "id": "0f4825ce",
      "metadata": {
        "id": "0f4825ce"
      },
      "source": [
        "**API key and secret:**\n",
        "\n",
        "Think of these as the user name and password that represents your Twitter developer app when making API requests. \n",
        "\n",
        "oauth_consumer_key\n",
        "\n",
        "oauth_consumer_secret\n",
        "\n",
        "\n",
        "**Access token and secret:**\n",
        "An access token and access token secret are user-specific credentials used to authenticate OAuth 1.0a API requests. They specify the Twitter account the request is made on behalf of.\n",
        "\n",
        "You can generate your own access token and token secret if you would like your app to make requests on behalf of the same Twitter account associated with your developer account on the Twitter developer app's details page.\n",
        "\n",
        "oauth_token\n",
        "\n",
        "oauth_token_secret\n"
      ]
    },
    {
      "cell_type": "code",
      "execution_count": 91,
      "id": "53523d09",
      "metadata": {
        "id": "53523d09"
      },
      "outputs": [],
      "source": [
        "access_key = config['TWITTER']['access_token'] \n",
        "access_secret = config['TWITTER']['access_secret']\n",
        "consumer_key = config['TWITTER']['api_key']\n",
        "consumer_secret = config['TWITTER']['api_secret']"
      ]
    },
    {
      "cell_type": "code",
      "execution_count": 92,
      "id": "d9045115",
      "metadata": {
        "id": "d9045115"
      },
      "outputs": [],
      "source": [
        "bearerToken = config['TWITTER']['bearer_token']"
      ]
    },
    {
      "cell_type": "code",
      "execution_count": 93,
      "id": "f4a26735",
      "metadata": {
        "id": "f4a26735"
      },
      "outputs": [],
      "source": [
        "pulseBearer = config['PULSE']['bearer_token']"
      ]
    },
    {
      "cell_type": "code",
      "execution_count": 94,
      "id": "d3934444",
      "metadata": {
        "id": "d3934444"
      },
      "outputs": [],
      "source": [
        "auth = tweepy.OAuthHandler(consumer_key, consumer_secret)"
      ]
    },
    {
      "cell_type": "code",
      "execution_count": 95,
      "id": "16a70376",
      "metadata": {
        "id": "16a70376"
      },
      "outputs": [],
      "source": [
        "auth.set_access_token(access_key, access_secret)"
      ]
    },
    {
      "cell_type": "code",
      "execution_count": 96,
      "id": "d875eb05",
      "metadata": {
        "id": "d875eb05"
      },
      "outputs": [],
      "source": [
        "api = tweepy.API(auth)"
      ]
    },
    {
      "cell_type": "code",
      "execution_count": 15,
      "id": "add69f09",
      "metadata": {
        "scrolled": true,
        "id": "add69f09"
      },
      "outputs": [],
      "source": [
        "public_tweets = api.home_timeline()"
      ]
    },
    {
      "cell_type": "code",
      "execution_count": null,
      "id": "89817bba",
      "metadata": {
        "id": "89817bba"
      },
      "outputs": [],
      "source": [
        "for tweet in public_tweets[:5]:\n",
        "    print(tweet.author.id)\n",
        "    print(tweet.author.name)\n",
        "    print(tweet.author.screen_name)\n",
        "    print(tweet.text)\n",
        "    print(tweet.retweet_count)"
      ]
    },
    {
      "cell_type": "code",
      "source": [
        "home_tweet = []\n",
        "for tweet in public_tweets:\n",
        "  home_tweet.append(tweet.text)\n",
        "\n",
        "home_tweet = '\\n'.join(home_tweet[-5:])"
      ],
      "metadata": {
        "id": "NR1r5-DCCIRc"
      },
      "id": "NR1r5-DCCIRc",
      "execution_count": 35,
      "outputs": []
    },
    {
      "cell_type": "code",
      "execution_count": null,
      "id": "f0888d88",
      "metadata": {
        "scrolled": true,
        "id": "f0888d88"
      },
      "outputs": [],
      "source": [
        "api.search_tweets(\"langchain\")"
      ]
    },
    {
      "cell_type": "markdown",
      "id": "b73c01f6",
      "metadata": {
        "id": "b73c01f6"
      },
      "source": [
        "https://docs.tweepy.org/en/stable/examples.html"
      ]
    },
    {
      "cell_type": "code",
      "execution_count": 27,
      "id": "3d1a0ba2",
      "metadata": {
        "id": "3d1a0ba2"
      },
      "outputs": [],
      "source": [
        "client = tweepy.Client(consumer_key=consumer_key,\n",
        "                       consumer_secret=consumer_secret,\n",
        "                       access_token=access_key,\n",
        "                       access_token_secret=access_secret)"
      ]
    },
    {
      "cell_type": "code",
      "source": [
        "response = client.create_tweet(text=\"\"\"This is a tweet that passed through the Python machination\n",
        "and reached the light of the twitter timeline\"\"\")"
      ],
      "metadata": {
        "id": "PSbcinFJ-yCL"
      },
      "id": "PSbcinFJ-yCL",
      "execution_count": 28,
      "outputs": []
    },
    {
      "cell_type": "code",
      "source": [
        "!pip -q install huggingface_hub langchain openai tiktoken > /dev/null"
      ],
      "metadata": {
        "id": "JW_diqZXDEBb"
      },
      "id": "JW_diqZXDEBb",
      "execution_count": 80,
      "outputs": []
    },
    {
      "cell_type": "code",
      "source": [
        "import os\n",
        "os.environ[\"OPENAI_API_KEY\"] = ''"
      ],
      "metadata": {
        "id": "__iSNhZsDD7U"
      },
      "id": "__iSNhZsDD7U",
      "execution_count": 82,
      "outputs": []
    },
    {
      "cell_type": "code",
      "source": [
        "from langchain import PromptTemplate, LLMChain\n",
        "from langchain.llms import OpenAI\n",
        "\n",
        "template = \"\"\"Write a haiku from the following data.  \n",
        "{Data}\"\"\"\n",
        "\n",
        "prompt = PromptTemplate(template=template, \n",
        "                        input_variables=[\"Data\"])\n",
        "\n",
        "llm_chain = LLMChain(prompt=prompt, \n",
        "                     llm=OpenAI(temperature=0))"
      ],
      "metadata": {
        "id": "s9wXZyym-yLh"
      },
      "id": "s9wXZyym-yLh",
      "execution_count": 86,
      "outputs": []
    },
    {
      "cell_type": "code",
      "source": [
        "print(llm_chain.run(home_tweet))"
      ],
      "metadata": {
        "colab": {
          "base_uri": "https://localhost:8080/"
        },
        "id": "oyuKTx-vEi1D",
        "outputId": "a34fdfdd-cf38-4a23-e109-cdf5250600e1"
      },
      "id": "oyuKTx-vEi1D",
      "execution_count": 88,
      "outputs": [
        {
          "output_type": "stream",
          "name": "stdout",
          "text": [
            "\n",
            "\n",
            "Voice reveals health\n",
            "Rival factions refuse peace\n",
            "Green bonds finance low-carbon\n"
          ]
        }
      ]
    },
    {
      "cell_type": "code",
      "source": [
        "def post_tweet(llmChain):\n",
        "  public_tweets = api.home_timeline()\n",
        "  \n",
        "  home_tweet = []\n",
        "\n",
        "  for tweet in public_tweets:\n",
        "    home_tweet.append(tweet.text)\n",
        "\n",
        "  home_tweet = '\\n'.join(home_tweet[-5:])\n",
        "\n",
        "  haiku = llmChain.run(home_tweet)\n",
        "\n",
        "  response = client.create_tweet(text=haiku+\" #MadeByAI\")\n",
        "\n",
        "  return response"
      ],
      "metadata": {
        "id": "1rTjRBVfJAv2"
      },
      "id": "1rTjRBVfJAv2",
      "execution_count": 101,
      "outputs": []
    },
    {
      "cell_type": "code",
      "source": [
        "status = post_tweet(llmChain=llm_chain)"
      ],
      "metadata": {
        "id": "SqjO9EK6JAm2"
      },
      "id": "SqjO9EK6JAm2",
      "execution_count": 102,
      "outputs": []
    },
    {
      "cell_type": "code",
      "source": [
        "status"
      ],
      "metadata": {
        "colab": {
          "base_uri": "https://localhost:8080/"
        },
        "id": "nqJ0FfpvJAd9",
        "outputId": "a74e5002-bc6c-4538-ada3-5a2f0fc47b4e"
      },
      "id": "nqJ0FfpvJAd9",
      "execution_count": 103,
      "outputs": [
        {
          "output_type": "execute_result",
          "data": {
            "text/plain": [
              "Response(data={'edit_history_tweet_ids': ['1650898545535520768'], 'id': '1650898545535520768', 'text': \"Iron stool nailed down\\nTiny window, no escape seen\\nInflation's harsh toll #MadeByAI\"}, includes={}, errors=[], meta={})"
            ]
          },
          "metadata": {},
          "execution_count": 103
        }
      ]
    }
  ],
  "metadata": {
    "kernelspec": {
      "display_name": "Python 3 (ipykernel)",
      "language": "python",
      "name": "python3"
    },
    "language_info": {
      "codemirror_mode": {
        "name": "ipython",
        "version": 3
      },
      "file_extension": ".py",
      "mimetype": "text/x-python",
      "name": "python",
      "nbconvert_exporter": "python",
      "pygments_lexer": "ipython3",
      "version": "3.10.8"
    },
    "colab": {
      "provenance": []
    }
  },
  "nbformat": 4,
  "nbformat_minor": 5
}