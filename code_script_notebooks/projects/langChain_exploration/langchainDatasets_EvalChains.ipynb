{
  "nbformat": 4,
  "nbformat_minor": 0,
  "metadata": {
    "colab": {
      "provenance": []
    },
    "kernelspec": {
      "name": "python3",
      "display_name": "Python 3"
    },
    "language_info": {
      "name": "python"
    }
  },
  "cells": [
    {
      "cell_type": "code",
      "execution_count": null,
      "metadata": {
        "id": "WO58M43r6c8d"
      },
      "outputs": [],
      "source": [
        "!pip -q install langchain openai tiktoken huggingface_hub"
      ]
    },
    {
      "cell_type": "code",
      "source": [
        "!pip -q install transformers datasets"
      ],
      "metadata": {
        "id": "_rMrXTnkEdpF"
      },
      "execution_count": null,
      "outputs": []
    },
    {
      "cell_type": "code",
      "source": [
        "from langchain.evaluation.loading import load_dataset\n",
        "dataset = load_dataset(\"question-answering-state-of-the-union\")"
      ],
      "metadata": {
        "id": "u70yR5y2EX6I"
      },
      "execution_count": null,
      "outputs": []
    },
    {
      "cell_type": "code",
      "source": [
        "dataset[0]"
      ],
      "metadata": {
        "colab": {
          "base_uri": "https://localhost:8080/"
        },
        "id": "8sL3sh7VFT9v",
        "outputId": "9baa5320-4a7b-4712-b0c6-c3bde4fa4976"
      },
      "execution_count": 9,
      "outputs": [
        {
          "output_type": "execute_result",
          "data": {
            "text/plain": [
              "{'question': 'What is the purpose of the NATO Alliance?',\n",
              " 'answer': 'The purpose of the NATO Alliance is to secure peace and stability in Europe after World War 2.'}"
            ]
          },
          "metadata": {},
          "execution_count": 9
        }
      ]
    },
    {
      "cell_type": "code",
      "source": [
        "from langchain.chat_models import ChatOpenAI\n",
        "from langchain.llms import OpenAI\n",
        "from langchain.chains import QAGenerationChain"
      ],
      "metadata": {
        "id": "kwfb2QgiFj2G"
      },
      "execution_count": 58,
      "outputs": []
    },
    {
      "cell_type": "code",
      "source": [
        "with open('/content/vim_play.txt') as vim:\n",
        "  data = vim.read()"
      ],
      "metadata": {
        "id": "luh3Wmv1Fmoe"
      },
      "execution_count": 11,
      "outputs": []
    },
    {
      "cell_type": "code",
      "source": [
        "from langchain.text_splitter import RecursiveCharacterTextSplitter\n",
        "\n",
        "vim_split = RecursiveCharacterTextSplitter(chunk_size=100,\n",
        "                                           chunk_overlap=25,\n",
        "                                           length_function=len)"
      ],
      "metadata": {
        "id": "cirh7wetGD1e"
      },
      "execution_count": 12,
      "outputs": []
    },
    {
      "cell_type": "code",
      "source": [
        "text_docs = vim_split.split_text(data)"
      ],
      "metadata": {
        "id": "sajH5IniGT4F"
      },
      "execution_count": 14,
      "outputs": []
    },
    {
      "cell_type": "code",
      "source": [
        "import os\n",
        "os.environ['OPENAI_API_KEY']=''"
      ],
      "metadata": {
        "id": "baZZNj6YG3BX"
      },
      "execution_count": 45,
      "outputs": []
    },
    {
      "cell_type": "code",
      "source": [
        "chain = QAGenerationChain.from_llm(ChatOpenAI(temperature = 0))"
      ],
      "metadata": {
        "id": "hXOjqHLSGWBw"
      },
      "execution_count": 62,
      "outputs": []
    },
    {
      "cell_type": "code",
      "source": [
        "qa = chain.run(text_docs[0:5])"
      ],
      "metadata": {
        "id": "Ml739SGcGWHw"
      },
      "execution_count": 40,
      "outputs": []
    },
    {
      "cell_type": "code",
      "source": [
        "text_docs[0]"
      ],
      "metadata": {
        "colab": {
          "base_uri": "https://localhost:8080/",
          "height": 36
        },
        "id": "zVSCU0OsM5EG",
        "outputId": "5dcf2cd5-54a6-407e-805d-07c46f354d7b"
      },
      "execution_count": 61,
      "outputs": [
        {
          "output_type": "execute_result",
          "data": {
            "text/plain": [
              "'Vim Play book inside the SpaceVim flavor'"
            ],
            "application/vnd.google.colaboratory.intrinsic+json": {
              "type": "string"
            }
          },
          "metadata": {},
          "execution_count": 61
        }
      ]
    },
    {
      "cell_type": "code",
      "source": [
        "chain.run(text_docs[0])"
      ],
      "metadata": {
        "colab": {
          "base_uri": "https://localhost:8080/"
        },
        "id": "ipTRyHfQMVyc",
        "outputId": "d1b721d7-8482-447b-9a00-1c58e561702f"
      },
      "execution_count": 63,
      "outputs": [
        {
          "output_type": "execute_result",
          "data": {
            "text/plain": [
              "[{'question': 'What is the Vim Play book?',\n",
              "  'answer': 'The Vim Play book is a feature inside the SpaceVim flavor.'}]"
            ]
          },
          "metadata": {},
          "execution_count": 63
        }
      ]
    },
    {
      "cell_type": "code",
      "source": [
        "import time\n",
        "qa_dataset = []\n",
        "\n",
        "for l in text_docs[:5]:\n",
        "  time.sleep(60)\n",
        "  data_gen = chain.run(l)\n",
        "  qa_dataset.append(data_gen)"
      ],
      "metadata": {
        "id": "z-MKpEcALzZ1"
      },
      "execution_count": 64,
      "outputs": []
    },
    {
      "cell_type": "code",
      "source": [
        "qa_dataset = [l[0] for l in qa_dataset]"
      ],
      "metadata": {
        "id": "gXPTXD2vGWMu"
      },
      "execution_count": 69,
      "outputs": []
    },
    {
      "cell_type": "code",
      "source": [
        "from langchain.chains import RetrievalQA\n",
        "from langchain.llms import OpenAI\n",
        "from langchain.embeddings.openai import OpenAIEmbeddings"
      ],
      "metadata": {
        "id": "kvFrU_mmGWSh"
      },
      "execution_count": 22,
      "outputs": []
    },
    {
      "cell_type": "code",
      "source": [
        "!pip install faiss-cpu"
      ],
      "metadata": {
        "id": "P7p3Gs6SIcUC"
      },
      "execution_count": null,
      "outputs": []
    },
    {
      "cell_type": "code",
      "source": [
        "from langchain.vectorstores import FAISS"
      ],
      "metadata": {
        "id": "v_iOzfx0GD_U"
      },
      "execution_count": 23,
      "outputs": []
    },
    {
      "cell_type": "code",
      "source": [
        "embed_func = OpenAIEmbeddings()"
      ],
      "metadata": {
        "id": "A0-BX1KjGELL"
      },
      "execution_count": 24,
      "outputs": []
    },
    {
      "cell_type": "code",
      "source": [
        "faissDB = FAISS.from_texts(texts=text_docs[:2],\n",
        "                           embedding=embed_func)"
      ],
      "metadata": {
        "id": "SHgEuk_rIzk5"
      },
      "execution_count": 26,
      "outputs": []
    },
    {
      "cell_type": "code",
      "source": [
        "eval_chain = RetrievalQA.from_chain_type(llm=OpenAI(), \n",
        "                                         chain_type=\"stuff\",\n",
        "                                         retriever=faissDB.as_retriever(), \n",
        "                                         input_key=\"question\")"
      ],
      "metadata": {
        "id": "8p-zJF3vIzfQ"
      },
      "execution_count": 35,
      "outputs": []
    },
    {
      "cell_type": "code",
      "source": [
        "len(qa)"
      ],
      "metadata": {
        "colab": {
          "base_uri": "https://localhost:8080/"
        },
        "id": "gd4cjp1HJiZB",
        "outputId": "a8d5b336-070d-495d-e20d-754c9fc31090"
      },
      "execution_count": 30,
      "outputs": [
        {
          "output_type": "execute_result",
          "data": {
            "text/plain": [
              "1"
            ]
          },
          "metadata": {},
          "execution_count": 30
        }
      ]
    },
    {
      "cell_type": "code",
      "source": [
        "predictions = eval_chain.apply(qa_dataset)"
      ],
      "metadata": {
        "id": "SIP_dtn0JRJC"
      },
      "execution_count": 71,
      "outputs": []
    },
    {
      "cell_type": "code",
      "source": [
        "predictions[0]"
      ],
      "metadata": {
        "colab": {
          "base_uri": "https://localhost:8080/"
        },
        "id": "XoiVFzvkQbcv",
        "outputId": "786ce814-a2b5-4c70-be0c-5dfbffd53806"
      },
      "execution_count": 72,
      "outputs": [
        {
          "output_type": "execute_result",
          "data": {
            "text/plain": [
              "{'question': 'What is the Vim Play book?',\n",
              " 'answer': 'The Vim Play book is a feature inside the SpaceVim flavor.',\n",
              " 'result': ' The Vim Play book is a document inside the SpaceVim flavor that lists the various activities.'}"
            ]
          },
          "metadata": {},
          "execution_count": 72
        }
      ]
    },
    {
      "cell_type": "code",
      "source": [
        "from langchain.evaluation.qa import QAEvalChain"
      ],
      "metadata": {
        "id": "loh5xOz7JwVY"
      },
      "execution_count": 31,
      "outputs": []
    },
    {
      "cell_type": "code",
      "source": [
        "llm = OpenAI(temperature=0)\n",
        "qaeval_chain = QAEvalChain.from_llm(llm)"
      ],
      "metadata": {
        "id": "5Jp75k1DJwRE"
      },
      "execution_count": 37,
      "outputs": []
    },
    {
      "cell_type": "code",
      "source": [
        "graded_outputs = qaeval_chain.evaluate(qa_dataset, \n",
        "                                     predictions, \n",
        "                                     question_key=\"question\", \n",
        "                                     prediction_key=\"result\")"
      ],
      "metadata": {
        "id": "dgmQ6owUJwLE"
      },
      "execution_count": 73,
      "outputs": []
    },
    {
      "cell_type": "code",
      "source": [
        "graded_outputs"
      ],
      "metadata": {
        "colab": {
          "base_uri": "https://localhost:8080/"
        },
        "id": "W9vXNEboQibk",
        "outputId": "8d510b58-2ce4-4249-d126-9d4e82593866"
      },
      "execution_count": 74,
      "outputs": [
        {
          "output_type": "execute_result",
          "data": {
            "text/plain": [
              "[{'text': ' CORRECT'},\n",
              " {'text': ' CORRECT'},\n",
              " {'text': ' INCORRECT'},\n",
              " {'text': ' CORRECT'},\n",
              " {'text': ' INCORRECT'}]"
            ]
          },
          "metadata": {},
          "execution_count": 74
        }
      ]
    }
  ]
}