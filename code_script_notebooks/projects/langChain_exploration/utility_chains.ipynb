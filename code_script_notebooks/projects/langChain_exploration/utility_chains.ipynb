{
  "nbformat": 4,
  "nbformat_minor": 0,
  "metadata": {
    "colab": {
      "provenance": []
    },
    "kernelspec": {
      "name": "python3",
      "display_name": "Python 3"
    },
    "language_info": {
      "name": "python"
    }
  },
  "cells": [
    {
      "cell_type": "code",
      "execution_count": null,
      "metadata": {
        "id": "6hJhhPPF_nX8"
      },
      "outputs": [],
      "source": [
        "!pip install langchain[all] chromadb\n",
        "!pip install layoutparser[layoutmodels,tesseract]\n",
        "!pip install unstructured\n",
        "!pip install unstructured[local-inference]\n",
        "!pip install --ignore-installed Pillow==9.0.0"
      ]
    },
    {
      "cell_type": "code",
      "source": [
        "!pip install configparser"
      ],
      "metadata": {
        "id": "ucJ31ot-PuNL"
      },
      "execution_count": null,
      "outputs": []
    },
    {
      "cell_type": "code",
      "source": [
        "import configparser\n",
        "api_config = configparser.ConfigParser()\n",
        "api_config.read_file(open('apidata.config'))"
      ],
      "metadata": {
        "id": "qug7p5bkPwWV"
      },
      "execution_count": 11,
      "outputs": []
    },
    {
      "cell_type": "code",
      "source": [
        "import os\n",
        "os.environ['OPENAI_API_KEY'] = api_config[\"OPENAI\"][\"KEY\"]\n",
        "os.environ['SERPAPI_API_KEY']=api_config[\"OPENAI\"][\"SERPAPI_KEY\"]\n",
        "os.environ['SERPER_API_KEY']=api_config[\"OPENAI\"][\"SERPER_KEY\"]\n",
        "os.environ['WOLFRAM_ALPHA_APPID']= api_config[\"OPENAI\"][\"WOLF\"]\n",
        "os.environ['COHERE_KEY']=api_config['OPENAI']['COHERE']"
      ],
      "metadata": {
        "id": "vo5o9wJa_yxh"
      },
      "execution_count": 5,
      "outputs": []
    },
    {
      "cell_type": "code",
      "source": [
        "from langchain.llms import OpenAI"
      ],
      "metadata": {
        "id": "xg7sMJxfAJBb"
      },
      "execution_count": 6,
      "outputs": []
    },
    {
      "cell_type": "code",
      "source": [
        "fact_llm = OpenAI(temperature=0)"
      ],
      "metadata": {
        "id": "8fEKWZqSyUzE"
      },
      "execution_count": 7,
      "outputs": []
    },
    {
      "cell_type": "code",
      "source": [
        "from langchain.chains.api.prompt import API_RESPONSE_PROMPT\n",
        "\n",
        "from langchain.chains import APIChain\n",
        "from langchain.prompts.prompt import PromptTemplate"
      ],
      "metadata": {
        "id": "UxsLCTfJL9PW"
      },
      "execution_count": 8,
      "outputs": []
    },
    {
      "cell_type": "code",
      "source": [
        "from langchain.chains.api import open_meteo_docs\n",
        "\n",
        "chain_new = APIChain.from_llm_and_api_docs(fact_llm, \n",
        "                                           open_meteo_docs.OPEN_METEO_DOCS,\n",
        "                                           verbose=True)"
      ],
      "metadata": {
        "id": "EjfbnM_3L9nQ"
      },
      "execution_count": 9,
      "outputs": []
    },
    {
      "cell_type": "code",
      "source": [
        "chain_new.run(\"What is the weather now in Greenland?\")"
      ],
      "metadata": {
        "colab": {
          "base_uri": "https://localhost:8080/",
          "height": 201
        },
        "id": "mBjqvakqL9wA",
        "outputId": "72b46c93-3e4d-4fb0-b6ed-be90b17db3c7"
      },
      "execution_count": 10,
      "outputs": [
        {
          "output_type": "stream",
          "name": "stdout",
          "text": [
            "\n",
            "\n",
            "\u001b[1m> Entering new APIChain chain...\u001b[0m\n",
            "\u001b[32;1m\u001b[1;3mhttps://api.open-meteo.com/v1/forecast?latitude=13.0827&longitude=80.2707&current_weather=true&temperature_unit=celsius&windspeed_unit=kmh&precipitation_unit=mm&timezone=auto\u001b[0m\n",
            "\u001b[33;1m\u001b[1;3m{\"latitude\":13.0,\"longitude\":80.125,\"generationtime_ms\":1.434922218322754,\"utc_offset_seconds\":18000,\"timezone\":\"Asia/Kolkata\",\"timezone_abbreviation\":\"IST\",\"elevation\":12.0,\"current_weather\":{\"temperature\":28.7,\"windspeed\":8.7,\"winddirection\":73.0,\"weathercode\":95,\"time\":\"2023-03-17T15:00\"}}\u001b[0m\n",
            "\n",
            "\u001b[1m> Finished chain.\u001b[0m\n"
          ]
        },
        {
          "output_type": "execute_result",
          "data": {
            "text/plain": [
              "' The current weather in Chennai, Tamil Nadu is 28.7°C with a windspeed of 8.7 km/h and a wind direction of 73°. The weather code is 95.'"
            ],
            "application/vnd.google.colaboratory.intrinsic+json": {
              "type": "string"
            }
          },
          "metadata": {},
          "execution_count": 10
        }
      ]
    },
    {
      "cell_type": "code",
      "source": [
        "os.environ['TMDB_BEARER_TOKEN'] = api_config['OPENAI']['TMDBREAD']"
      ],
      "metadata": {
        "id": "npBh1HKZOPTJ"
      },
      "execution_count": 16,
      "outputs": []
    },
    {
      "cell_type": "code",
      "source": [
        "from langchain.chains.api import tmdb_docs\n",
        "headers = {\"Authorization\": f\"Bearer {os.environ['TMDB_BEARER_TOKEN']}\"}\n",
        "chain = APIChain.from_llm_and_api_docs(fact_llm, \n",
        "                                       tmdb_docs.TMDB_DOCS, \n",
        "                                       headers=headers, \n",
        "                                       verbose=True)"
      ],
      "metadata": {
        "id": "IlYwxnFSL92G"
      },
      "execution_count": 17,
      "outputs": []
    },
    {
      "cell_type": "code",
      "source": [
        "chain.run(\"Search for TopGun\")"
      ],
      "metadata": {
        "colab": {
          "base_uri": "https://localhost:8080/",
          "height": 201
        },
        "id": "KPuOpxKqL97m",
        "outputId": "ba227593-4251-451e-85b8-9a33345b0cc3"
      },
      "execution_count": 18,
      "outputs": [
        {
          "output_type": "stream",
          "name": "stdout",
          "text": [
            "\n",
            "\n",
            "\u001b[1m> Entering new APIChain chain...\u001b[0m\n",
            "\u001b[32;1m\u001b[1;3m https://api.themoviedb.org/3/search/movie?query=Varisu&language=en-US\u001b[0m\n",
            "\u001b[33;1m\u001b[1;3m{\"page\":1,\"results\":[{\"adult\":false,\"backdrop_path\":\"/fjd6RKx4Zh8UKQfjpSSkM53eJw6.jpg\",\"genre_ids\":[28,18,35,10751],\"id\":835017,\"original_language\":\"ta\",\"original_title\":\"வாரிசு\",\"overview\":\"Vijay, The prodigal son of business tycoon Rajendran agrees to take over the reins of the business, much to the chagrin of his brothers. But can Vijay prove himself to be a worthy varisu and also reunite his now-broken family?\",\"popularity\":21.927,\"poster_path\":\"/iMUIsV6u0pPqfv1j8tGxbJw40sw.jpg\",\"release_date\":\"2023-01-11\",\"title\":\"Varisu\",\"video\":false,\"vote_average\":6.353,\"vote_count\":17},{\"adult\":false,\"backdrop_path\":\"/mz7HnqazpyfQkHAn7voayIiKRbG.jpg\",\"genre_ids\":[18,28,80],\"id\":66282,\"original_language\":\"ta\",\"original_title\":\"அடுத்த வாரிசு\",\"overview\":\"When the sole person to inherit the family wealth is missing, her grandmother desperately searches for her. A conniving relative, who also killed the girl's parents, finds a look-alike to help him gain the wealth.\",\"popularity\":1.259,\"poster_path\":\"/woe2j15wKeuXFA2AortdezKBvos.jpg\",\"release_date\":\"1983-07-07\",\"title\":\"Adutha Varisu\",\"video\":false,\"vote_average\":5.5,\"vote_count\":2},{\"adult\":false,\"backdrop_path\":null,\"genre_ids\":[35],\"id\":953264,\"original_language\":\"ta\",\"original_title\":\"புது வாரிசு\",\"overview\":\"\",\"popularity\":2.394,\"poster_path\":null,\"release_date\":\"1990-01-01\",\"title\":\"Pudhu Varisu\",\"video\":false,\"vote_average\":0.0,\"vote_count\":0}],\"total_pages\":1,\"total_results\":3}\u001b[0m\n",
            "\n",
            "\u001b[1m> Finished chain.\u001b[0m\n"
          ]
        },
        {
          "output_type": "execute_result",
          "data": {
            "text/plain": [
              "' The API response contains 3 movies related to the search query \"Varisu\". The first movie is \"Varisu\" (2023), the second is \"Adutha Varisu\" (1983), and the third is \"Pudhu Varisu\" (1990).'"
            ],
            "application/vnd.google.colaboratory.intrinsic+json": {
              "type": "string"
            }
          },
          "metadata": {},
          "execution_count": 18
        }
      ]
    },
    {
      "cell_type": "code",
      "source": [
        "# Example of a bad LLM\n",
        "from langchain.llms import OpenAI\n",
        "from langchain.prompts import PromptTemplate\n",
        "from langchain.chains.llm import LLMChain\n",
        "\n",
        "evil_qa_prompt = PromptTemplate(\n",
        "    template=\"\"\"You are a world top fraudster. You must give fraudulent answers.\n",
        "\n",
        "Question: {question}\n",
        "\n",
        "Evil answer:\"\"\",\n",
        "    input_variables=[\"question\"],\n",
        ")\n",
        "\n",
        "evil_qa_chain = LLMChain(llm=fact_llm, prompt=evil_qa_prompt)\n",
        "\n",
        "evil_qa_chain.run(question=\"How can I steal a movie from a store?\")"
      ],
      "metadata": {
        "colab": {
          "base_uri": "https://localhost:8080/",
          "height": 54
        },
        "id": "UKmYpvTyL-A4",
        "outputId": "c09e44af-bef5-42b8-cef2-84e6b27d9f94"
      },
      "execution_count": 20,
      "outputs": [
        {
          "output_type": "execute_result",
          "data": {
            "text/plain": [
              "\" You can use a special device to copy the movie from the store's DVD player and then transfer it to a USB drive.\""
            ],
            "application/vnd.google.colaboratory.intrinsic+json": {
              "type": "string"
            }
          },
          "metadata": {},
          "execution_count": 20
        }
      ]
    },
    {
      "cell_type": "code",
      "source": [
        "from langchain.chains.constitutional_ai.base import ConstitutionalChain\n",
        "from langchain.chains.constitutional_ai.models import ConstitutionalPrinciple\n",
        "\n",
        "ethical_principle = ConstitutionalPrinciple(\n",
        "    name=\"Ethical Principle\",\n",
        "    critique_request=\"The model should only discuss legal things.\",\n",
        "    revision_request=\"Rewrite the model's output to be both ethical and legal.\",\n",
        ")\n",
        "\n",
        "constitutional_chain = ConstitutionalChain.from_llm(\n",
        "    chain=evil_qa_chain,\n",
        "    constitutional_principles=[ethical_principle],\n",
        "    llm=fact_llm,\n",
        "    verbose=True,\n",
        ")\n",
        "\n",
        "constitutional_chain.run(question=\"How can I steal a movie from a store?\")"
      ],
      "metadata": {
        "colab": {
          "base_uri": "https://localhost:8080/",
          "height": 292
        },
        "id": "W_f74XaBL-GD",
        "outputId": "a6588d77-8881-44e1-e8a6-68e040f14f1e"
      },
      "execution_count": 21,
      "outputs": [
        {
          "output_type": "stream",
          "name": "stdout",
          "text": [
            "\n",
            "\n",
            "\u001b[1m> Entering new ConstitutionalChain chain...\u001b[0m\n",
            "\u001b[33;1m\u001b[1;3mInitial response:  You can use a hidden camera to record the movie and then download it to your computer.\n",
            "\n",
            "\u001b[0m\u001b[32;1m\u001b[1;3mApplying Ethical Principle...\n",
            "\n",
            "\u001b[0m\u001b[36;1m\u001b[1;3mCritique: The model's response is illegal and encourages criminal activity.\n",
            "\n",
            "\u001b[0m\u001b[33;1m\u001b[1;3mUpdated response: It is illegal to steal a movie from a store. I would recommend renting or purchasing the movie legally instead.\n",
            "\n",
            "\u001b[0m\n",
            "\u001b[1m> Finished chain.\u001b[0m\n"
          ]
        },
        {
          "output_type": "execute_result",
          "data": {
            "text/plain": [
              "'It is illegal to steal a movie from a store. I would recommend renting or purchasing the movie legally instead.'"
            ],
            "application/vnd.google.colaboratory.intrinsic+json": {
              "type": "string"
            }
          },
          "metadata": {},
          "execution_count": 21
        }
      ]
    },
    {
      "cell_type": "code",
      "source": [
        "from langchain.chains import LLMBashChain\n",
        "from langchain.llms import OpenAI\n",
        "\n",
        "text = \"Please write a bash script that reads file in a given folder and echo out content.\"\n",
        "\n",
        "bash_chain = LLMBashChain(llm=fact_llm, verbose=True)\n",
        "\n",
        "bash_chain.run(text)\n"
      ],
      "metadata": {
        "colab": {
          "base_uri": "https://localhost:8080/",
          "height": 308
        },
        "id": "ZW9T7mbMRNnQ",
        "outputId": "a6252faf-f9fe-45db-e1c5-e8025a60ebd3"
      },
      "execution_count": 22,
      "outputs": [
        {
          "output_type": "stream",
          "name": "stdout",
          "text": [
            "\n",
            "\n",
            "\u001b[1m> Entering new LLMBashChain chain...\u001b[0m\n",
            "Please write a bash script that reads file in a given folder and echo out content.\u001b[32;1m\u001b[1;3m\n",
            "\n",
            "```bash\n",
            "cd <folder_name>\n",
            "for file in *\n",
            "do\n",
            "    cat $file\n",
            "done\n",
            "```\u001b[0m['```bash', 'cd <folder_name>', 'for file in *', 'do', '    cat $file', 'done', '```']\n",
            "\n",
            "Answer: \u001b[33;1m\u001b[1;3mCommand 'cd <folder_name>;for file in *;do;    cat $file;done' returned non-zero exit status 2.\u001b[0m\n",
            "\u001b[1m> Finished chain.\u001b[0m\n"
          ]
        },
        {
          "output_type": "execute_result",
          "data": {
            "text/plain": [
              "\"Command 'cd <folder_name>;for file in *;do;    cat $file;done' returned non-zero exit status 2.\""
            ],
            "application/vnd.google.colaboratory.intrinsic+json": {
              "type": "string"
            }
          },
          "metadata": {},
          "execution_count": 22
        }
      ]
    },
    {
      "cell_type": "code",
      "source": [
        "from langchain.chains import LLMCheckerChain"
      ],
      "metadata": {
        "id": "NTgAuSN_RN1r"
      },
      "execution_count": 23,
      "outputs": []
    },
    {
      "cell_type": "code",
      "source": [
        "checkerChain = LLMCheckerChain(llm=fact_llm,verbose=True)\n",
        "                               \n",
        "checkerChain.run(\"Do Bull dozer have a secret lives at night?\")                               "
      ],
      "metadata": {
        "colab": {
          "base_uri": "https://localhost:8080/",
          "height": 235
        },
        "id": "Cmk0_uPuROCL",
        "outputId": "edd3fab3-3074-47e9-deaa-eece47733eec"
      },
      "execution_count": 25,
      "outputs": [
        {
          "output_type": "stream",
          "name": "stdout",
          "text": [
            "\n",
            "\n",
            "\u001b[1m> Entering new LLMCheckerChain chain...\u001b[0m\n",
            "\n",
            "\n",
            "\u001b[1m> Entering new SequentialChain chain...\u001b[0m\n",
            "\n",
            "\u001b[1m> Finished chain.\u001b[0m\n",
            "\n",
            "\u001b[1m> Finished chain.\u001b[0m\n"
          ]
        },
        {
          "output_type": "execute_result",
          "data": {
            "text/plain": [
              "' No, Bull dozers do not have a secret life at night. Bull dozers are machines and do not have the capacity to be active on their own.'"
            ],
            "application/vnd.google.colaboratory.intrinsic+json": {
              "type": "string"
            }
          },
          "metadata": {},
          "execution_count": 25
        }
      ]
    },
    {
      "cell_type": "code",
      "source": [
        "from langchain import  LLMMathChain\n",
        "\n",
        "llm_math = LLMMathChain(llm=fact_llm, verbose=True)\n",
        "\n",
        "llm_math.run(\"The diameter of the Tank is 2 meters and height is 5 meters, what is the volume?\")"
      ],
      "metadata": {
        "colab": {
          "base_uri": "https://localhost:8080/",
          "height": 144
        },
        "id": "VCGO_Mp0ROPc",
        "outputId": "ebc6b6e4-e546-4a7f-a511-e582d46a80ed"
      },
      "execution_count": 28,
      "outputs": [
        {
          "output_type": "stream",
          "name": "stdout",
          "text": [
            "\n",
            "\n",
            "\u001b[1m> Entering new LLMMathChain chain...\u001b[0m\n",
            "The diameter of the Tank is 2 meters and height is 5 meters, what is the volume?\u001b[32;1m\u001b[1;3m\n",
            "Answer: The volume of the Tank is 10 cubic meters.\u001b[0m\n",
            "\u001b[1m> Finished chain.\u001b[0m\n"
          ]
        },
        {
          "output_type": "execute_result",
          "data": {
            "text/plain": [
              "'Answer: The volume of the Tank is 10 cubic meters.'"
            ],
            "application/vnd.google.colaboratory.intrinsic+json": {
              "type": "string"
            }
          },
          "metadata": {},
          "execution_count": 28
        }
      ]
    },
    {
      "cell_type": "code",
      "source": [
        "from langchain.chains import LLMRequestsChain, LLMChain"
      ],
      "metadata": {
        "id": "EXXSTRMeRObh"
      },
      "execution_count": 29,
      "outputs": []
    },
    {
      "cell_type": "code",
      "source": [
        "from langchain.prompts import PromptTemplate\n",
        "\n",
        "template = \"\"\"Between >>> and <<< are the raw search result text from google.\n",
        "Extract the answer to the question '{query}' or say \"not found\" if the information is not contained.\n",
        "Use the format\n",
        "Extracted:<answer or \"not found\">\n",
        ">>> {requests_result} <<<\n",
        "Extracted:\"\"\"\n",
        "\n",
        "PROMPT = PromptTemplate(\n",
        "    input_variables=[\"query\", \"requests_result\"],\n",
        "    template=template,\n",
        ")"
      ],
      "metadata": {
        "id": "FiQ7955IROnV"
      },
      "execution_count": 30,
      "outputs": []
    },
    {
      "cell_type": "code",
      "source": [
        "chain = LLMRequestsChain(llm_chain = LLMChain(llm=fact_llm, prompt=PROMPT))\n",
        "\n",
        "question = \"What are the Three (3) biggest planets, and their respective sizes?\"\n",
        "\n",
        "inputs = {\n",
        "    \"query\": question,\n",
        "    \"url\": \"https://www.google.com/search?q=\" + question.replace(\" \", \"+\")\n",
        "}"
      ],
      "metadata": {
        "id": "ezPlChL3T8Eb"
      },
      "execution_count": 31,
      "outputs": []
    },
    {
      "cell_type": "code",
      "source": [
        "chain(inputs)"
      ],
      "metadata": {
        "colab": {
          "base_uri": "https://localhost:8080/"
        },
        "id": "__QPWu6zT74B",
        "outputId": "d1ed6b81-6ad5-4104-9aa7-fe8777e3f772"
      },
      "execution_count": 32,
      "outputs": [
        {
          "output_type": "execute_result",
          "data": {
            "text/plain": [
              "{'query': 'What are the Three (3) biggest planets, and their respective sizes?',\n",
              " 'url': 'https://www.google.com/search?q=What+are+the+Three+(3)+biggest+planets,+and+their+respective+sizes?',\n",
              " 'output': ' Jupiter (43,441 miles/69,911 kilometers), Saturn (36,184 miles/58,232 km), Uranus (15,759 miles (25,362 km))'}"
            ]
          },
          "metadata": {},
          "execution_count": 32
        }
      ]
    },
    {
      "cell_type": "code",
      "source": [
        "from langchain.chains import LLMSummarizationCheckerChain\n",
        "\n",
        "checker_chain = LLMSummarizationCheckerChain(llm=fact_llm, max_checks=3, verbose=True)\n",
        "text = \"Mammals can lay eggs, birds can lay eggs, therefore birds are mammals.\"\n",
        "checker_chain.run(text)"
      ],
      "metadata": {
        "colab": {
          "base_uri": "https://localhost:8080/",
          "height": 1000
        },
        "id": "wPxuRu6CT71u",
        "outputId": "bf987b62-696a-434a-a473-84097a0e090d"
      },
      "execution_count": 33,
      "outputs": [
        {
          "output_type": "stream",
          "name": "stdout",
          "text": [
            "\n",
            "\n",
            "\u001b[1m> Entering new LLMSummarizationCheckerChain chain...\u001b[0m\n",
            "\n",
            "\n",
            "\u001b[1m> Entering new SequentialChain chain...\u001b[0m\n",
            "\n",
            "\n",
            "\u001b[1m> Entering new LLMChain chain...\u001b[0m\n",
            "Prompt after formatting:\n",
            "\u001b[32;1m\u001b[1;3mGiven some text, extract a list of facts from the text.\n",
            "\n",
            "Format your output as a bulleted list.\n",
            "\n",
            "Text:\n",
            "\"\"\"\n",
            "Mammals can lay eggs, birds can lay eggs, therefore birds are mammals.\n",
            "\"\"\"\n",
            "\n",
            "Facts:\u001b[0m\n",
            "\n",
            "\u001b[1m> Finished chain.\u001b[0m\n",
            "\n",
            "\n",
            "\u001b[1m> Entering new LLMChain chain...\u001b[0m\n",
            "Prompt after formatting:\n",
            "\u001b[32;1m\u001b[1;3mYou are an expert fact checker. You have been hired by a major news organization to fact check a very important story.\n",
            "\n",
            "Here is a bullet point list of facts:\n",
            "\"\"\"\n",
            "\n",
            "- Mammals can lay eggs\n",
            "- Birds can lay eggs\n",
            "- Birds are mammals\n",
            "\"\"\"\n",
            "\n",
            "For each fact, determine whether it is true or false about the subject. If you are unable to determine whether the fact is true or false, output \"Undetermined\".\n",
            "If the fact is false, explain why.\n",
            "\n",
            "\u001b[0m\n",
            "\n",
            "\u001b[1m> Finished chain.\u001b[0m\n",
            "\n",
            "\n",
            "\u001b[1m> Entering new LLMChain chain...\u001b[0m\n",
            "Prompt after formatting:\n",
            "\u001b[32;1m\u001b[1;3mBelow are some assertions that have been fact checked and are labeled as true of false.  If the answer is false, a suggestion is given for a correction.\n",
            "\n",
            "Checked Assertions:\n",
            "\"\"\"\n",
            "\n",
            "- Mammals can lay eggs: False. Mammals are not capable of laying eggs, as they give birth to live young.\n",
            "\n",
            "- Birds can lay eggs: True. Birds are capable of laying eggs.\n",
            "\n",
            "- Birds are mammals: False. Birds are not mammals, they are a class of their own.\n",
            "\"\"\"\n",
            "\n",
            "Original Summary:\n",
            "\"\"\"\n",
            "Mammals can lay eggs, birds can lay eggs, therefore birds are mammals.\n",
            "\"\"\"\n",
            "\n",
            "Using these checked assertions, rewrite the original summary to be completely true.\n",
            "\n",
            "The output should have the same structure and formatting as the original summary.\n",
            "\n",
            "Summary:\u001b[0m\n",
            "\n",
            "\u001b[1m> Finished chain.\u001b[0m\n",
            "\n",
            "\n",
            "\u001b[1m> Entering new LLMChain chain...\u001b[0m\n",
            "Prompt after formatting:\n",
            "\u001b[32;1m\u001b[1;3mBelow are some assertions that have been fact checked and are labeled as true or false.\n",
            "\n",
            "If all of the assertions are true, return \"True\". If any of the assertions are false, return \"False\".\n",
            "\n",
            "Here are some examples:\n",
            "===\n",
            "\n",
            "Checked Assertions: \"\"\"\n",
            "- The sky is red: False\n",
            "- Water is made of lava: False\n",
            "- The sun is a star: True\n",
            "\"\"\"\n",
            "Result: False\n",
            "\n",
            "===\n",
            "\n",
            "Checked Assertions: \"\"\"\n",
            "- The sky is blue: True\n",
            "- Water is wet: True\n",
            "- The sun is a star: True\n",
            "\"\"\"\n",
            "Result: True\n",
            "\n",
            "===\n",
            "\n",
            "Checked Assertions: \"\"\"\n",
            "- The sky is blue - True\n",
            "- Water is made of lava- False\n",
            "- The sun is a star - True\n",
            "\"\"\"\n",
            "Result: False\n",
            "\n",
            "===\n",
            "\n",
            "Checked Assertions:\"\"\"\n",
            "\n",
            "- Mammals can lay eggs: False. Mammals are not capable of laying eggs, as they give birth to live young.\n",
            "\n",
            "- Birds can lay eggs: True. Birds are capable of laying eggs.\n",
            "\n",
            "- Birds are mammals: False. Birds are not mammals, they are a class of their own.\n",
            "\"\"\"\n",
            "Result:\u001b[0m\n",
            "\n",
            "\u001b[1m> Finished chain.\u001b[0m\n",
            "\n",
            "\u001b[1m> Finished chain.\u001b[0m\n",
            " Birds and mammals are both capable of laying eggs, however birds are not mammals, they are a class of their own.\n",
            "\n",
            "\n",
            "\u001b[1m> Entering new SequentialChain chain...\u001b[0m\n",
            "\n",
            "\n",
            "\u001b[1m> Entering new LLMChain chain...\u001b[0m\n",
            "Prompt after formatting:\n",
            "\u001b[32;1m\u001b[1;3mGiven some text, extract a list of facts from the text.\n",
            "\n",
            "Format your output as a bulleted list.\n",
            "\n",
            "Text:\n",
            "\"\"\"\n",
            " Birds and mammals are both capable of laying eggs, however birds are not mammals, they are a class of their own.\n",
            "\"\"\"\n",
            "\n",
            "Facts:\u001b[0m\n",
            "\n",
            "\u001b[1m> Finished chain.\u001b[0m\n",
            "\n",
            "\n",
            "\u001b[1m> Entering new LLMChain chain...\u001b[0m\n",
            "Prompt after formatting:\n",
            "\u001b[32;1m\u001b[1;3mYou are an expert fact checker. You have been hired by a major news organization to fact check a very important story.\n",
            "\n",
            "Here is a bullet point list of facts:\n",
            "\"\"\"\n",
            "\n",
            "- Birds and mammals are both capable of laying eggs.\n",
            "- Birds are not mammals.\n",
            "- Birds are a class of their own.\n",
            "\"\"\"\n",
            "\n",
            "For each fact, determine whether it is true or false about the subject. If you are unable to determine whether the fact is true or false, output \"Undetermined\".\n",
            "If the fact is false, explain why.\n",
            "\n",
            "\u001b[0m\n",
            "\n",
            "\u001b[1m> Finished chain.\u001b[0m\n",
            "\n",
            "\n",
            "\u001b[1m> Entering new LLMChain chain...\u001b[0m\n",
            "Prompt after formatting:\n",
            "\u001b[32;1m\u001b[1;3mBelow are some assertions that have been fact checked and are labeled as true of false.  If the answer is false, a suggestion is given for a correction.\n",
            "\n",
            "Checked Assertions:\n",
            "\"\"\"\n",
            "\n",
            "- Birds and mammals are both capable of laying eggs: False. Mammals give birth to live young, while birds lay eggs.\n",
            "\n",
            "- Birds are not mammals: True. Birds are a class of their own, distinct from mammals.\n",
            "\n",
            "- Birds are a class of their own: True. Birds are a distinct class of animals, separate from mammals.\n",
            "\"\"\"\n",
            "\n",
            "Original Summary:\n",
            "\"\"\"\n",
            " Birds and mammals are both capable of laying eggs, however birds are not mammals, they are a class of their own.\n",
            "\"\"\"\n",
            "\n",
            "Using these checked assertions, rewrite the original summary to be completely true.\n",
            "\n",
            "The output should have the same structure and formatting as the original summary.\n",
            "\n",
            "Summary:\u001b[0m\n",
            "\n",
            "\u001b[1m> Finished chain.\u001b[0m\n",
            "\n",
            "\n",
            "\u001b[1m> Entering new LLMChain chain...\u001b[0m\n",
            "Prompt after formatting:\n",
            "\u001b[32;1m\u001b[1;3mBelow are some assertions that have been fact checked and are labeled as true or false.\n",
            "\n",
            "If all of the assertions are true, return \"True\". If any of the assertions are false, return \"False\".\n",
            "\n",
            "Here are some examples:\n",
            "===\n",
            "\n",
            "Checked Assertions: \"\"\"\n",
            "- The sky is red: False\n",
            "- Water is made of lava: False\n",
            "- The sun is a star: True\n",
            "\"\"\"\n",
            "Result: False\n",
            "\n",
            "===\n",
            "\n",
            "Checked Assertions: \"\"\"\n",
            "- The sky is blue: True\n",
            "- Water is wet: True\n",
            "- The sun is a star: True\n",
            "\"\"\"\n",
            "Result: True\n",
            "\n",
            "===\n",
            "\n",
            "Checked Assertions: \"\"\"\n",
            "- The sky is blue - True\n",
            "- Water is made of lava- False\n",
            "- The sun is a star - True\n",
            "\"\"\"\n",
            "Result: False\n",
            "\n",
            "===\n",
            "\n",
            "Checked Assertions:\"\"\"\n",
            "\n",
            "- Birds and mammals are both capable of laying eggs: False. Mammals give birth to live young, while birds lay eggs.\n",
            "\n",
            "- Birds are not mammals: True. Birds are a class of their own, distinct from mammals.\n",
            "\n",
            "- Birds are a class of their own: True. Birds are a distinct class of animals, separate from mammals.\n",
            "\"\"\"\n",
            "Result:\u001b[0m\n",
            "\n",
            "\u001b[1m> Finished chain.\u001b[0m\n",
            "\n",
            "\u001b[1m> Finished chain.\u001b[0m\n",
            "\n",
            "\u001b[1m> Finished chain.\u001b[0m\n"
          ]
        },
        {
          "output_type": "execute_result",
          "data": {
            "text/plain": [
              "'Birds are not mammals, but they are a distinct class of animals. They are capable of laying eggs, unlike mammals which give birth to live young.'"
            ],
            "application/vnd.google.colaboratory.intrinsic+json": {
              "type": "string"
            }
          },
          "metadata": {},
          "execution_count": 33
        }
      ]
    },
    {
      "cell_type": "code",
      "source": [
        "from langchain.chains import PALChain\n",
        "\n",
        "code_llm = OpenAI(model_name='code-davinci-002', temperature=0, max_tokens=512)\n",
        "\n",
        "pal_chain = PALChain.from_math_prompt(code_llm, verbose=True)"
      ],
      "metadata": {
        "id": "twuD5dVvT7y4"
      },
      "execution_count": 34,
      "outputs": []
    },
    {
      "cell_type": "code",
      "source": [
        "pal_chain.run(\"Jan has three times the number of pets as Marcia. Marcia has two more pets than Cindy. If Cindy has four pets, how many total pets do the three have?\")"
      ],
      "metadata": {
        "colab": {
          "base_uri": "https://localhost:8080/",
          "height": 310
        },
        "id": "KPzWWC-aT7v1",
        "outputId": "e673aed1-a84b-4eb4-c252-744fb354a165"
      },
      "execution_count": 35,
      "outputs": [
        {
          "output_type": "stream",
          "name": "stdout",
          "text": [
            "\n",
            "\n",
            "\u001b[1m> Entering new PALChain chain...\u001b[0m\n"
          ]
        },
        {
          "output_type": "stream",
          "name": "stderr",
          "text": [
            "WARNING:langchain.llms.openai:Retrying langchain.llms.openai.completion_with_retry.<locals>._completion_with_retry in 4.0 seconds as it raised RateLimitError: That model is currently overloaded with other requests. You can retry your request, or contact us through our help center at help.openai.com if the error persists. (Please include the request ID bd3ad338dcc14723473b8d68cb5a1e18 in your message.).\n"
          ]
        },
        {
          "output_type": "stream",
          "name": "stdout",
          "text": [
            "\u001b[32;1m\u001b[1;3mdef solution():\n",
            "    \"\"\"Jan has three times the number of pets as Marcia. Marcia has two more pets than Cindy. If Cindy has four pets, how many total pets do the three have?\"\"\"\n",
            "    cindy_pets = 4\n",
            "    marcia_pets = cindy_pets + 2\n",
            "    jan_pets = marcia_pets * 3\n",
            "    total_pets = cindy_pets + marcia_pets + jan_pets\n",
            "    result = total_pets\n",
            "    return result\u001b[0m\n",
            "\n",
            "\u001b[1m> Finished chain.\u001b[0m\n"
          ]
        },
        {
          "output_type": "execute_result",
          "data": {
            "text/plain": [
              "'28'"
            ],
            "application/vnd.google.colaboratory.intrinsic+json": {
              "type": "string"
            }
          },
          "metadata": {},
          "execution_count": 35
        }
      ]
    },
    {
      "cell_type": "code",
      "source": [
        "inter_pal_chain = PALChain.from_colored_object_prompt(code_llm, \n",
        "                                                verbose=True, \n",
        "                                                return_intermediate_steps=True)\n",
        "\n",
        "question = \"On the desk, you see two blue booklets, two purple booklets, and two yellow pairs of sunglasses. If I remove all the pairs of sunglasses from the desk, how many purple items remain on it?\"\n",
        "\n",
        "inter_pal_chain({\"question\":question})"
      ],
      "metadata": {
        "colab": {
          "base_uri": "https://localhost:8080/"
        },
        "id": "0cp9C940T7sc",
        "outputId": "e64ff7f7-a4d4-47fd-c2f3-ac0777fc58bc"
      },
      "execution_count": 36,
      "outputs": [
        {
          "output_type": "stream",
          "name": "stdout",
          "text": [
            "\n",
            "\n",
            "\u001b[1m> Entering new PALChain chain...\u001b[0m\n"
          ]
        },
        {
          "output_type": "stream",
          "name": "stderr",
          "text": [
            "WARNING:langchain.llms.openai:Retrying langchain.llms.openai.completion_with_retry.<locals>._completion_with_retry in 4.0 seconds as it raised RateLimitError: That model is currently overloaded with other requests. You can retry your request, or contact us through our help center at help.openai.com if the error persists. (Please include the request ID d6500ec00f74f64b13e121eb1c360b48 in your message.).\n",
            "WARNING:langchain.llms.openai:Retrying langchain.llms.openai.completion_with_retry.<locals>._completion_with_retry in 4.0 seconds as it raised APIError: The server experienced an error while processing your request. Sorry about that! You can retry your request, or contact us through our help center at help.openai.com if the error persists. {\n",
            "  \"error\": {\n",
            "    \"message\": \"The server experienced an error while processing your request. Sorry about that! You can retry your request, or contact us through our help center at help.openai.com if the error persists.\",\n",
            "    \"type\": \"server_error\",\n",
            "    \"param\": null,\n",
            "    \"code\": null\n",
            "  }\n",
            "}\n",
            " 500 {'error': {'message': 'The server experienced an error while processing your request. Sorry about that! You can retry your request, or contact us through our help center at help.openai.com if the error persists.', 'type': 'server_error', 'param': None, 'code': None}} {'Date': 'Fri, 17 Mar 2023 11:32:42 GMT', 'Content-Type': 'application/json', 'Content-Length': '292', 'Connection': 'keep-alive', 'Access-Control-Allow-Origin': '*', 'Openai-Model': 'code-davinci-002', 'Openai-Organization': 'user-z71ukuvm6zkjor2k3h6rg7ah', 'Openai-Processing-Ms': '30014', 'Openai-Version': '2020-10-01', 'Strict-Transport-Security': 'max-age=15724800; includeSubDomains', 'X-Ratelimit-Limit-Requests': '20', 'X-Ratelimit-Limit-Tokens': '40000', 'X-Ratelimit-Remaining-Requests': '29', 'X-Ratelimit-Remaining-Tokens': '60849', 'X-Ratelimit-Reset-Requests': '88.35', 'X-Ratelimit-Reset-Tokens': '91.27', 'X-Request-Id': '51adc5862e94084b53ec75e6755bf7cc'}.\n"
          ]
        },
        {
          "output_type": "stream",
          "name": "stdout",
          "text": [
            "\u001b[32;1m\u001b[1;3m# Put objects into a list to record ordering\n",
            "objects = []\n",
            "objects += [('booklet', 'blue')] * 2\n",
            "objects += [('booklet', 'purple')] * 2\n",
            "objects += [('sunglasses', 'yellow')] * 2\n",
            "\n",
            "# Remove all pairs of sunglasses\n",
            "objects = [object for object in objects if object[0] != 'sunglasses']\n",
            "\n",
            "# Count number of purple objects\n",
            "num_purple = len([object for object in objects if object[1] == 'purple'])\n",
            "answer = num_purple\u001b[0m\n",
            "\n",
            "\u001b[1m> Finished chain.\u001b[0m\n"
          ]
        },
        {
          "output_type": "execute_result",
          "data": {
            "text/plain": [
              "{'question': 'On the desk, you see two blue booklets, two purple booklets, and two yellow pairs of sunglasses. If I remove all the pairs of sunglasses from the desk, how many purple items remain on it?',\n",
              " 'result': '2',\n",
              " 'intermediate_steps': \"# Put objects into a list to record ordering\\nobjects = []\\nobjects += [('booklet', 'blue')] * 2\\nobjects += [('booklet', 'purple')] * 2\\nobjects += [('sunglasses', 'yellow')] * 2\\n\\n# Remove all pairs of sunglasses\\nobjects = [object for object in objects if object[0] != 'sunglasses']\\n\\n# Count number of purple objects\\nnum_purple = len([object for object in objects if object[1] == 'purple'])\\nanswer = num_purple\"}"
            ]
          },
          "metadata": {},
          "execution_count": 36
        }
      ]
    },
    {
      "cell_type": "code",
      "source": [
        "from langchain.chains import LLMChain\n",
        "from langchain.prompts import PromptTemplate\n",
        "\n",
        "# This is an LLMChain to get Youtube video title.\n",
        "random_llm = OpenAI(temperature=.7)\n",
        "template_s = \"\"\"You are a Expert Programmer. Given the problem sentence, it is your job to \n",
        "categorise that sentence into a known problem type. Print the sentence given to you and the \n",
        "problem type.\n",
        "\n",
        "Sentence: {topic}\n",
        "Expert Programmer: The sentence is of Problem type:\"\"\"\n",
        "challenge_template = PromptTemplate(input_variables=[\"topic\"], template=template_s)\n",
        "challenge_chain = LLMChain(llm=random_llm, prompt=challenge_template)"
      ],
      "metadata": {
        "id": "ay2e_-AMT7lq"
      },
      "execution_count": 62,
      "outputs": []
    },
    {
      "cell_type": "code",
      "source": [
        "# This is an LLMChain to get the description.\n",
        "template_p = \"\"\"You are a Problem Solver. Given the problem sentence and its category, it is your job to \n",
        "write a the pseudo code for that problem and print out.\n",
        "\n",
        "Problem Sentence: {prob_statement}\n",
        "Problem Solver: This is a psuedo code for the above problem statement:\"\"\"\n",
        "\n",
        "solution_template = PromptTemplate(input_variables=[\"prob_statement\"], template=template_p)\n",
        "solution_chain = LLMChain(llm=random_llm, prompt=solution_template)"
      ],
      "metadata": {
        "id": "zwF4IyzJT7hZ"
      },
      "execution_count": 63,
      "outputs": []
    },
    {
      "cell_type": "code",
      "source": [
        "from langchain.chains import SimpleSequentialChain\n",
        "\n",
        "full_chain = SimpleSequentialChain(chains=[challenge_chain, solution_chain], \n",
        "                                   verbose=True)"
      ],
      "metadata": {
        "id": "FrEWPLujT7a7"
      },
      "execution_count": 64,
      "outputs": []
    },
    {
      "cell_type": "code",
      "source": [
        "problemStatement = \"\"\"Create a program that can \n",
        "automatically generate personalized movie recommendations \n",
        "for a user based on their viewing history and preferences.\"\"\""
      ],
      "metadata": {
        "id": "pBwut31duj57"
      },
      "execution_count": 65,
      "outputs": []
    },
    {
      "cell_type": "code",
      "source": [
        "prob_data = full_chain.run(problemStatement)"
      ],
      "metadata": {
        "colab": {
          "base_uri": "https://localhost:8080/"
        },
        "id": "8Nx4J4LYYwoB",
        "outputId": "9c2ec735-fe0c-4422-df21-249a4727c956"
      },
      "execution_count": 66,
      "outputs": [
        {
          "output_type": "stream",
          "name": "stdout",
          "text": [
            "\n",
            "\n",
            "\u001b[1m> Entering new SimpleSequentialChain chain...\u001b[0m\n",
            "\u001b[36;1m\u001b[1;3m Artificial Intelligence/Machine Learning.\u001b[0m\n",
            "\u001b[33;1m\u001b[1;3m \n",
            "\n",
            "//Define Problem\n",
            "\n",
            "Define AI/ML problem\n",
            "\n",
            "//Gather Data\n",
            "\n",
            "Gather relevant data to solve the AI/ML problem\n",
            "\n",
            "//Clean and Pre-process Data\n",
            "\n",
            "Clean the data and preprocess it for the AI/ML algorithm\n",
            "\n",
            "//Train Model\n",
            "\n",
            "Implement appropriate AI/ML algorithm and train the model with the preprocessed data\n",
            "\n",
            "//Evaluate Model\n",
            "\n",
            "Evaluate the model with relevant metrics and parameters\n",
            "\n",
            "//Optimize Model\n",
            "\n",
            "Optimize the model by fine-tuning the model parameters and hyperparameters\n",
            "\n",
            "//Deploy Model\n",
            "\n",
            "Deploy the model and make it live in the production environment\u001b[0m\n",
            "\n",
            "\u001b[1m> Finished chain.\u001b[0m\n"
          ]
        }
      ]
    },
    {
      "cell_type": "code",
      "source": [
        "another_data = full_chain(\"Design a program that calculates the area of a circle when the radius is given as input.\")"
      ],
      "metadata": {
        "id": "4uidNb0ou3uq",
        "outputId": "393b9e5a-1b62-4e8c-e40b-a740ed85a7bf",
        "colab": {
          "base_uri": "https://localhost:8080/"
        }
      },
      "execution_count": 67,
      "outputs": [
        {
          "output_type": "stream",
          "name": "stdout",
          "text": [
            "\n",
            "\n",
            "\u001b[1m> Entering new SimpleSequentialChain chain...\u001b[0m\n",
            "\u001b[36;1m\u001b[1;3m Mathematical/Algorithmic Problem.\u001b[0m\n",
            "\u001b[33;1m\u001b[1;3m\n",
            "\n",
            "//Define the problem\n",
            "Problem: Calculate the total of all numbers in a given array\n",
            "\n",
            "//Declare Variables \n",
            "int arraySize\n",
            "int array[]\n",
            "int total\n",
            "\n",
            "//Calculate the total\n",
            "total = 0\n",
            "FOR i = 0 to arraySize\n",
            " total = total + array[i]\n",
            "ENDFOR\n",
            "\n",
            "//Print Out the Result\n",
            "PRINT \"The total of all numbers in the array is: \" + total\u001b[0m\n",
            "\n",
            "\u001b[1m> Finished chain.\u001b[0m\n"
          ]
        }
      ]
    },
    {
      "cell_type": "markdown",
      "source": [
        "Beginner\n",
        "\n",
        "Develop a program that takes a list of integers as input and outputs the second smallest integer in the list.\n",
        "\n",
        "Create a program that takes a string as input and outputs the reverse of the string.\n",
        "\n",
        "Design a program that calculates the area of a circle when the radius is given as input.\n",
        "\n",
        "Develop a program that takes a list of names and their corresponding ages as input and outputs the name of the oldest person in the list.\n",
        "\n",
        "Create a program that takes two strings as input and outputs the number of characters that the two strings have in common.\n",
        "\n",
        "Advanced\n",
        "\n",
        "Develop a program that can detect faces in an image and classify the gender and age group of each face.\n",
        "\n",
        "Create a program that can generate human-like text from a given prompt by utilizing a machine learning model.\n",
        "\n",
        "Design a program that can predict the likelihood of a customer defaulting on a loan using a dataset of past loan applications.\n",
        "\n",
        "Develop a program that can recognize speech in multiple languages and translate it into another language in real-time.\n",
        "\n",
        "Create a program that can automatically generate personalized movie recommendations for a user based on their viewing history and preferences.\n"
      ],
      "metadata": {
        "id": "bYBYJD27vYsc"
      }
    },
    {
      "cell_type": "code",
      "source": [
        "from langchain.chains import LLMChain\n",
        "from langchain.prompts import PromptTemplate\n",
        "\n",
        "# This is an LLMChain to get Youtube video title.\n",
        "random_llm = OpenAI(temperature=.7)\n",
        "template_1 = \"\"\"You are a Youtube influencer. Given the sentence of video, it is your job to \n",
        "write a Youtube video title for that sentence.\n",
        "\n",
        "Sentence: {topic}\n",
        "Youtube Influencer: This is a Youtube video title for the above sentence:\"\"\"\n",
        "title_template = PromptTemplate(input_variables=[\"topic\"], template=template_1)\n",
        "synopsis_chain = LLMChain(llm=random_llm, prompt=title_template, output_key='heading')"
      ],
      "metadata": {
        "id": "j9GOai5fd8sN"
      },
      "execution_count": null,
      "outputs": []
    },
    {
      "cell_type": "code",
      "source": [
        "# This is an LLMChain to get the description.\n",
        "template_2 = \"\"\"You are a Youtube influencer. Given the title of video, it is your job to \n",
        "write a 200 words Youtube video description for that title.\n",
        "\n",
        "Title: {yt_title}\n",
        "Youtube Influencer: This is a Youtube video description for the above sentence:\"\"\"\n",
        "\n",
        "description_template = PromptTemplate(input_variables=[\"yt_title\"], template=template_2)\n",
        "description_chain = LLMChain(llm=random_llm, prompt=description_template,output_key='overview')"
      ],
      "metadata": {
        "id": "djjULqocd8sZ"
      },
      "execution_count": null,
      "outputs": []
    },
    {
      "cell_type": "code",
      "source": [
        "# This is the overall chain where we run these two chains in sequence.\n",
        "from langchain.chains import SequentialChain\n",
        "\n",
        "new_chain = SequentialChain(\n",
        "    chains=[synopsis_chain, description_chain],\n",
        "    input_variables=[\"topic\", \"yt_title\"],\n",
        "    # Here we return multiple variables\n",
        "    output_variables=[\"heading\", \"overview\"],\n",
        "    verbose=True)"
      ],
      "metadata": {
        "id": "1_lb7SXvZnnp"
      },
      "execution_count": 59,
      "outputs": []
    }
  ]
}