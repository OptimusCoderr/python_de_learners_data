{
  "nbformat": 4,
  "nbformat_minor": 0,
  "metadata": {
    "colab": {
      "provenance": []
    },
    "kernelspec": {
      "name": "python3",
      "display_name": "Python 3"
    },
    "language_info": {
      "name": "python"
    }
  },
  "cells": [
    {
      "cell_type": "code",
      "source": [
        "!pip install -qqq accelerate transformers sentence_transformers huggingface_hub langchain==0.0.166 pygpt4all==1.1.0 chromadb==0.3.22 llama-cpp-python==0.1.48 urllib3==1.26.6 pdfminer.six==20221105 > /dev/null"
      ],
      "metadata": {
        "id": "pqUlynFMRs5F"
      },
      "execution_count": 1,
      "outputs": []
    },
    {
      "cell_type": "code",
      "source": [
        "!wget https://gpt4all.io/models/ggml-gpt4all-j-v1.3-groovy.bin"
      ],
      "metadata": {
        "id": "wFDXLyIbgvL1",
        "colab": {
          "base_uri": "https://localhost:8080/"
        },
        "outputId": "d57d826d-1f8e-48b1-8e4d-7ea877c4a965"
      },
      "execution_count": 2,
      "outputs": [
        {
          "output_type": "stream",
          "name": "stdout",
          "text": [
            "--2023-05-15 11:30:21--  https://gpt4all.io/models/ggml-gpt4all-j-v1.3-groovy.bin\n",
            "Resolving gpt4all.io (gpt4all.io)... 104.26.1.159, 104.26.0.159, 172.67.71.169, ...\n",
            "Connecting to gpt4all.io (gpt4all.io)|104.26.1.159|:443... connected.\n",
            "HTTP request sent, awaiting response... 200 OK\n",
            "Length: 3785248281 (3.5G)\n",
            "Saving to: ‘ggml-gpt4all-j-v1.3-groovy.bin.1’\n",
            "\n",
            "ggml-gpt4all-j-v1.3 100%[===================>]   3.52G  63.4MB/s    in 78s     \n",
            "\n",
            "2023-05-15 11:31:39 (46.2 MB/s) - ‘ggml-gpt4all-j-v1.3-groovy.bin.1’ saved [3785248281/3785248281]\n",
            "\n"
          ]
        }
      ]
    },
    {
      "cell_type": "code",
      "source": [
        "from langchain.chains import RetrievalQA\n",
        "from langchain.embeddings import LlamaCppEmbeddings\n",
        "from langchain.callbacks.streaming_stdout import StreamingStdOutCallbackHandler\n",
        "from langchain.vectorstores import Chroma\n",
        "from langchain.llms import GPT4All, LlamaCpp\n",
        "import os\n",
        "from langchain.embeddings import HuggingFaceEmbeddings, SentenceTransformerEmbeddings"
      ],
      "metadata": {
        "id": "X0KCmkl_gU9B"
      },
      "execution_count": 1,
      "outputs": []
    },
    {
      "cell_type": "code",
      "source": [
        " callbacks = [StreamingStdOutCallbackHandler()]"
      ],
      "metadata": {
        "id": "a7h1UDGciIsE"
      },
      "execution_count": 2,
      "outputs": []
    },
    {
      "cell_type": "code",
      "source": [
        " llm = GPT4All(model=\"/content/ggml-gpt4all-j-v1.3-groovy.bin\", \n",
        "               n_ctx=1000, \n",
        "               backend='gptj', \n",
        "               callbacks=callbacks, \n",
        "               verbose=False)"
      ],
      "metadata": {
        "id": "deMs01A4hFvW"
      },
      "execution_count": 3,
      "outputs": []
    },
    {
      "cell_type": "code",
      "source": [
        "llm(\"Who landed on the moon on July 21 1969\")"
      ],
      "metadata": {
        "colab": {
          "base_uri": "https://localhost:8080/",
          "height": 55
        },
        "id": "Kb5lXsByhFrh",
        "outputId": "419a329f-3ba6-4370-d58e-1c1f45961031"
      },
      "execution_count": null,
      "outputs": [
        {
          "output_type": "stream",
          "name": "stdout",
          "text": [
            "?\n",
            "The United States of America."
          ]
        },
        {
          "output_type": "execute_result",
          "data": {
            "text/plain": [
              "'?\\nThe United States of America.'"
            ],
            "application/vnd.google.colaboratory.intrinsic+json": {
              "type": "string"
            }
          },
          "metadata": {},
          "execution_count": 11
        }
      ]
    },
    {
      "cell_type": "code",
      "source": [
        "from langchain import PromptTemplate,  LLMChain\n",
        "\n",
        "template = \"\"\"Use text below and answer the question: {question}\n",
        "{text}\n",
        "Answer:\"\"\"\n",
        "prompt = PromptTemplate(template=template, \n",
        "                        input_variables=[\"question\",\"text\"])"
      ],
      "metadata": {
        "id": "7WB1GwVDopM-"
      },
      "execution_count": 11,
      "outputs": []
    },
    {
      "cell_type": "code",
      "source": [
        "llm_chain = LLMChain(prompt=prompt, llm=llm)"
      ],
      "metadata": {
        "id": "6yJ_3UUMosXn"
      },
      "execution_count": 12,
      "outputs": []
    },
    {
      "cell_type": "code",
      "source": [
        "question = \"What is electroencephalography?\"\n",
        "text = \"\"\"Electroencephalography (EEG) is a method to record an electrogram of the spontaneous electrical activity of the brain. The biosignals detected by EEG have been shown to represent the postsynaptic potentials of pyramidal neurons in the neocortex and allocortex.[1] It is typically non-invasive, with the EEG electrodes placed along the scalp (commonly called \"scalp EEG\") using the International 10-20 system, or variations of it. Electrocorticography, involving surgical placement of \n",
        "electrodes, is sometimes called \"intracranial EEG\". Clinical interpretation of\n",
        " EEG recordings is most often performed by visual inspection of the\n",
        "  tracing or quantitative EEG analysis.\"\"\""
      ],
      "metadata": {
        "id": "H3CK_O2yk_Ja"
      },
      "execution_count": 10,
      "outputs": []
    },
    {
      "cell_type": "code",
      "source": [
        "print(llm_chain.run(question=question,text=text))"
      ],
      "metadata": {
        "id": "KE4_tw_b1wJD"
      },
      "execution_count": null,
      "outputs": []
    },
    {
      "cell_type": "code",
      "source": [
        "embeddings = HuggingFaceEmbeddings(model_name=\"all-MiniLM-L6-v2\")"
      ],
      "metadata": {
        "id": "9pJsqla0oWo0"
      },
      "execution_count": 6,
      "outputs": []
    },
    {
      "cell_type": "code",
      "source": [
        "from langchain.schema import Document\n",
        "\n",
        "docs = [\n",
        "    Document(page_content=\"A bunch of scientists bring back dinosaurs and mayhem breaks loose\", metadata={\"year\": 1993, \"rating\": 7.7, \"genre\": \"science fiction\",\"source\":\"local\"}),\n",
        "    Document(page_content=\"Leo DiCaprio gets lost in a dream within a dream within a dream within a ...\", metadata={\"year\": 2010, \"director\": \"Christopher Nolan\", \"rating\": 8.2,\"source\":\"local\"}),\n",
        "    Document(page_content=\"A psychologist / detective gets lost in a series of dreams within dreams within dreams and Inception reused the idea\", metadata={\"year\": 2006, \"director\": \"Satoshi Kon\", \"rating\": 8.6,\"source\":\"local\"}),\n",
        "    Document(page_content=\"A bunch of normal-sized women are supremely wholesome and some men pine after them\", metadata={\"year\": 2019, \"director\": \"Greta Gerwig\", \"rating\": 8.3,\"source\":\"local\"}),\n",
        "    Document(page_content=\"Toys come alive and have a blast doing so\", metadata={\"year\": 1995, \"genre\": \"animated\",\"source\":\"local\"}),\n",
        "    Document(page_content=\"Three men walk into the Zone, three men walk out of the Zone\", metadata={\"year\": 1979, \"rating\": 9.9, \"director\": \"Andrei Tarkovsky\", \"genre\": \"science fiction\", \"rating\": 9.9,\"source\":\"local\"})\n",
        "]"
      ],
      "metadata": {
        "id": "ClvIfJGZOjtp"
      },
      "execution_count": 7,
      "outputs": []
    },
    {
      "cell_type": "code",
      "source": [
        "vectorstore = Chroma.from_documents(\n",
        "    docs, embeddings\n",
        ")"
      ],
      "metadata": {
        "id": "wgv5zItqOjow"
      },
      "execution_count": 8,
      "outputs": []
    },
    {
      "cell_type": "code",
      "source": [
        "vectorstore.similarity_search(\"Movie on dinosaur\")"
      ],
      "metadata": {
        "colab": {
          "base_uri": "https://localhost:8080/"
        },
        "id": "QqDgdS3_QWcz",
        "outputId": "69485149-3ccd-4353-c680-877dc46011e0"
      },
      "execution_count": 12,
      "outputs": [
        {
          "output_type": "execute_result",
          "data": {
            "text/plain": [
              "[Document(page_content='A bunch of scientists bring back dinosaurs and mayhem breaks loose', metadata={'year': 1993, 'rating': 7.7, 'genre': 'science fiction', 'source': 'local'}),\n",
              " Document(page_content='Toys come alive and have a blast doing so', metadata={'year': 1995, 'genre': 'animated', 'source': 'local'}),\n",
              " Document(page_content='A psychologist / detective gets lost in a series of dreams within dreams within dreams and Inception reused the idea', metadata={'year': 2006, 'director': 'Satoshi Kon', 'rating': 8.6, 'source': 'local'}),\n",
              " Document(page_content='Leo DiCaprio gets lost in a dream within a dream within a dream within a ...', metadata={'year': 2010, 'director': 'Christopher Nolan', 'rating': 8.2, 'source': 'local'})]"
            ]
          },
          "metadata": {},
          "execution_count": 12
        }
      ]
    },
    {
      "cell_type": "code",
      "source": [
        "#from langchain.chains import RetrievalQAWithSourcesChain\n",
        "#chain = RetrievalQAWithSourcesChain.from_chain_type(llm, \n",
        " #                                                   chain_type=\"stuff\", \n",
        "  #                                                  retriever=vectorstore.as_retriever())\n",
        "#chain({\"question\": \"What movie did dinosaur escape\"}, \n",
        " #     return_only_outputs=True)"
      ],
      "metadata": {
        "id": "2KZcRV-mTHL9"
      },
      "execution_count": 13,
      "outputs": []
    },
    {
      "cell_type": "code",
      "source": [
        "def get_text(question):\n",
        "  similar_data = vectorstore.similarity_search(question)\n",
        "  text = ''\n",
        "  for elem in similar_data:\n",
        "    text = text + elem.page_content\n",
        "  print(text)\n",
        "  return text"
      ],
      "metadata": {
        "id": "x9lxcBQSPtAf"
      },
      "execution_count": 13,
      "outputs": []
    },
    {
      "cell_type": "code",
      "source": [
        "def retrieve_answer(question):\n",
        "  support_text = get_text(question)\n",
        "  answer = llm_chain.run(question=question, \n",
        "                         text= support_text)\n",
        "  return answer"
      ],
      "metadata": {
        "id": "aI9dqgpxTo6I"
      },
      "execution_count": 14,
      "outputs": []
    },
    {
      "cell_type": "code",
      "source": [
        "retrieve_answer(\"Who brought the dinosaurs back\")"
      ],
      "metadata": {
        "colab": {
          "base_uri": "https://localhost:8080/"
        },
        "id": "91d4_jXoOuGl",
        "outputId": "6db9e6e4-e169-4b8b-8c9d-66030ca7b911"
      },
      "execution_count": null,
      "outputs": [
        {
          "output_type": "stream",
          "name": "stdout",
          "text": [
            "A bunch of scientists bring back dinosaurs and mayhem breaks looseToys come alive and have a blast doing soThree men walk into the Zone, three men walk out of the ZoneA bunch of normal-sized women are supremely wholesome and some men pine after them\n",
            " Who brought"
          ]
        }
      ]
    },
    {
      "cell_type": "code",
      "source": [
        "retrieve_answer(\"Dream within Dream\")"
      ],
      "metadata": {
        "id": "GWEkunjcTGaC"
      },
      "execution_count": null,
      "outputs": []
    },
    {
      "cell_type": "code",
      "source": [
        "from langchain.agents import load_huggingface_tool\n",
        "\n",
        "tool = load_huggingface_tool(\"lysandre/hf-model-downloads\")\n",
        "\n",
        "print(f\"{tool.name}: {tool.description}\")"
      ],
      "metadata": {
        "id": "IjYL-0hkjAma"
      },
      "execution_count": null,
      "outputs": []
    },
    {
      "cell_type": "code",
      "source": [
        "tool.run(\"text-generation\")"
      ],
      "metadata": {
        "colab": {
          "base_uri": "https://localhost:8080/",
          "height": 36
        },
        "id": "RzP7vg_CjAqj",
        "outputId": "f47c4b4c-5d46-457e-fce3-d4e35b2758e0"
      },
      "execution_count": null,
      "outputs": [
        {
          "output_type": "execute_result",
          "data": {
            "text/plain": [
              "'gpt2'"
            ],
            "application/vnd.google.colaboratory.intrinsic+json": {
              "type": "string"
            }
          },
          "metadata": {},
          "execution_count": 4
        }
      ]
    },
    {
      "cell_type": "code",
      "source": [
        "tool_tg = load_huggingface_tool(\"huggingface-tools/text-download\")"
      ],
      "metadata": {
        "id": "OGhxsX7_jAuv"
      },
      "execution_count": null,
      "outputs": []
    },
    {
      "cell_type": "code",
      "source": [
        "tool_tg(\"https://python.langchain.com/en/latest/modules/models/llms/integrations/huggingface_pipelines.html\")"
      ],
      "metadata": {
        "id": "FOAvpYsrjAzS"
      },
      "execution_count": null,
      "outputs": []
    },
    {
      "cell_type": "code",
      "source": [
        "tool_classify = load_huggingface_tool(\"Sj8287/Sentiment_Classification\")"
      ],
      "metadata": {
        "id": "u5STWcOwqrZx"
      },
      "execution_count": null,
      "outputs": []
    }
  ]
}