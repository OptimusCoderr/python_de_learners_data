{
  "nbformat": 4,
  "nbformat_minor": 0,
  "metadata": {
    "colab": {
      "provenance": []
    },
    "kernelspec": {
      "name": "python3",
      "display_name": "Python 3"
    },
    "language_info": {
      "name": "python"
    }
  },
  "cells": [
    {
      "cell_type": "code",
      "execution_count": 1,
      "metadata": {
        "id": "c_GnPM4znoE2"
      },
      "outputs": [],
      "source": [
        "!pip install txtai[all] > /dev/null"
      ]
    },
    {
      "cell_type": "markdown",
      "source": [
        "Workflows are a simple yet powerful construct that takes a callable and returns elements. Workflows operate well with pipelines but can work with any callable object. Workflows are streaming and work on data in batches, allowing large volumes of data to be processed efficiently."
      ],
      "metadata": {
        "id": "KsbZnzSnn3DZ"
      }
    },
    {
      "cell_type": "markdown",
      "source": [
        "Workflows combine machine-learning pipelines together to aggregate logic. This application provides a number of pre-configured workflows to get a feel of how they work. Workflows can be exported and run locally through FastAPI. Read more on GitHub and in the Docs."
      ],
      "metadata": {
        "id": "h3eNxBbXowaJ"
      }
    },
    {
      "cell_type": "code",
      "source": [
        "mult_2 = lambda x: [y * 2 for y in x]"
      ],
      "metadata": {
        "id": "p70iXH2_n_2p"
      },
      "execution_count": 2,
      "outputs": []
    },
    {
      "cell_type": "code",
      "source": [
        "from txtai.workflow import FileTask, Task, Workflow\n",
        "\n",
        "workflow = Workflow([Task(mult_2)])\n",
        "list(workflow([1, 2, 3]))"
      ],
      "metadata": {
        "colab": {
          "base_uri": "https://localhost:8080/"
        },
        "id": "Fprp_9hin4bj",
        "outputId": "d1e308a2-ab00-4cd8-e6cb-fddf1ebd372a"
      },
      "execution_count": 4,
      "outputs": [
        {
          "output_type": "execute_result",
          "data": {
            "text/plain": [
              "[2, 4, 6]"
            ]
          },
          "metadata": {},
          "execution_count": 4
        }
      ]
    },
    {
      "cell_type": "code",
      "source": [
        "from txtai.pipeline import Summary\n",
        "\n",
        "summary = Summary()\n",
        "new_task = Task(summary)"
      ],
      "metadata": {
        "colab": {
          "base_uri": "https://localhost:8080/"
        },
        "id": "Ogo13p83pV8S",
        "outputId": "377876d1-312c-4d8a-e7e2-d55b197f19f8"
      },
      "execution_count": 6,
      "outputs": [
        {
          "output_type": "stream",
          "name": "stderr",
          "text": [
            "No model was supplied, defaulted to sshleifer/distilbart-cnn-12-6 and revision a4f8f3e (https://huggingface.co/sshleifer/distilbart-cnn-12-6).\n",
            "Using a pipeline without specifying a model name and revision in production is not recommended.\n"
          ]
        }
      ]
    },
    {
      "cell_type": "code",
      "source": [
        "workflow = Workflow([new_task])\n",
        "\n",
        "list(workflow([\"Very long text here\"]))"
      ],
      "metadata": {
        "colab": {
          "base_uri": "https://localhost:8080/"
        },
        "id": "n2wZOtCwpynr",
        "outputId": "02a564ce-48dd-42c4-b2e2-6d16e21c20d3"
      },
      "execution_count": 7,
      "outputs": [
        {
          "output_type": "execute_result",
          "data": {
            "text/plain": [
              "['Very long text here']"
            ]
          },
          "metadata": {},
          "execution_count": 7
        }
      ]
    },
    {
      "cell_type": "code",
      "source": [
        "workflow = Workflow([Task([lambda x: [y * 3 for y in x], \n",
        "                           lambda x: [y - 1 for y in x]],\n",
        "                           unpack=False, column={0:0, 1:1})])\n",
        "list(workflow([(2, 8),(4, 18)]))"
      ],
      "metadata": {
        "colab": {
          "base_uri": "https://localhost:8080/"
        },
        "id": "R6g5CfR3r8k0",
        "outputId": "78905f84-1aea-4aab-e279-511ff25f0511"
      },
      "execution_count": 9,
      "outputs": [
        {
          "output_type": "execute_result",
          "data": {
            "text/plain": [
              "[(6, 7), (12, 17)]"
            ]
          },
          "metadata": {},
          "execution_count": 9
        }
      ]
    },
    {
      "cell_type": "code",
      "source": [
        "workflow = Workflow([Task([lambda x: [y * 3 for y in x], \n",
        "                           lambda x: [y - 1 for y in x]],\n",
        "                           unpack=True, column={0:0, 1:1})])\n",
        "list(workflow([(2, 8),(4, 18)]))"
      ],
      "metadata": {
        "colab": {
          "base_uri": "https://localhost:8080/"
        },
        "id": "2IAG4ke1r8eL",
        "outputId": "2160b158-46a1-43a2-ba8f-9efa27fa8fb9"
      },
      "execution_count": 10,
      "outputs": [
        {
          "output_type": "execute_result",
          "data": {
            "text/plain": [
              "[(2, (24, 7)), (4, (54, 17))]"
            ]
          },
          "metadata": {},
          "execution_count": 10
        }
      ]
    },
    {
      "cell_type": "markdown",
      "source": [
        "The Console Task prints task inputs and outputs to standard output. This task is mainly used for debugging and can be added at any point in a workflow."
      ],
      "metadata": {
        "id": "AFdHaCY_tRZP"
      }
    },
    {
      "cell_type": "code",
      "source": [
        "from txtai.workflow import FileTask, Workflow, ConsoleTask\n",
        "\n",
        "workflow = Workflow([ConsoleTask()])\n",
        "workflow([\"Input 1\", \"Input2\"])"
      ],
      "metadata": {
        "colab": {
          "base_uri": "https://localhost:8080/"
        },
        "id": "6k_VtoO4tRH9",
        "outputId": "0cf67c59-d56c-4dd9-8dae-e83e4aa4437e"
      },
      "execution_count": 11,
      "outputs": [
        {
          "output_type": "execute_result",
          "data": {
            "text/plain": [
              "<generator object Workflow.__call__ at 0x7fb02c5f02e0>"
            ]
          },
          "metadata": {},
          "execution_count": 11
        }
      ]
    }
  ]
}