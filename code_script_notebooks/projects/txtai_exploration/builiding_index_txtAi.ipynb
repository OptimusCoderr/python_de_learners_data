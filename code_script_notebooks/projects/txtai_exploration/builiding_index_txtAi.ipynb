{
  "nbformat": 4,
  "nbformat_minor": 0,
  "metadata": {
    "colab": {
      "provenance": []
    },
    "kernelspec": {
      "name": "python3",
      "display_name": "Python 3"
    },
    "language_info": {
      "name": "python"
    }
  },
  "cells": [
    {
      "cell_type": "code",
      "execution_count": 13,
      "metadata": {
        "id": "kvvihmmJa4c-"
      },
      "outputs": [],
      "source": [
        "!pip -q install txtai[all] langchain pypdf > /dev/null"
      ]
    },
    {
      "cell_type": "code",
      "source": [
        "%%capture\n",
        "\n",
        "from langchain.text_splitter import RecursiveCharacterTextSplitter\n",
        "from txtai.embeddings import Embeddings\n",
        "from langchain.document_loaders import PyPDFLoader\n",
        "import glob"
      ],
      "metadata": {
        "id": "fH4H2mk9bKdB"
      },
      "execution_count": 31,
      "outputs": []
    },
    {
      "cell_type": "code",
      "source": [
        "!unzip /content/04\\ studies.zip -d /content/studies"
      ],
      "metadata": {
        "id": "jZTDlw1LbKn3"
      },
      "execution_count": null,
      "outputs": []
    },
    {
      "cell_type": "code",
      "source": [
        "pdf_text = []\n",
        "for pdf in glob.glob('/content/studies/*.pdf'):\n",
        "  loader = PyPDFLoader(pdf)\n",
        "  pages = loader.load()\n",
        "  pdf_text.extend(pages)"
      ],
      "metadata": {
        "id": "WOxG-Yk8bKpb"
      },
      "execution_count": 25,
      "outputs": []
    },
    {
      "cell_type": "code",
      "source": [
        "pdf_text[0]"
      ],
      "metadata": {
        "id": "OXaOMVlbdTE3"
      },
      "execution_count": null,
      "outputs": []
    },
    {
      "cell_type": "code",
      "source": [
        "document_splitter = RecursiveCharacterTextSplitter(chunk_size=350,\n",
        "                                                   chunk_overlap=25,\n",
        "                                                   length_function=len)"
      ],
      "metadata": {
        "id": "GNZjPSfodTBw"
      },
      "execution_count": 47,
      "outputs": []
    },
    {
      "cell_type": "code",
      "source": [
        "split_data = []\n",
        "for docs in pdf_text:\n",
        "  print(docs)\n",
        "  temp_split = document_splitter.split_text(docs.page_content)\n",
        "  split_data.extend(temp_split)"
      ],
      "metadata": {
        "id": "rOtX8eJCdS20"
      },
      "execution_count": null,
      "outputs": []
    },
    {
      "cell_type": "code",
      "source": [
        "# Create embeddings index with content enabled. The default behavior is to only store indexed vectors.\n",
        "embeddings = Embeddings({\"path\": \"sentence-transformers/nli-mpnet-base-v2\", \n",
        "                         \"content\": True, \n",
        "                         \"objects\": True})"
      ],
      "metadata": {
        "id": "WpVyMy51bKwN"
      },
      "execution_count": 49,
      "outputs": []
    },
    {
      "cell_type": "code",
      "source": [
        "# Create an index for the list of text\n",
        "embeddings.index([(uid, \n",
        "                   text, \n",
        "                   None) for uid, text in enumerate(split_data)])"
      ],
      "metadata": {
        "id": "kGTzfLp6bK3M"
      },
      "execution_count": 50,
      "outputs": []
    },
    {
      "cell_type": "code",
      "source": [
        "embeddings.search(\"Some studies by lutz\",1)"
      ],
      "metadata": {
        "colab": {
          "base_uri": "https://localhost:8080/"
        },
        "id": "ef81hpEAfqI1",
        "outputId": "da7c5bf7-676f-40e2-b86d-e54ec3adc5b8"
      },
      "execution_count": 36,
      "outputs": [
        {
          "output_type": "execute_result",
          "data": {
            "text/plain": [
              "[{'id': '1685',\n",
              "  'text': 'with our results, Lutz et al. discuss a number of reports',\n",
              "  'score': 0.6790071129798889}]"
            ]
          },
          "metadata": {},
          "execution_count": 36
        }
      ]
    },
    {
      "cell_type": "code",
      "source": [
        "# Save the index\n",
        "embeddings.save(\"index\")\n",
        "\n",
        "# Show basic details about index files\n",
        "for f in [\"config\", \"documents\", \"embeddings\"]:\n",
        "  !ls -l \"index/{f}\"\n",
        "  !xxd \"index/{f}\" | head -5\n",
        "  !file \"index/{f}\"\n",
        "  !echo"
      ],
      "metadata": {
        "id": "xr3mHBTafqFI"
      },
      "execution_count": null,
      "outputs": []
    },
    {
      "cell_type": "code",
      "source": [
        "import json\n",
        "import pickle\n",
        "\n",
        "with open(\"index/config\", \"rb\") as config:\n",
        "  print(json.dumps(pickle.load(config), \n",
        "                   sort_keys=True, \n",
        "                   indent=2))"
      ],
      "metadata": {
        "colab": {
          "base_uri": "https://localhost:8080/"
        },
        "id": "r2_WWcPGfp-T",
        "outputId": "403895f3-72cb-4327-a1ea-79ab4747cb96"
      },
      "execution_count": 38,
      "outputs": [
        {
          "output_type": "stream",
          "name": "stdout",
          "text": [
            "{\n",
            "  \"backend\": \"faiss\",\n",
            "  \"build\": {\n",
            "    \"create\": \"2023-04-20T11:55:15Z\",\n",
            "    \"python\": \"3.9.16\",\n",
            "    \"settings\": {\n",
            "      \"components\": \"IDMap,Flat\"\n",
            "    },\n",
            "    \"system\": \"Linux (x86_64)\",\n",
            "    \"txtai\": \"5.4.0\"\n",
            "  },\n",
            "  \"content\": true,\n",
            "  \"dimensions\": 768,\n",
            "  \"objects\": true,\n",
            "  \"offset\": 3705,\n",
            "  \"path\": \"sentence-transformers/nli-mpnet-base-v2\",\n",
            "  \"update\": \"2023-04-20T11:55:15Z\"\n",
            "}\n"
          ]
        }
      ]
    },
    {
      "cell_type": "code",
      "source": [
        "import pandas as pd\n",
        "import sqlite3\n",
        "\n",
        "from IPython.display import display, Markdown\n",
        "\n",
        "# Print details of a txtai SQLite document database\n",
        "def showdb(path):\n",
        "  db = sqlite3.connect(path)\n",
        "\n",
        "  display(Markdown(\"## Tables\"))\n",
        "  df = pd.read_sql_query(\"select name FROM sqlite_master where type='table'\", db)\n",
        "  display(df.style.hide_index())\n",
        "\n",
        "  for table in df[\"name\"]:\n",
        "    display(Markdown(f\"## {table}\"))\n",
        "    df = pd.read_sql_query(f\"select * from {table}\", db)\n",
        "\n",
        "    # Truncate large binary objects\n",
        "    if \"object\" in df:\n",
        "      df[\"object\"] = df[\"object\"].str.slice(0, 25)\n",
        "\n",
        "    display(df[:5].style.hide_index())\n",
        "\n",
        "showdb(\"index/documents\")"
      ],
      "metadata": {
        "id": "misGdLoUfp3G"
      },
      "execution_count": null,
      "outputs": []
    },
    {
      "cell_type": "code",
      "source": [
        "import faiss\n",
        "import numpy as np\n",
        "\n",
        "# Query\n",
        "query = \"What is meditation?\"\n",
        "\n",
        "# Read index\n",
        "index = faiss.read_index(\"index/embeddings\")\n",
        "print(index)\n",
        "print(f\"Total records: {index.ntotal}, dimensions: {index.d}\")\n",
        "print()\n",
        "\n",
        "# Generate query embeddings and run query\n",
        "queries = np.array([embeddings.transform((None, query, None))])\n",
        "scores, ids = index.search(queries, 1)\n",
        "\n",
        "# Lookup query result from original data array\n",
        "result = split_data[ids[0][0]]\n",
        "\n",
        "# Show results\n",
        "print(\"Query:\", query)\n",
        "print(\"Results:\", result, ids, scores)"
      ],
      "metadata": {
        "colab": {
          "base_uri": "https://localhost:8080/"
        },
        "id": "hfFaZJmgkHEU",
        "outputId": "fdb8e9a2-4ec0-4157-ba3e-116fcbabe074"
      },
      "execution_count": 52,
      "outputs": [
        {
          "output_type": "stream",
          "name": "stdout",
          "text": [
            "<faiss.swigfaiss_avx2.IndexIDMap; proxy of <Swig Object of type 'faiss::IndexIDMapTemplate< faiss::Index > *' at 0x7f2b41541720> >\n",
            "Total records: 3706, dimensions: 768\n",
            "\n",
            "Query: What is meditation?\n",
            "Results: within them’’ (p. 243).\n",
            "4.5. The question of meditation proﬁciency\n",
            "In this study we included 36 MM practitioners with great exper-\n",
            "tise variability, ranging between 180 - 23,000 h, grouped in three\n",
            "groups. Albeit the large expertise range, we did not ﬁnd any MM\n",
            "expertise-related signiﬁcant effects in gamma power for the F [[465]] [[0.7788122]]\n"
          ]
        }
      ]
    },
    {
      "cell_type": "code",
      "source": [
        "import urllib\n",
        "\n",
        "from IPython.display import Image\n",
        "\n",
        "# Get an image\n",
        "request = urllib.request.urlopen(\"https://raw.githubusercontent.com/neuml/txtai/master/demo.gif\")\n",
        "\n",
        "# Get data\n",
        "data = request.read()\n",
        "\n",
        "# Upsert new record having both text and an object\n",
        "embeddings.upsert([(\"txtai\", {\"text\": \"txtai executes machine-learning workflows to transform data and build AI-powered semantic search applications.\", \n",
        "                              \"size\": len(data), \n",
        "                              \"object\": data}, None)])\n",
        "\n",
        "embeddings.save(\"index\")\n",
        "\n",
        "showdb(\"index/documents\")"
      ],
      "metadata": {
        "id": "xzPjjLT5kl-2"
      },
      "execution_count": null,
      "outputs": []
    },
    {
      "cell_type": "code",
      "source": [
        "embeddings.search(\"select * from authors where similar('neuro imaging')\")"
      ],
      "metadata": {
        "colab": {
          "base_uri": "https://localhost:8080/"
        },
        "id": "7CUmIJd8k-0b",
        "outputId": "f7cd317f-e89a-42b1-ef29-c2158b967d8b"
      },
      "execution_count": 51,
      "outputs": [
        {
          "output_type": "execute_result",
          "data": {
            "text/plain": [
              "[{'id': '1004',\n",
              "  'text': '13. FoxKCR, Nijeboer S,Dixon ML,Floman JL,Ellamil M,Rumak SP,etal.Ismeditation associated with\\naltered brain structure? Asystematic review andmeta-analy sisofmorpho metric neuroimaging inmedi-\\ntation practitio ners. Neuroscienc e&Biobehavior alReviews. 2014; 43:48±7 3.doi:10.1016/ j.neubiorev.\\n2014.03. 016PMID: 24705269',\n",
              "  'score': 0.6630920171737671},\n",
              " {'id': '511',\n",
              "  'text': 'the right prefrontal cortex in self-evaluation of the face. A functional magneticresonance imaging study. J Cogn Neurosci 2008;20:342–55.\\nNelson TO. Consciousness and metacognition. Am Psychol 1996;51:102–16.\\nNielsen L, Kaszniak AW. Awareness of subtle emotional feelings: a comparison of',\n",
              "  'score': 0.6353673338890076},\n",
              " {'id': '1029',\n",
              "  'text': '46. Viola FC,Thorne J,Edmond sB,Schneid erT,Eichele T,Debener S.Semi-a utomatic identificat ionof\\nindependent compone ntsrepresenting EEG artifact. Clinical Neurophysio logy. 2009; 120(5):868 ±877.\\ndoi:10.1016 /j.clinph.2009. 01.015 PMID: 1934561 1\\n47. Piron H.The meditation depth index (MEDI) andthemeditation depth questionn aire(MEDEQ). Journal',\n",
              "  'score': 0.6309292316436768}]"
            ]
          },
          "metadata": {},
          "execution_count": 51
        }
      ]
    },
    {
      "cell_type": "code",
      "source": [],
      "metadata": {
        "id": "4z0WmG1Nk-u_"
      },
      "execution_count": null,
      "outputs": []
    },
    {
      "cell_type": "code",
      "source": [],
      "metadata": {
        "id": "Cs-jJRc6k-kk"
      },
      "execution_count": null,
      "outputs": []
    }
  ]
}