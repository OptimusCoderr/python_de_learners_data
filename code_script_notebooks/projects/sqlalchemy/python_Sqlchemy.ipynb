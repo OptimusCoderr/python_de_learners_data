{
 "cells": [
  {
   "cell_type": "markdown",
   "id": "6c477652",
   "metadata": {},
   "source": [
    "#### Sql Alchemy and Python Execution Environment"
   ]
  },
  {
   "cell_type": "code",
   "execution_count": 1,
   "id": "fb370b19",
   "metadata": {},
   "outputs": [],
   "source": [
    "import pandas as pd\n",
    "import sqlite3\n",
    "\n",
    "def load_data(database_loc, data_file,table_name):\n",
    "    \"\"\"Database located at best in the same location as the file.\n",
    "    When the data is provided, ensure the full path is provided.\n",
    "    The table with the given name will be created.\"\"\"\n",
    "    conn = sqlite3.connect(database_loc)\n",
    "    dataframe = pd.read_csv(data_file)\n",
    "    dataframe.drop('Unnamed: 0',axis=1,inplace=True)\n",
    "    dataframe.to_sql(table_name, conn, if_exists='append',index=True)\n",
    "    print(f'Data uploaded into {database_loc}')"
   ]
  },
  {
   "cell_type": "code",
   "execution_count": 2,
   "id": "10eabc4a",
   "metadata": {},
   "outputs": [],
   "source": [
    "db_loc = 'trial_data.db'\n",
    "data_loc = '~/sample_data.csv'\n",
    "table_name = 'hack_data'\n",
    "\n",
    "#load_data(db_loc,data_loc,table_name)"
   ]
  },
  {
   "cell_type": "code",
   "execution_count": 3,
   "id": "27ced542",
   "metadata": {},
   "outputs": [],
   "source": [
    "from sqlalchemy import create_engine, select\n",
    "from sqlalchemy.ext.declarative import declarative_base\n",
    "#from sqlalchemy.orm import sessionmaker\n",
    "from sqlalchemy.orm import Session\n",
    "from sqlalchemy import Column, Integer, Float, String\n",
    "from sqlalchemy.sql.sqltypes import TIMESTAMP"
   ]
  },
  {
   "cell_type": "code",
   "execution_count": 4,
   "id": "3593bde8",
   "metadata": {},
   "outputs": [],
   "source": [
    "db_conn = create_engine('sqlite:///trial_data.db')\n",
    "Base = declarative_base()"
   ]
  },
  {
   "cell_type": "code",
   "execution_count": 5,
   "id": "c0e99456",
   "metadata": {},
   "outputs": [],
   "source": [
    "class Hacker(Base):\n",
    "    \"\"\"Hacker class provides access to the table hack_data in any Database\"\"\"\n",
    "    __tablename__ = 'hack_data'\n",
    "    Index = Column(Integer, primary_key=True,nullable=False)\n",
    "    Datetime = Column(String)\n",
    "    Host = Column(String)\n",
    "    Src = Column(Integer)\n",
    "    Proto = Column(String)\n",
    "    Type = Column(String)\n",
    "    Spt = Column(Float)\n",
    "    Dpt = Column(Float)\n",
    "    Srcstr = Column(String)\n",
    "    Cc = Column(String)\n",
    "    Country = Column(String)\n",
    "    Locale = Column(String)\n",
    "    Localeabbr = Column(String)\n",
    "    Postalcode = Column(String)\n",
    "    Latitude = Column(Float)\n",
    "    Longitude = Column(Float)\n"
   ]
  },
  {
   "cell_type": "code",
   "execution_count": 6,
   "id": "b7e79b06",
   "metadata": {},
   "outputs": [
    {
     "name": "stdout",
     "output_type": "stream",
     "text": [
      "7/9/13 6:08\n",
      "8/26/13 23:41\n",
      "8/26/13 23:59\n",
      "8/24/13 15:41\n",
      "7/4/13 13:05\n",
      "5/31/13 15:59\n",
      "8/11/13 8:38\n",
      "9/2/13 13:35\n",
      "5/30/13 5:02\n",
      "7/2/13 20:33\n"
     ]
    }
   ],
   "source": [
    "with Session(db_conn) as connected:\n",
    "    data_recd = connected.scalars(select(Hacker).limit(10))\n",
    "    for row in data_recd: \n",
    "        print(row.Datetime)"
   ]
  },
  {
   "cell_type": "markdown",
   "id": "416676e4",
   "metadata": {},
   "source": [
    "https://github.com/tiangolo/pydantic-sqlalchemy\n",
    "\n",
    "https://docs.sqlalchemy.org/en/14/orm/quickstart.html#declare-models"
   ]
  },
  {
   "cell_type": "code",
   "execution_count": 13,
   "id": "17270da5",
   "metadata": {},
   "outputs": [],
   "source": [
    "from pydantic_sqlalchemy import sqlalchemy_to_pydantic\n",
    "PydanticHacker = sqlalchemy_to_pydantic(Hacker)"
   ]
  },
  {
   "cell_type": "code",
   "execution_count": 18,
   "id": "c0084fe5",
   "metadata": {},
   "outputs": [],
   "source": [
    "from sqlalchemy.orm import relationship, sessionmaker\n",
    "HackerSession = sessionmaker(bind=db_conn)\n",
    "db_exec : Session = HackerSession()"
   ]
  },
  {
   "cell_type": "code",
   "execution_count": 19,
   "id": "e68f29c2",
   "metadata": {},
   "outputs": [],
   "source": [
    "hackerData = db_exec.query(Hacker).first()"
   ]
  },
  {
   "cell_type": "code",
   "execution_count": 20,
   "id": "489dd69d",
   "metadata": {},
   "outputs": [],
   "source": [
    "pyd_hacker_data = PydanticHacker.from_orm(hackerData)"
   ]
  },
  {
   "cell_type": "code",
   "execution_count": 21,
   "id": "7798aff6",
   "metadata": {},
   "outputs": [
    {
     "data": {
      "text/plain": [
       "{'Index': 0,\n",
       " 'Datetime': '7/9/13 6:08',\n",
       " 'Host': 'groucho-sa',\n",
       " 'Src': 1017973657,\n",
       " 'Proto': 'TCP',\n",
       " 'Type': 'unknown',\n",
       " 'Spt': 6000.0,\n",
       " 'Dpt': 80.0,\n",
       " 'Srcstr': '60.173.11.153',\n",
       " 'Cc': 'CN',\n",
       " 'Country': 'China',\n",
       " 'Locale': 'Anhui Sheng',\n",
       " 'Localeabbr': '34',\n",
       " 'Postalcode': 'unknown',\n",
       " 'Latitude': 31.8639,\n",
       " 'Longitude': 117.2808}"
      ]
     },
     "execution_count": 21,
     "metadata": {},
     "output_type": "execute_result"
    }
   ],
   "source": [
    "pyd_hacker_data.dict()"
   ]
  },
  {
   "cell_type": "code",
   "execution_count": 33,
   "id": "1e7021bc",
   "metadata": {},
   "outputs": [],
   "source": [
    "class Tutorial(Base):\n",
    "    \"\"\"Tutorial class provides access to the table tutorial_pyd in any Database\"\"\"\n",
    "    __tablename__ = 'tutorial_pyd'\n",
    "    Index = Column(Integer, primary_key=True,nullable=False)\n",
    "    Host = Column(String)\n",
    "    Student = Column(String)\n",
    "    Country = Column(String)\n",
    "    Postalcode = Column(Integer)\n",
    "    Latitude = Column(Float)\n",
    "    Longitude = Column(Float)\n"
   ]
  },
  {
   "cell_type": "code",
   "execution_count": 35,
   "id": "16de680e",
   "metadata": {},
   "outputs": [],
   "source": [
    "Base.metadata.create_all(db_conn)"
   ]
  },
  {
   "cell_type": "code",
   "execution_count": 36,
   "id": "84e11e7d",
   "metadata": {},
   "outputs": [],
   "source": [
    "std1 = Tutorial(Host='Martian',Student='Venusian',\n",
    "                Country='Tiberi',Postalcode=1578689,\n",
    "               Latitude=576.68,Longitude=265.79)\n"
   ]
  },
  {
   "cell_type": "code",
   "execution_count": 39,
   "id": "a4ea8bfc",
   "metadata": {},
   "outputs": [],
   "source": [
    "db_exec.add(std1)\n",
    "db_exec.commit()"
   ]
  },
  {
   "cell_type": "code",
   "execution_count": 40,
   "id": "f02e1dae",
   "metadata": {},
   "outputs": [
    {
     "data": {
      "text/plain": [
       "Tutorial(Index=1, Host='Martian', Student='Venusian', Country='Tiberi', Postalcode=1578689, Latitude=576.68, Longitude=265.79)"
      ]
     },
     "execution_count": 40,
     "metadata": {},
     "output_type": "execute_result"
    }
   ],
   "source": [
    "tutorialData = db_exec.query(Tutorial).first()\n",
    "pydanticTutorial = sqlalchemy_to_pydantic(Tutorial)\n",
    "tutorialOutput = pydanticTutorial.from_orm(tutorialData)\n",
    "tutorialOutput"
   ]
  },
  {
   "cell_type": "code",
   "execution_count": null,
   "id": "d69f3377",
   "metadata": {},
   "outputs": [],
   "source": []
  }
 ],
 "metadata": {
  "kernelspec": {
   "display_name": "Python 3 (ipykernel)",
   "language": "python",
   "name": "python3"
  },
  "language_info": {
   "codemirror_mode": {
    "name": "ipython",
    "version": 3
   },
   "file_extension": ".py",
   "mimetype": "text/x-python",
   "name": "python",
   "nbconvert_exporter": "python",
   "pygments_lexer": "ipython3",
   "version": "3.10.9"
  }
 },
 "nbformat": 4,
 "nbformat_minor": 5
}
