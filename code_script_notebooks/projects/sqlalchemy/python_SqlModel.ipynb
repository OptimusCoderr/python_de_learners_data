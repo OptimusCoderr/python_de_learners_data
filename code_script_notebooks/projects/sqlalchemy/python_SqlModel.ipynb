{
 "cells": [
  {
   "cell_type": "markdown",
   "id": "7edab4e6",
   "metadata": {},
   "source": [
    "#### Sql Alchemy and Python Execution Environment"
   ]
  },
  {
   "cell_type": "markdown",
   "id": "515ab907",
   "metadata": {},
   "source": [
    "https://github.com/tiangolo/sqlmodel\n",
    "\n",
    "https://github.com/tiangolo/fastapi/discussions/8295"
   ]
  },
  {
   "cell_type": "code",
   "execution_count": 14,
   "id": "60d51416",
   "metadata": {},
   "outputs": [
    {
     "name": "stdout",
     "output_type": "stream",
     "text": [
      ",datetime,host,src,proto,type,spt,dpt,srcstr,cc,country,locale,localeabbr,postalcode,latitude,longitude\r\n",
      "272410,7/9/13 6:08,groucho-sa,1017973657,TCP,unknown,6000.0,80.0,60.173.11.153,CN,China,Anhui Sheng,34,unknown,31.8639,117.2808\r\n",
      "406083,8/26/13 23:41,groucho-tokyo,2945632252,UDP,unknown,25416.0,56338.0,175.146.199.252,CN,China,Liaoning,21,unknown,41.7922,123.4328\r\n",
      "411946,8/26/13 23:59,groucho-tokyo,2945632252,UDP,unknown,25416.0,56338.0,175.146.199.252,CN,China,Liaoning,21,unknown,41.7922,123.4328\r\n",
      "398065,8/24/13 15:41,groucho-tokyo,3076878818,UDP,unknown,50785.0,20029.0,183.101.113.226,KR,South Korea,unknown,unknown,unknown,37.57,126.98\r\n",
      "cat: write error: Broken pipe\r\n"
     ]
    }
   ],
   "source": [
    "!cat sample_data.csv | head -n 5"
   ]
  },
  {
   "cell_type": "code",
   "execution_count": 1,
   "id": "a002ae12",
   "metadata": {},
   "outputs": [],
   "source": [
    "import pandas as pd\n",
    "import sqlite3\n",
    "\n",
    "def load_data(database_loc, data_file,table_name):\n",
    "    \"\"\"Database located at best in the same location as the file.\n",
    "    When the data is provided, ensure the full path is provided.\n",
    "    The table with the given name will be created.\"\"\"\n",
    "    conn = sqlite3.connect(database_loc)\n",
    "    dataframe = pd.read_csv(data_file)\n",
    "    dataframe.drop('Unnamed: 0',axis=1,inplace=True)\n",
    "    dataframe.to_sql(table_name, conn, if_exists='append',index=True)\n",
    "    print(f'Data uploaded into {database_loc}')"
   ]
  },
  {
   "cell_type": "code",
   "execution_count": 2,
   "id": "af3c124b",
   "metadata": {},
   "outputs": [],
   "source": [
    "db_loc = 'trial_data.db'\n",
    "data_loc = '~/sample_data.csv'\n",
    "table_name = 'hack_data'\n",
    "\n",
    "#load_data(db_loc,data_loc,table_name)"
   ]
  },
  {
   "cell_type": "code",
   "execution_count": 3,
   "id": "16d8c27b",
   "metadata": {},
   "outputs": [],
   "source": [
    "from sqlmodel import Field, Session, SQLModel, create_engine, select\n",
    "from typing import Optional"
   ]
  },
  {
   "cell_type": "code",
   "execution_count": 4,
   "id": "c617ddfa",
   "metadata": {},
   "outputs": [],
   "source": [
    "db_conn = create_engine('sqlite:///trial_data.db')"
   ]
  },
  {
   "cell_type": "code",
   "execution_count": 5,
   "id": "da8b64dc",
   "metadata": {},
   "outputs": [],
   "source": [
    "class hack_data(SQLModel, table=True):\n",
    "    Index : Optional[int] = Field(default=None,primary_key=True)\n",
    "    Datetime : str\n",
    "    Host : str\n",
    "    Src : int\n",
    "    Proto : str\n",
    "    Type : str\n",
    "    Spt : float\n",
    "    Dpt : float\n",
    "    Srcstr : str\n",
    "    Cc : str\n",
    "    Country : str\n",
    "    Locale : str\n",
    "    Localeabbr : str\n",
    "    Postalcode : str\n",
    "    Latitude : float\n",
    "    Longitude : float"
   ]
  },
  {
   "cell_type": "code",
   "execution_count": 6,
   "id": "a27fb88f",
   "metadata": {},
   "outputs": [
    {
     "name": "stdout",
     "output_type": "stream",
     "text": [
      "Data uploaded into trial_data.db\n"
     ]
    }
   ],
   "source": [
    "load_data(db_loc,data_loc,table_name)"
   ]
  },
  {
   "cell_type": "code",
   "execution_count": 7,
   "id": "355ef40d",
   "metadata": {},
   "outputs": [],
   "source": [
    "with Session(db_conn) as session:\n",
    "    statement = select(hack_data).limit(10)"
   ]
  },
  {
   "cell_type": "code",
   "execution_count": 8,
   "id": "d1d24324",
   "metadata": {},
   "outputs": [],
   "source": [
    "hack_row_data = session.exec(statement).first()"
   ]
  },
  {
   "cell_type": "code",
   "execution_count": 10,
   "id": "084dc573",
   "metadata": {},
   "outputs": [],
   "source": [
    "hack_ten_data = session.exec(statement).all()"
   ]
  },
  {
   "cell_type": "code",
   "execution_count": 9,
   "id": "7d348aee",
   "metadata": {},
   "outputs": [
    {
     "data": {
      "text/plain": [
       "{'Datetime': '7/9/13 6:08',\n",
       " 'Host': 'groucho-sa',\n",
       " 'Proto': 'TCP',\n",
       " 'Spt': 6000.0,\n",
       " 'Srcstr': '60.173.11.153',\n",
       " 'Country': 'China',\n",
       " 'Localeabbr': '34',\n",
       " 'Latitude': 31.8639,\n",
       " 'Src': 1017973657,\n",
       " 'Index': 0,\n",
       " 'Type': 'unknown',\n",
       " 'Dpt': 80.0,\n",
       " 'Cc': 'CN',\n",
       " 'Locale': 'Anhui Sheng',\n",
       " 'Postalcode': 'unknown',\n",
       " 'Longitude': 117.2808}"
      ]
     },
     "execution_count": 9,
     "metadata": {},
     "output_type": "execute_result"
    }
   ],
   "source": [
    "hack_row_data.dict()"
   ]
  },
  {
   "cell_type": "code",
   "execution_count": 11,
   "id": "dedeed4f",
   "metadata": {},
   "outputs": [
    {
     "data": {
      "text/plain": [
       "10"
      ]
     },
     "execution_count": 11,
     "metadata": {},
     "output_type": "execute_result"
    }
   ],
   "source": [
    "len(hack_ten_data)"
   ]
  },
  {
   "cell_type": "code",
   "execution_count": 12,
   "id": "d1028101",
   "metadata": {},
   "outputs": [
    {
     "name": "stdout",
     "output_type": "stream",
     "text": [
      "Datetime='7/9/13 6:08' Host='groucho-sa' Proto='TCP' Spt=6000.0 Srcstr='60.173.11.153' Country='China' Localeabbr='34' Latitude=31.8639 Src=1017973657 Index=0 Type='unknown' Dpt=80.0 Cc='CN' Locale='Anhui Sheng' Postalcode='unknown' Longitude=117.2808\n",
      "Datetime='8/26/13 23:41' Host='groucho-tokyo' Proto='UDP' Spt=25416.0 Srcstr='175.146.199.252' Country='China' Localeabbr='21' Latitude=41.7922 Src=2945632252 Index=1 Type='unknown' Dpt=56338.0 Cc='CN' Locale='Liaoning' Postalcode='unknown' Longitude=123.4328\n",
      "Datetime='8/26/13 23:59' Host='groucho-tokyo' Proto='UDP' Spt=25416.0 Srcstr='175.146.199.252' Country='China' Localeabbr='21' Latitude=41.7922 Src=2945632252 Index=2 Type='unknown' Dpt=56338.0 Cc='CN' Locale='Liaoning' Postalcode='unknown' Longitude=123.4328\n",
      "Datetime='8/24/13 15:41' Host='groucho-tokyo' Proto='UDP' Spt=50785.0 Srcstr='183.101.113.226' Country='South Korea' Localeabbr='unknown' Latitude=37.57 Src=3076878818 Index=3 Type='unknown' Dpt=20029.0 Cc='KR' Locale='unknown' Postalcode='unknown' Longitude=126.98\n",
      "Datetime='7/4/13 13:05' Host='groucho-eu' Proto='TCP' Spt=47672.0 Srcstr='216.244.73.227' Country='United States' Localeabbr='WA' Latitude=47.4891 Src=3639888355 Index=4 Type='unknown' Dpt=3389.0 Cc='US' Locale='Washington' Postalcode='98168' Longitude=-122.2908\n",
      "Datetime='5/31/13 15:59' Host='zeppo-norcal' Proto='TCP' Spt=2539.0 Srcstr='200.123.152.153' Country='Argentina' Localeabbr='C' Latitude=-34.5875 Src=3363543193 Index=5 Type='unknown' Dpt=445.0 Cc='AR' Locale='Buenos Aires F.D.' Postalcode='unknown' Longitude=-58.6725\n",
      "Datetime='8/11/13 8:38' Host='groucho-us-east' Proto='TCP' Spt=4955.0 Srcstr='68.145.164.27' Country='Canada' Localeabbr='AB' Latitude=51.0833 Src=1150395419 Index=6 Type='unknown' Dpt=80.0 Cc='CA' Locale='Alberta' Postalcode='unknown' Longitude=-114.0833\n",
      "Datetime='9/2/13 13:35' Host='groucho-oregon' Proto='TCP' Spt=60702.0 Srcstr='203.156.199.231' Country='China' Localeabbr='unknown' Latitude=35.0 Src=3416049639 Index=7 Type='unknown' Dpt=1433.0 Cc='CN' Locale='unknown' Postalcode='unknown' Longitude=105.0\n",
      "Datetime='5/30/13 5:02' Host='groucho-oregon' Proto='TCP' Spt=6000.0 Srcstr='42.96.175.227' Country='China' Localeabbr='11' Latitude=39.9289 Src=710979555 Index=8 Type='unknown' Dpt=1433.0 Cc='CN' Locale='Beijing Shi' Postalcode='unknown' Longitude=116.3883\n",
      "Datetime='7/2/13 20:33' Host='groucho-tokyo' Proto='UDP' Spt=5085.0 Srcstr='37.0.123.112' Country='Russia' Localeabbr='MOW' Latitude=55.7522 Src=620788592 Index=9 Type='unknown' Dpt=5060.0 Cc='RU' Locale='Moscow' Postalcode='unknown' Longitude=37.6156\n"
     ]
    }
   ],
   "source": [
    "for data in hack_ten_data:\n",
    "    print(data)"
   ]
  },
  {
   "cell_type": "code",
   "execution_count": 13,
   "id": "a5754307",
   "metadata": {},
   "outputs": [
    {
     "name": "stdout",
     "output_type": "stream",
     "text": [
      "{'Datetime': '7/9/13 6:08', 'Host': 'groucho-sa', 'Proto': 'TCP', 'Spt': 6000.0, 'Srcstr': '60.173.11.153', 'Country': 'China', 'Localeabbr': '34', 'Latitude': 31.8639, 'Src': 1017973657, 'Index': 0, 'Type': 'unknown', 'Dpt': 80.0, 'Cc': 'CN', 'Locale': 'Anhui Sheng', 'Postalcode': 'unknown', 'Longitude': 117.2808}\n",
      "{'Datetime': '8/26/13 23:41', 'Host': 'groucho-tokyo', 'Proto': 'UDP', 'Spt': 25416.0, 'Srcstr': '175.146.199.252', 'Country': 'China', 'Localeabbr': '21', 'Latitude': 41.7922, 'Src': 2945632252, 'Index': 1, 'Type': 'unknown', 'Dpt': 56338.0, 'Cc': 'CN', 'Locale': 'Liaoning', 'Postalcode': 'unknown', 'Longitude': 123.4328}\n",
      "{'Datetime': '8/26/13 23:59', 'Host': 'groucho-tokyo', 'Proto': 'UDP', 'Spt': 25416.0, 'Srcstr': '175.146.199.252', 'Country': 'China', 'Localeabbr': '21', 'Latitude': 41.7922, 'Src': 2945632252, 'Index': 2, 'Type': 'unknown', 'Dpt': 56338.0, 'Cc': 'CN', 'Locale': 'Liaoning', 'Postalcode': 'unknown', 'Longitude': 123.4328}\n",
      "{'Datetime': '8/24/13 15:41', 'Host': 'groucho-tokyo', 'Proto': 'UDP', 'Spt': 50785.0, 'Srcstr': '183.101.113.226', 'Country': 'South Korea', 'Localeabbr': 'unknown', 'Latitude': 37.57, 'Src': 3076878818, 'Index': 3, 'Type': 'unknown', 'Dpt': 20029.0, 'Cc': 'KR', 'Locale': 'unknown', 'Postalcode': 'unknown', 'Longitude': 126.98}\n",
      "{'Datetime': '7/4/13 13:05', 'Host': 'groucho-eu', 'Proto': 'TCP', 'Spt': 47672.0, 'Srcstr': '216.244.73.227', 'Country': 'United States', 'Localeabbr': 'WA', 'Latitude': 47.4891, 'Src': 3639888355, 'Index': 4, 'Type': 'unknown', 'Dpt': 3389.0, 'Cc': 'US', 'Locale': 'Washington', 'Postalcode': '98168', 'Longitude': -122.2908}\n",
      "{'Datetime': '5/31/13 15:59', 'Host': 'zeppo-norcal', 'Proto': 'TCP', 'Spt': 2539.0, 'Srcstr': '200.123.152.153', 'Country': 'Argentina', 'Localeabbr': 'C', 'Latitude': -34.5875, 'Src': 3363543193, 'Index': 5, 'Type': 'unknown', 'Dpt': 445.0, 'Cc': 'AR', 'Locale': 'Buenos Aires F.D.', 'Postalcode': 'unknown', 'Longitude': -58.6725}\n",
      "{'Datetime': '8/11/13 8:38', 'Host': 'groucho-us-east', 'Proto': 'TCP', 'Spt': 4955.0, 'Srcstr': '68.145.164.27', 'Country': 'Canada', 'Localeabbr': 'AB', 'Latitude': 51.0833, 'Src': 1150395419, 'Index': 6, 'Type': 'unknown', 'Dpt': 80.0, 'Cc': 'CA', 'Locale': 'Alberta', 'Postalcode': 'unknown', 'Longitude': -114.0833}\n",
      "{'Datetime': '9/2/13 13:35', 'Host': 'groucho-oregon', 'Proto': 'TCP', 'Spt': 60702.0, 'Srcstr': '203.156.199.231', 'Country': 'China', 'Localeabbr': 'unknown', 'Latitude': 35.0, 'Src': 3416049639, 'Index': 7, 'Type': 'unknown', 'Dpt': 1433.0, 'Cc': 'CN', 'Locale': 'unknown', 'Postalcode': 'unknown', 'Longitude': 105.0}\n",
      "{'Datetime': '5/30/13 5:02', 'Host': 'groucho-oregon', 'Proto': 'TCP', 'Spt': 6000.0, 'Srcstr': '42.96.175.227', 'Country': 'China', 'Localeabbr': '11', 'Latitude': 39.9289, 'Src': 710979555, 'Index': 8, 'Type': 'unknown', 'Dpt': 1433.0, 'Cc': 'CN', 'Locale': 'Beijing Shi', 'Postalcode': 'unknown', 'Longitude': 116.3883}\n",
      "{'Datetime': '7/2/13 20:33', 'Host': 'groucho-tokyo', 'Proto': 'UDP', 'Spt': 5085.0, 'Srcstr': '37.0.123.112', 'Country': 'Russia', 'Localeabbr': 'MOW', 'Latitude': 55.7522, 'Src': 620788592, 'Index': 9, 'Type': 'unknown', 'Dpt': 5060.0, 'Cc': 'RU', 'Locale': 'Moscow', 'Postalcode': 'unknown', 'Longitude': 37.6156}\n"
     ]
    }
   ],
   "source": [
    "for data in hack_ten_data:\n",
    "    print(data.dict())"
   ]
  },
  {
   "cell_type": "code",
   "execution_count": 21,
   "id": "1907a730",
   "metadata": {},
   "outputs": [],
   "source": [
    "add_host1 = hack_data(Host='groucho-ne')\n",
    "add_host2 = hack_data(Host='groucho-or')\n",
    "add_host3 = hack_data(Host='groucho-es')"
   ]
  },
  {
   "cell_type": "code",
   "execution_count": 22,
   "id": "0b126549",
   "metadata": {},
   "outputs": [],
   "source": [
    "session.add_all([add_host1,add_host2,add_host3])\n",
    "session.commit()"
   ]
  },
  {
   "cell_type": "code",
   "execution_count": 24,
   "id": "3768843d",
   "metadata": {},
   "outputs": [],
   "source": [
    "class tutorial_sqlm(SQLModel, table=True):\n",
    "    Index : Optional[int] = Field(default=None,primary_key=True)\n",
    "    Host : str\n",
    "    Student : str\n",
    "    Country : str\n",
    "    Postalcode : int\n",
    "    Latitude : float\n",
    "    Longitude : float"
   ]
  },
  {
   "cell_type": "code",
   "execution_count": 25,
   "id": "b6af320e",
   "metadata": {},
   "outputs": [],
   "source": [
    "SQLModel.metadata.create_all(db_conn)"
   ]
  },
  {
   "cell_type": "code",
   "execution_count": 26,
   "id": "b612531d",
   "metadata": {},
   "outputs": [],
   "source": [
    "std1 = tutorial_sqlm(Host='Martian',Student='Venusian',\n",
    "                Country='Tiberi',Postalcode=1578689,\n",
    "               Latitude=576.68,Longitude=265.79)\n",
    "session.add(std1)\n",
    "session.commit()"
   ]
  },
  {
   "cell_type": "code",
   "execution_count": 27,
   "id": "ede0f9d7",
   "metadata": {},
   "outputs": [],
   "source": [
    "with Session(db_conn) as session:\n",
    "    student = select(tutorial_sqlm).limit(10)\n",
    "    student_query = session.exec(student).first()\n",
    "    student_data = student_query.dict()"
   ]
  },
  {
   "cell_type": "code",
   "execution_count": 28,
   "id": "42bebeca",
   "metadata": {},
   "outputs": [
    {
     "data": {
      "text/plain": [
       "{'Postalcode': 1578689,\n",
       " 'Host': 'Martian',\n",
       " 'Student': 'Venusian',\n",
       " 'Longitude': 265.79,\n",
       " 'Index': 1,\n",
       " 'Country': 'Tiberi',\n",
       " 'Latitude': 576.68}"
      ]
     },
     "execution_count": 28,
     "metadata": {},
     "output_type": "execute_result"
    }
   ],
   "source": [
    "student_data"
   ]
  },
  {
   "cell_type": "code",
   "execution_count": 30,
   "id": "5e9a8328",
   "metadata": {},
   "outputs": [],
   "source": [
    "session.delete(student_query)"
   ]
  },
  {
   "cell_type": "code",
   "execution_count": 31,
   "id": "517c73c7",
   "metadata": {},
   "outputs": [],
   "source": [
    "session.commit()"
   ]
  }
 ],
 "metadata": {
  "kernelspec": {
   "display_name": "Python 3 (ipykernel)",
   "language": "python",
   "name": "python3"
  },
  "language_info": {
   "codemirror_mode": {
    "name": "ipython",
    "version": 3
   },
   "file_extension": ".py",
   "mimetype": "text/x-python",
   "name": "python",
   "nbconvert_exporter": "python",
   "pygments_lexer": "ipython3",
   "version": "3.10.9"
  }
 },
 "nbformat": 4,
 "nbformat_minor": 5
}
