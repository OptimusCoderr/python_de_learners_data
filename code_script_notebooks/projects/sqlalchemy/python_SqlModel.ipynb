{
 "cells": [
  {
   "cell_type": "markdown",
   "id": "7edab4e6",
   "metadata": {},
   "source": [
    "#### Sql Alchemy and Python Execution Environment"
   ]
  },
  {
   "cell_type": "markdown",
   "id": "515ab907",
   "metadata": {},
   "source": [
    "https://github.com/tiangolo/sqlmodel\n",
    "\n",
    "https://github.com/tiangolo/fastapi/discussions/8295"
   ]
  },
  {
   "cell_type": "code",
   "execution_count": 1,
   "id": "a002ae12",
   "metadata": {},
   "outputs": [],
   "source": [
    "import pandas as pd\n",
    "import sqlite3\n",
    "\n",
    "def load_data(database_loc, data_file,table_name):\n",
    "    \"\"\"Database located at best in the same location as the file.\n",
    "    When the data is provided, ensure the full path is provided.\n",
    "    The table with the given name will be created.\"\"\"\n",
    "    conn = sqlite3.connect(database_loc)\n",
    "    dataframe = pd.read_csv(data_file)\n",
    "    dataframe.drop('Unnamed: 0',axis=1,inplace=True)\n",
    "    dataframe.to_sql(table_name, conn, if_exists='append',index=True)\n",
    "    print(f'Data uploaded into {database_loc}')"
   ]
  },
  {
   "cell_type": "code",
   "execution_count": 2,
   "id": "af3c124b",
   "metadata": {},
   "outputs": [],
   "source": [
    "db_loc = 'trial_data.db'\n",
    "data_loc = '~/sample_data.csv'\n",
    "table_name = 'hack_data'\n",
    "\n",
    "#load_data(db_loc,data_loc,table_name)"
   ]
  },
  {
   "cell_type": "code",
   "execution_count": 7,
   "id": "16d8c27b",
   "metadata": {},
   "outputs": [],
   "source": [
    "from sqlmodel import Field, Session, SQLModel, create_engine, select\n",
    "from typing import Optional"
   ]
  },
  {
   "cell_type": "code",
   "execution_count": 4,
   "id": "c617ddfa",
   "metadata": {},
   "outputs": [],
   "source": [
    "db_conn = create_engine('sqlite:///trial_data.db')"
   ]
  },
  {
   "cell_type": "code",
   "execution_count": 10,
   "id": "da8b64dc",
   "metadata": {},
   "outputs": [],
   "source": [
    "class hack_data(SQLModel, table=True):\n",
    "    Index : Optional[int] = Field(default=None,primary_key=True)\n",
    "    Datetime : str\n",
    "    Host : str\n",
    "    Src : int\n",
    "    Proto : str\n",
    "    Type : str\n",
    "    Spt : float\n",
    "    Dpt : float\n",
    "    Srcstr : str\n",
    "    Cc : str\n",
    "    Country : str\n",
    "    Locale : str\n",
    "    Localeabbr : str\n",
    "    Postalcode : str\n",
    "    Latitude : float\n",
    "    Longitude : float"
   ]
  },
  {
   "cell_type": "code",
   "execution_count": 13,
   "id": "355ef40d",
   "metadata": {},
   "outputs": [],
   "source": [
    "with Session(db_conn) as session:\n",
    "    statement = select(hack_data).limit(10)"
   ]
  },
  {
   "cell_type": "code",
   "execution_count": 16,
   "id": "d1d24324",
   "metadata": {},
   "outputs": [],
   "source": [
    "hack_row_data = session.exec(statement).first()"
   ]
  },
  {
   "cell_type": "code",
   "execution_count": 19,
   "id": "7d348aee",
   "metadata": {},
   "outputs": [
    {
     "data": {
      "text/plain": [
       "{'Host': 'groucho-sa',\n",
       " 'Src': 1017973657,\n",
       " 'Type': 'unknown',\n",
       " 'Dpt': 80.0,\n",
       " 'Cc': 'CN',\n",
       " 'Locale': 'Anhui Sheng',\n",
       " 'Postalcode': 'unknown',\n",
       " 'Longitude': 117.2808,\n",
       " 'Datetime': '7/9/13 6:08',\n",
       " 'Proto': 'TCP',\n",
       " 'Index': 0,\n",
       " 'Spt': 6000.0,\n",
       " 'Srcstr': '60.173.11.153',\n",
       " 'Country': 'China',\n",
       " 'Localeabbr': '34',\n",
       " 'Latitude': 31.8639}"
      ]
     },
     "execution_count": 19,
     "metadata": {},
     "output_type": "execute_result"
    }
   ],
   "source": [
    "hack_row_data.dict()"
   ]
  },
  {
   "cell_type": "code",
   "execution_count": 21,
   "id": "1907a730",
   "metadata": {},
   "outputs": [],
   "source": [
    "add_host1 = hack_data(Host='groucho-ne')\n",
    "add_host2 = hack_data(Host='groucho-or')\n",
    "add_host3 = hack_data(Host='groucho-es')"
   ]
  },
  {
   "cell_type": "code",
   "execution_count": 22,
   "id": "0b126549",
   "metadata": {},
   "outputs": [],
   "source": [
    "session.add_all([add_host1,add_host2,add_host3])\n",
    "session.commit()"
   ]
  },
  {
   "cell_type": "code",
   "execution_count": 24,
   "id": "3768843d",
   "metadata": {},
   "outputs": [],
   "source": [
    "class tutorial_sqlm(SQLModel, table=True):\n",
    "    Index : Optional[int] = Field(default=None,primary_key=True)\n",
    "    Host : str\n",
    "    Student : str\n",
    "    Country : str\n",
    "    Postalcode : int\n",
    "    Latitude : float\n",
    "    Longitude : float"
   ]
  },
  {
   "cell_type": "code",
   "execution_count": 25,
   "id": "b6af320e",
   "metadata": {},
   "outputs": [],
   "source": [
    "SQLModel.metadata.create_all(db_conn)"
   ]
  },
  {
   "cell_type": "code",
   "execution_count": 26,
   "id": "b612531d",
   "metadata": {},
   "outputs": [],
   "source": [
    "std1 = tutorial_sqlm(Host='Martian',Student='Venusian',\n",
    "                Country='Tiberi',Postalcode=1578689,\n",
    "               Latitude=576.68,Longitude=265.79)\n",
    "session.add(std1)\n",
    "session.commit()"
   ]
  },
  {
   "cell_type": "code",
   "execution_count": 27,
   "id": "ede0f9d7",
   "metadata": {},
   "outputs": [],
   "source": [
    "with Session(db_conn) as session:\n",
    "    student = select(tutorial_sqlm).limit(10)\n",
    "    student_query = session.exec(student).first()\n",
    "    student_data = student_query.dict()"
   ]
  },
  {
   "cell_type": "code",
   "execution_count": 28,
   "id": "42bebeca",
   "metadata": {},
   "outputs": [
    {
     "data": {
      "text/plain": [
       "{'Postalcode': 1578689,\n",
       " 'Host': 'Martian',\n",
       " 'Student': 'Venusian',\n",
       " 'Longitude': 265.79,\n",
       " 'Index': 1,\n",
       " 'Country': 'Tiberi',\n",
       " 'Latitude': 576.68}"
      ]
     },
     "execution_count": 28,
     "metadata": {},
     "output_type": "execute_result"
    }
   ],
   "source": [
    "student_data"
   ]
  },
  {
   "cell_type": "code",
   "execution_count": 30,
   "id": "5e9a8328",
   "metadata": {},
   "outputs": [],
   "source": [
    "session.delete(student_query)"
   ]
  },
  {
   "cell_type": "code",
   "execution_count": 31,
   "id": "517c73c7",
   "metadata": {},
   "outputs": [],
   "source": [
    "session.commit()"
   ]
  }
 ],
 "metadata": {
  "kernelspec": {
   "display_name": "Python 3 (ipykernel)",
   "language": "python",
   "name": "python3"
  },
  "language_info": {
   "codemirror_mode": {
    "name": "ipython",
    "version": 3
   },
   "file_extension": ".py",
   "mimetype": "text/x-python",
   "name": "python",
   "nbconvert_exporter": "python",
   "pygments_lexer": "ipython3",
   "version": "3.10.9"
  }
 },
 "nbformat": 4,
 "nbformat_minor": 5
}
