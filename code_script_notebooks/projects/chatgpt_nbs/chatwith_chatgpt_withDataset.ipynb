{
 "cells": [
  {
   "cell_type": "code",
   "execution_count": 68,
   "id": "1cbf96cb",
   "metadata": {},
   "outputs": [],
   "source": [
    "#!/usr/bin/env python\n",
    "import json, openai,requests\n",
    "import warnings\n",
    "import os\n",
    "warnings.filterwarnings('ignore')\n",
    "import configparser\n",
    "import datetime"
   ]
  },
  {
   "cell_type": "code",
   "execution_count": 2,
   "id": "b207a083",
   "metadata": {},
   "outputs": [],
   "source": [
    "readKey = configparser.ConfigParser()\n",
    "readKey.read_file(open('apidata.config'))\n",
    "\n",
    "openai_org = readKey['OPENAI'][\"ORG\"]\n",
    "openai_key = readKey['OPENAI']['KEY'] "
   ]
  },
  {
   "cell_type": "code",
   "execution_count": 6,
   "id": "7fd1ede8",
   "metadata": {},
   "outputs": [],
   "source": [
    "def extract_response(org,key,role_player,request_content):\n",
    "    openai.organization = org\n",
    "    openai.api_key= key\n",
    "    response = openai.ChatCompletion.create(\n",
    "        model=\"gpt-3.5-turbo\",\n",
    "        messages=[\n",
    "            {\"role\": \"system\", \n",
    "             \"content\": f\"You are a {role_player}\"},\n",
    "            {\"role\": \"assistant\", \n",
    "             \"content\": f\"I have assumed the role of {role_player}\"},\n",
    "            {\"role\": \"user\", \n",
    "             \"content\": f\"\"\"If you can provide the Knowledge Graph in JSONLD for\n",
    "                         the dataset I provide, reply 'Yes I can.' \"\"\"},\n",
    "            {\"role\": \"assistant\", \n",
    "             \"content\": \"Yes I can\"},\n",
    "            {\"role\": \"user\", \n",
    "             \"content\": f\"Here is the dataset {request_content}. Provide Knowledge Graph\"}\n",
    "            ]\n",
    "        )\n",
    "    return response['choices'][0]['message']['content']"
   ]
  },
  {
   "cell_type": "code",
   "execution_count": 7,
   "id": "3656021b",
   "metadata": {},
   "outputs": [
    {
     "name": "stdout",
     "output_type": "stream",
     "text": [
      "What role you want me to play: Dataset Summarizer\n"
     ]
    }
   ],
   "source": [
    "get_role = input(\"What role you want me to play: \")"
   ]
  },
  {
   "cell_type": "code",
   "execution_count": 8,
   "id": "4b218f0a",
   "metadata": {},
   "outputs": [
    {
     "data": {
      "text/plain": [
       "'Dataset Summarizer'"
      ]
     },
     "execution_count": 8,
     "metadata": {},
     "output_type": "execute_result"
    }
   ],
   "source": [
    "get_role"
   ]
  },
  {
   "cell_type": "code",
   "execution_count": 11,
   "id": "3a98e9c3",
   "metadata": {},
   "outputs": [],
   "source": [
    "import tiktoken\n",
    "import pandas as pd\n",
    "def num_tokens_from_string(string: str, \n",
    "                           encoding_name: str = 'text-davinci-003') -> int:\n",
    "    \"\"\"Returns the number of tokens in a text string.\"\"\"\n",
    "    encoding = tiktoken.encoding_for_model(encoding_name)\n",
    "    num_tokens = len(encoding.encode(string))\n",
    "    return num_tokens"
   ]
  },
  {
   "cell_type": "code",
   "execution_count": 13,
   "id": "c597e583",
   "metadata": {},
   "outputs": [],
   "source": [
    "#reading in the dataset sample_data.csv\n",
    "\n",
    "with open('space_titanic.csv','r') as sd:\n",
    "    data = sd.readlines()"
   ]
  },
  {
   "cell_type": "code",
   "execution_count": 14,
   "id": "b6fc75bb",
   "metadata": {},
   "outputs": [],
   "source": [
    "data_chunks = []\n",
    "rng1 = 1"
   ]
  },
  {
   "cell_type": "code",
   "execution_count": 24,
   "id": "7d43d818",
   "metadata": {},
   "outputs": [],
   "source": [
    "##Version 1 of the prompt"
   ]
  },
  {
   "cell_type": "code",
   "execution_count": 20,
   "id": "f2746b18",
   "metadata": {
    "scrolled": true
   },
   "outputs": [
    {
     "name": "stdout",
     "output_type": "stream",
     "text": [
      "before spliting data 21 and 26\n",
      "PassengerId,HomePlanet,CryoSleep,Cabin,Destination,Age,VIP,RoomService,FoodCourt,ShoppingMall,Spa,VRDeck,Name,Transported\n",
      "+['0017_02,Earth,False,F/6/P,55 Cancri e,14.0,False,412.0,0.0,1.0,0.0,679.0,Philda Brighttt,False\\n', '0020_01,Earth,True,E/0/S,TRAPPIST-1e,1.0,False,0.0,0.0,0.0,0.0,0.0,Almary Brantuarez,False\\n', '0020_02,Earth,True,E/0/S,55 Cancri e,49.0,False,0.0,0.0,0.0,0.0,0.0,Glendy Brantuarez,False\\n', '0020_03,Earth,True,E/0/S,55 Cancri e,29.0,False,0.0,0.0,,0.0,0.0,Mollen Mcfaddennon,False\\n', '0020_04,Earth,False,E/0/S,TRAPPIST-1e,10.0,False,0.0,0.0,0.0,0.0,0.0,Breney Jacostanley,True\\n']\n",
      "Number of tokens for the dataset 1 is 388\n",
      "before spliting data 26 and 31\n",
      "PassengerId,HomePlanet,CryoSleep,Cabin,Destination,Age,VIP,RoomService,FoodCourt,ShoppingMall,Spa,VRDeck,Name,Transported\n",
      "+['0020_05,Earth,True,E/0/S,PSO J318.5-22,1.0,False,,0.0,0.0,0.0,0.0,Mael Brantuarez,False\\n', '0020_06,Earth,False,E/0/S,TRAPPIST-1e,7.0,False,0.0,0.0,0.0,0.0,0.0,Terta Mcfaddennon,False\\n', '0022_01,Mars,False,D/0/P,TRAPPIST-1e,21.0,False,980.0,2.0,69.0,0.0,0.0,,False\\n', '0024_01,Europa,True,C/2/S,TRAPPIST-1e,62.0,False,0.0,0.0,,0.0,0.0,Penton Fullided,True\\n', '0025_01,Earth,False,F/6/S,TRAPPIST-1e,15.0,False,0.0,225.0,0.0,998.0,0.0,Karard Brookenson,False\\n']\n",
      "Number of tokens for the dataset 2 is 381\n"
     ]
    }
   ],
   "source": [
    "for x in list(range(1,3)):\n",
    "    rng2 = rng1 + 5\n",
    "    print(f'before spliting data {rng1} and {rng2}')\n",
    "    data_t = f'{data[0]}+{data[rng1:rng2]}'\n",
    "    print(data_t)\n",
    "    prompt_made = f\"\"\"\n",
    "    dataset_{x}={data_t}\n",
    "    \n",
    "    Prompt:Refer to the [dataset_{x}] and provide the Knowledge graph that contains the \n",
    "    details of all the columns in the dataset.    \n",
    "    Answer:\n",
    "    \"\"\"\n",
    "    data_chunks.append(prompt_made)\n",
    "    print(f'Number of tokens for the dataset {x} is {num_tokens_from_string(prompt_made)}')\n",
    "    rng1 = rng1 + 5"
   ]
  },
  {
   "cell_type": "code",
   "execution_count": 16,
   "id": "4f8f138f",
   "metadata": {},
   "outputs": [],
   "source": [
    "def chunk_to_df(chunk_num,data_chunk):\n",
    "    \n",
    "    start = data_chunk.split('\\\\n')\n",
    "    \n",
    "    clean_step1 = start[0].strip(' \\n').replace('=','').replace(f'dataset_{chunk_num}','')\n",
    "\n",
    "    clean_step2 = clean_step1.split('\\n+[')\n",
    "    \n",
    "    header = clean_step2[0]\n",
    "    row1 = clean_step2[1]\n",
    "    \n",
    "    clean_row = []\n",
    "    for dat in start[1:]:\n",
    "        clean_row.append(dat.strip(\" ',\"))\n",
    "        \n",
    "    clean_row.insert(0,row1.strip(\"'\"))\n",
    "    clean_row.insert(0,header)\n",
    "    \n",
    "    clean_data_list = [data.split(',') for data in clean_row]\n",
    "    \n",
    "    chunk_df = pd.DataFrame(clean_data_list[1:-1],columns=clean_data_list[0])\n",
    "    \n",
    "    return chunk_df"
   ]
  },
  {
   "cell_type": "code",
   "execution_count": 18,
   "id": "ecbeaa9d",
   "metadata": {},
   "outputs": [
    {
     "data": {
      "text/html": [
       "<div>\n",
       "<style scoped>\n",
       "    .dataframe tbody tr th:only-of-type {\n",
       "        vertical-align: middle;\n",
       "    }\n",
       "\n",
       "    .dataframe tbody tr th {\n",
       "        vertical-align: top;\n",
       "    }\n",
       "\n",
       "    .dataframe thead th {\n",
       "        text-align: right;\n",
       "    }\n",
       "</style>\n",
       "<table border=\"1\" class=\"dataframe\">\n",
       "  <thead>\n",
       "    <tr style=\"text-align: right;\">\n",
       "      <th></th>\n",
       "      <th>PassengerId</th>\n",
       "      <th>HomePlanet</th>\n",
       "      <th>CryoSleep</th>\n",
       "      <th>Cabin</th>\n",
       "      <th>Destination</th>\n",
       "      <th>Age</th>\n",
       "      <th>VIP</th>\n",
       "      <th>RoomService</th>\n",
       "      <th>FoodCourt</th>\n",
       "      <th>ShoppingMall</th>\n",
       "      <th>Spa</th>\n",
       "      <th>VRDeck</th>\n",
       "      <th>Name</th>\n",
       "      <th>Transported</th>\n",
       "    </tr>\n",
       "  </thead>\n",
       "  <tbody>\n",
       "    <tr>\n",
       "      <th>0</th>\n",
       "      <td>0001_01</td>\n",
       "      <td>Europa</td>\n",
       "      <td>False</td>\n",
       "      <td>B/0/P</td>\n",
       "      <td>TRAPPIST-1e</td>\n",
       "      <td>39.0</td>\n",
       "      <td>False</td>\n",
       "      <td>0.0</td>\n",
       "      <td>0.0</td>\n",
       "      <td>0.0</td>\n",
       "      <td>0.0</td>\n",
       "      <td>0.0</td>\n",
       "      <td>Maham Ofracculy</td>\n",
       "      <td>False</td>\n",
       "    </tr>\n",
       "    <tr>\n",
       "      <th>1</th>\n",
       "      <td>0002_01</td>\n",
       "      <td>Earth</td>\n",
       "      <td>False</td>\n",
       "      <td>F/0/S</td>\n",
       "      <td>TRAPPIST-1e</td>\n",
       "      <td>24.0</td>\n",
       "      <td>False</td>\n",
       "      <td>109.0</td>\n",
       "      <td>9.0</td>\n",
       "      <td>25.0</td>\n",
       "      <td>549.0</td>\n",
       "      <td>44.0</td>\n",
       "      <td>Juanna Vines</td>\n",
       "      <td>True</td>\n",
       "    </tr>\n",
       "    <tr>\n",
       "      <th>2</th>\n",
       "      <td>0003_01</td>\n",
       "      <td>Europa</td>\n",
       "      <td>False</td>\n",
       "      <td>A/0/S</td>\n",
       "      <td>TRAPPIST-1e</td>\n",
       "      <td>58.0</td>\n",
       "      <td>True</td>\n",
       "      <td>43.0</td>\n",
       "      <td>3576.0</td>\n",
       "      <td>0.0</td>\n",
       "      <td>6715.0</td>\n",
       "      <td>49.0</td>\n",
       "      <td>Altark Susent</td>\n",
       "      <td>False</td>\n",
       "    </tr>\n",
       "    <tr>\n",
       "      <th>3</th>\n",
       "      <td>0003_02</td>\n",
       "      <td>Europa</td>\n",
       "      <td>False</td>\n",
       "      <td>A/0/S</td>\n",
       "      <td>TRAPPIST-1e</td>\n",
       "      <td>33.0</td>\n",
       "      <td>False</td>\n",
       "      <td>0.0</td>\n",
       "      <td>1283.0</td>\n",
       "      <td>371.0</td>\n",
       "      <td>3329.0</td>\n",
       "      <td>193.0</td>\n",
       "      <td>Solam Susent</td>\n",
       "      <td>False</td>\n",
       "    </tr>\n",
       "    <tr>\n",
       "      <th>4</th>\n",
       "      <td>0004_01</td>\n",
       "      <td>Earth</td>\n",
       "      <td>False</td>\n",
       "      <td>F/1/S</td>\n",
       "      <td>TRAPPIST-1e</td>\n",
       "      <td>16.0</td>\n",
       "      <td>False</td>\n",
       "      <td>303.0</td>\n",
       "      <td>70.0</td>\n",
       "      <td>151.0</td>\n",
       "      <td>565.0</td>\n",
       "      <td>2.0</td>\n",
       "      <td>Willy Santantines</td>\n",
       "      <td>True</td>\n",
       "    </tr>\n",
       "  </tbody>\n",
       "</table>\n",
       "</div>"
      ],
      "text/plain": [
       "  PassengerId HomePlanet CryoSleep  Cabin  Destination   Age    VIP  \\\n",
       "0     0001_01     Europa     False  B/0/P  TRAPPIST-1e  39.0  False   \n",
       "1     0002_01      Earth     False  F/0/S  TRAPPIST-1e  24.0  False   \n",
       "2     0003_01     Europa     False  A/0/S  TRAPPIST-1e  58.0   True   \n",
       "3     0003_02     Europa     False  A/0/S  TRAPPIST-1e  33.0  False   \n",
       "4     0004_01      Earth     False  F/1/S  TRAPPIST-1e  16.0  False   \n",
       "\n",
       "  RoomService FoodCourt ShoppingMall     Spa VRDeck               Name  \\\n",
       "0         0.0       0.0          0.0     0.0    0.0    Maham Ofracculy   \n",
       "1       109.0       9.0         25.0   549.0   44.0       Juanna Vines   \n",
       "2        43.0    3576.0          0.0  6715.0   49.0      Altark Susent   \n",
       "3         0.0    1283.0        371.0  3329.0  193.0       Solam Susent   \n",
       "4       303.0      70.0        151.0   565.0    2.0  Willy Santantines   \n",
       "\n",
       "  Transported  \n",
       "0       False  \n",
       "1        True  \n",
       "2       False  \n",
       "3       False  \n",
       "4        True  "
      ]
     },
     "execution_count": 18,
     "metadata": {},
     "output_type": "execute_result"
    }
   ],
   "source": [
    "chunk_to_df(1,data_chunks[0])"
   ]
  },
  {
   "cell_type": "code",
   "execution_count": 22,
   "id": "9c521e11",
   "metadata": {},
   "outputs": [],
   "source": [
    "content_output = extract_response(org=openai_org, key=openai_key, \n",
    "                 role_player=get_role, request_content=data_chunks[0])"
   ]
  },
  {
   "cell_type": "code",
   "execution_count": 23,
   "id": "8a50e8d9",
   "metadata": {},
   "outputs": [
    {
     "data": {
      "text/plain": [
       "'Here is the JSON-LD Knowledge Graph for the dataset you provided:\\n\\n```\\n{\\n  \"@context\": {\\n    \"schema\": \"http://schema.org/\",\\n    \"passenger\": \"schema:Person\",\\n    \"identifier\": \"schema:identifier\",\\n    \"homePlanet\": \"schema:homeLocation\",\\n    \"cryoSleep\": \"schema:isRelatedTo\",\\n    \"cabin\": \"schema:occupationalCategory\",\\n    \"destination\": \"schema:destination\",\\n    \"age\": \"schema:age\",\\n    \"vip\": \"schema:isVIP\",\\n    \"roomService\": \"schema:hasRoomService\",\\n    \"foodCourt\": \"schema:hasFoodCourt\",\\n    \"shoppingMall\": \"schema:hasShoppingMall\",\\n    \"spa\": \"schema:hasSpa\",\\n    \"vrDeck\": \"schema:hasVRDeck\",\\n    \"name\": \"schema:name\",\\n    \"transported\": \"schema:isTransported\"\\n  },\\n  \"@type\": \"passenger\",\\n  \"identifier\": \"PassengerId\",\\n  \"homePlanet\": \"HomePlanet\",\\n  \"cryoSleep\": \"CryoSleep\",\\n  \"cabin\": \"Cabin\",\\n  \"destination\": \"Destination\",\\n  \"age\": \"Age\",\\n  \"vip\": \"VIP\",\\n  \"roomService\": \"RoomService\",\\n  \"foodCourt\": \"FoodCourt\",\\n  \"shoppingMall\": \"ShoppingMall\",\\n  \"spa\": \"Spa\",\\n  \"vrDeck\": \"VRDeck\",\\n  \"name\": \"Name\",\\n  \"transported\": \"Transported\"\\n}\\n```\\n\\nThis JSON-LD Knowledge Graph defines the schema for the dataset you provided, with `PassengerId`, `HomePlanet`, `CryoSleep`, `Cabin`, `Destination`, `Age`, `VIP`, `RoomService`, `FoodCourt`, `ShoppingMall`, `Spa`, `VRDeck`, `Name`, and `Transported` as the primary attributes.'"
      ]
     },
     "execution_count": 23,
     "metadata": {},
     "output_type": "execute_result"
    }
   ],
   "source": [
    "content_output"
   ]
  },
  {
   "cell_type": "code",
   "execution_count": null,
   "id": "301283d4",
   "metadata": {},
   "outputs": [],
   "source": [
    "## Version 2 of the prompt"
   ]
  },
  {
   "cell_type": "code",
   "execution_count": 28,
   "id": "ef079cf3",
   "metadata": {
    "scrolled": true
   },
   "outputs": [
    {
     "name": "stdout",
     "output_type": "stream",
     "text": [
      "before spliting data 31 and 36\n",
      "Number of tokens for the dataset is 397\n",
      "\n",
      "dataset_2=PassengerId,HomePlanet,CryoSleep,Cabin,Destination,Age,VIP,RoomService,FoodCourt,ShoppingMall,Spa,VRDeck,Name,Transported\n",
      "+['0026_01,Europa,False,C/0/P,55 Cancri e,34.0,False,22.0,6073.0,0.0,1438.0,328.0,Anyoni Unconary,False\\n', '0028_01,Mars,False,F/8/P,TRAPPIST-1e,43.0,False,1125.0,0.0,136.0,48.0,0.0,Ceros Mare,False\\n', '0030_01,Earth,False,G/4/S,TRAPPIST-1e,32.0,False,0.0,850.0,81.0,437.0,453.0,Ginia Morsentley,False\\n', '0031_01,Mars,False,F/9/P,TRAPPIST-1e,47.0,False,214.0,0.0,1411.0,0.0,1229.0,Coobix Datie,True\\n', '0031_02,Mars,False,F/9/P,TRAPPIST-1e,2.0,False,0.0,0.0,0.0,0.0,0.0,Cinets Datie,True\\n']\n",
      "\n",
      "Prompt:Refer to the [dataset] and summarize it as a Knowledge graph that contains the \n",
      "details of all the columns in the dataset, and your inference of the dataset    \n",
      "Answer:\n",
      "\n"
     ]
    }
   ],
   "source": [
    "rng2 = rng1 + 5\n",
    "print(f'before spliting data {rng1} and {rng2}')\n",
    "data_t = f'{data[0]}+{data[rng1:rng2]}'\n",
    "#print(data_t)\n",
    "prompt_made = f\"\"\"\n",
    "dataset_{x}={data_t}\n",
    "\n",
    "Prompt:Refer to the [dataset] and summarize it as a Knowledge graph that contains the \n",
    "details of all the columns in the dataset, and your inference of the dataset    \n",
    "Answer:\n",
    "\"\"\"\n",
    "print(f'Number of tokens for the dataset is {num_tokens_from_string(prompt_made)}')\n",
    "print(prompt_made)"
   ]
  },
  {
   "cell_type": "code",
   "execution_count": 30,
   "id": "c977b17a",
   "metadata": {},
   "outputs": [],
   "source": [
    "content_output_2 = extract_response(org=openai_org,key=openai_key,\n",
    "                                role_player=get_role, \n",
    "                                  request_content=prompt_made)"
   ]
  },
  {
   "cell_type": "code",
   "execution_count": 31,
   "id": "fc14ab73",
   "metadata": {},
   "outputs": [
    {
     "data": {
      "text/plain": [
       "'Here\\'s the Knowledge Graph in JSON-LD format for the given dataset:\\n\\n```\\n{\\n  \"@context\": {\\n    \"schema\": \"http://schema.org/\"\\n  },\\n  \"@type\": \"schema:Dataset\",\\n  \"schema:name\": \"Passenger Information\",\\n  \"schema:description\": \"A dataset containing information about passengers travelling to TRAPPIST-1e from various planets.\",\\n  \"schema:creator\": \"Your Name\",\\n  \"schema:variableMeasured\": {\\n    \"@type\": \"schema:Property\",\\n    \"schema:name\": \"Passenger Attributes\",\\n    \"schema:description\": \"The attributes of each passenger in the dataset.\",\\n    \"schema:variableMeasured\": [\"HomePlanet\", \"CryoSleep\", \"Cabin\", \"Destination\", \"Age\", \"VIP\", \"RoomService\", \"FoodCourt\", \"ShoppingMall\", \"Spa\", \"VRDeck\", \"Name\", \"Transported\"]\\n  },\\n  \"schema:includedInDataCatalog\": {\\n    \"@type\": \"schema:DataCatalog\",\\n    \"schema:name\": \"Some Dataset Repository\",\\n    \"schema:url\": \"http://example.com\"\\n  }\\n}\\n```\\n\\nFrom the given dataset, we can infer that the dataset contains information about passengers who are travelling to a planet called TRAPPIST-1e from different planets. The dataset contains attributes such as HomePlanet (planet from where the passenger originates), CryoSleep (if the passenger was in cryogenic sleep during travel), Cabin (cabin in which the passenger travelled), Destination (planet to which the passenger is travelling), Age (age of the passenger), VIP (if the passenger is a VIP), RoomService (room service availed by the passenger), FoodCourt (food court availed by the passenger), ShoppingMall (shopping mall availed by the passenger), Spa (spa facilities availed by the passenger), VRDeck (virtual reality deck used by the passenger), Name (name of the passenger), Transported (if the passenger was transported or not).'"
      ]
     },
     "execution_count": 31,
     "metadata": {},
     "output_type": "execute_result"
    }
   ],
   "source": [
    "content_output_2"
   ]
  },
  {
   "cell_type": "code",
   "execution_count": 32,
   "id": "15b13800",
   "metadata": {},
   "outputs": [],
   "source": [
    "#version 3 of the prompt"
   ]
  },
  {
   "cell_type": "code",
   "execution_count": 34,
   "id": "c2301dff",
   "metadata": {},
   "outputs": [
    {
     "name": "stdout",
     "output_type": "stream",
     "text": [
      "before spliting data 31 and 36\n",
      "Number of tokens for the dataset is 378\n",
      "\n",
      "dataset=PassengerId,HomePlanet,CryoSleep,Cabin,Destination,Age,VIP,RoomService,FoodCourt,ShoppingMall,Spa,VRDeck,Name,Transported\n",
      "+['0026_01,Europa,False,C/0/P,55 Cancri e,34.0,False,22.0,6073.0,0.0,1438.0,328.0,Anyoni Unconary,False\\n', '0028_01,Mars,False,F/8/P,TRAPPIST-1e,43.0,False,1125.0,0.0,136.0,48.0,0.0,Ceros Mare,False\\n', '0030_01,Earth,False,G/4/S,TRAPPIST-1e,32.0,False,0.0,850.0,81.0,437.0,453.0,Ginia Morsentley,False\\n', '0031_01,Mars,False,F/9/P,TRAPPIST-1e,47.0,False,214.0,0.0,1411.0,0.0,1229.0,Coobix Datie,True\\n', '0031_02,Mars,False,F/9/P,TRAPPIST-1e,2.0,False,0.0,0.0,0.0,0.0,0.0,Cinets Datie,True\\n']\n",
      "\n",
      "Prompt:Refer to the [dataset] and list 50 statistical, factual and inferential questions    \n",
      "Answer:\n",
      "\n"
     ]
    }
   ],
   "source": [
    "rng2 = rng1 + 5\n",
    "print(f'before spliting data {rng1} and {rng2}')\n",
    "data_t = f'{data[0]}+{data[rng1:rng2]}'\n",
    "#print(data_t)\n",
    "prompt_made = f\"\"\"\n",
    "dataset={data_t}\n",
    "\n",
    "Prompt:Refer to the [dataset] and list 50 statistical, factual and inferential questions    \n",
    "Answer:\n",
    "\"\"\"\n",
    "print(f'Number of tokens for the dataset is {num_tokens_from_string(prompt_made)}')\n",
    "print(prompt_made)"
   ]
  },
  {
   "cell_type": "code",
   "execution_count": 35,
   "id": "5f775193",
   "metadata": {},
   "outputs": [],
   "source": [
    "inference_3 = extract_response(org=openai_org, key=openai_key, \n",
    "                 role_player=get_role, request_content=prompt_made)"
   ]
  },
  {
   "cell_type": "code",
   "execution_count": 37,
   "id": "6d01206a",
   "metadata": {
    "scrolled": true
   },
   "outputs": [],
   "source": [
    "questions_data = inference_3.split('\\n\\n')[1]"
   ]
  },
  {
   "cell_type": "code",
   "execution_count": 38,
   "id": "9d287d60",
   "metadata": {
    "scrolled": true
   },
   "outputs": [
    {
     "data": {
      "text/plain": [
       "'1. How many passengers are there in the dataset?\\n2. What is the average age of the passengers?\\n3. Which planet has the most number of passengers in the dataset?\\n4. What is the most common Cabin type for the passengers?\\n5. What is the most popular Destination among the passengers?\\n6. What is the average shopping mall expense of the passengers?\\n7. How many passengers used VIP services?\\n8. Which passenger traveled the longest distance?\\n9. What is the total amount of food court expenses incurred by all passengers?\\n10. How many passengers used the Spa facility?\\n11. How many passengers are in CryoSleep?\\n12. What is the highest amount spent on Food Court by a passenger?\\n13. What is the most common Transported status among the passengers?\\n14. What is the average age of passengers who used Room Service?\\n15. What is the average age of passengers who used VRDeck facility?\\n16. How many passengers used the Transported service?\\n17. How many passengers are on Mars?\\n18. What is the average age of passengers on Europa?\\n19. What is the average age of passengers on Mars?\\n20. How many passengers have VIP status and used Room Service?\\n21. How many passengers have VIP status and used Spa facility?\\n22. What is the average expense of Shopping Mall by passengers on Earth?\\n23. What is the most common name among the passengers?\\n24. How many total cabins are present in the dataset?\\n25. What is the highest amount spent on Spa facility by a passenger?\\n26. How many passengers are there who spent more than 1000 on RoomService?\\n27. What percentage of passengers have VRDeck status?\\n28. What percentage of passengers have CryoSleep status?\\n29. What is the total amount spent on Shopping Mall by all passengers?\\n30. What is the highest amount spent by a passenger on any facility?\\n31. What is the lowest amount spent by a passenger on any facility?\\n32. How many passengers used Transported status with Age > 40?\\n33. What is the average expense incurred by the passengers on the VRDeck facility?\\n34. What is the most common HomePlanet among the passengers?\\n35. How many passengers have Food Court expense = 0?\\n36. What is the average age of passengers with Cabin type G/4/S?\\n37. How many passengers used VRDeck facility with Age > 50?\\n38. What is the most common age across all passengers?\\n39. How many passengers have Transportation status with Age > 20?\\n40. How many passengers on 55 Cancri e have VIP status?\\n41. What is the most common age of passengers in CryoSleep?\\n42. How many passengers have the same HomePlanet as their Destination?\\n43. What is the average expense of Spa by the passengers on TRAPPIST-1e?\\n44. What is the total amount spent by all passengers who used Room Service?\\n45. How many passengers have VIP status and used Transported service?\\n46. What is the average age of passengers who spent more than 100 on Food Court?\\n47. How many Male and Female passengers are there in the dataset?\\n48. How many passengers have more than 2 children?\\n49. What is the most common age of the passengers on TRAPPIST-1e?\\n50. What is the total amount of expense by all passengers across all services?'"
      ]
     },
     "execution_count": 38,
     "metadata": {},
     "output_type": "execute_result"
    }
   ],
   "source": [
    "questions_data"
   ]
  },
  {
   "cell_type": "code",
   "execution_count": 39,
   "id": "53e30606",
   "metadata": {},
   "outputs": [],
   "source": [
    "###Follow up prompt"
   ]
  },
  {
   "cell_type": "code",
   "execution_count": 47,
   "id": "9a3df977",
   "metadata": {
    "scrolled": true
   },
   "outputs": [
    {
     "name": "stdout",
     "output_type": "stream",
     "text": [
      "before spliting data 31 and 36\n",
      "Number of tokens for the dataset is 1120\n",
      "\n",
      "dataset=PassengerId,HomePlanet,CryoSleep,Cabin,Destination,Age,VIP,RoomService,FoodCourt,ShoppingMall,Spa,VRDeck,Name,Transported\n",
      "+['0026_01,Europa,False,C/0/P,55 Cancri e,34.0,False,22.0,6073.0,0.0,1438.0,328.0,Anyoni Unconary,False\\n', '0028_01,Mars,False,F/8/P,TRAPPIST-1e,43.0,False,1125.0,0.0,136.0,48.0,0.0,Ceros Mare,False\\n', '0030_01,Earth,False,G/4/S,TRAPPIST-1e,32.0,False,0.0,850.0,81.0,437.0,453.0,Ginia Morsentley,False\\n', '0031_01,Mars,False,F/9/P,TRAPPIST-1e,47.0,False,214.0,0.0,1411.0,0.0,1229.0,Coobix Datie,True\\n', '0031_02,Mars,False,F/9/P,TRAPPIST-1e,2.0,False,0.0,0.0,0.0,0.0,0.0,Cinets Datie,True\\n']\n",
      "\n",
      "Prompt:Refer to the [dataset] and answer the following questions. \n",
      "1. How many passengers are there in the dataset?\n",
      "2. What is the average age of the passengers?\n",
      "3. Which planet has the most number of passengers in the dataset?\n",
      "4. What is the most common Cabin type for the passengers?\n",
      "5. What is the most popular Destination among the passengers?\n",
      "6. What is the average shopping mall expense of the passengers?\n",
      "7. How many passengers used VIP services?\n",
      "8. Which passenger traveled the longest distance?\n",
      "9. What is the total amount of food court expenses incurred by all passengers?\n",
      "10. How many passengers used the Spa facility?\n",
      "11. How many passengers are in CryoSleep?\n",
      "12. What is the highest amount spent on Food Court by a passenger?\n",
      "13. What is the most common Transported status among the passengers?\n",
      "14. What is the average age of passengers who used Room Service?\n",
      "15. What is the average age of passengers who used VRDeck facility?\n",
      "16. How many passengers used the Transported service?\n",
      "17. How many passengers are on Mars?\n",
      "18. What is the average age of passengers on Europa?\n",
      "19. What is the average age of passengers on Mars?\n",
      "20. How many passengers have VIP status and used Room Service?\n",
      "21. How many passengers have VIP status and used Spa facility?\n",
      "22. What is the average expense of Shopping Mall by passengers on Earth?\n",
      "23. What is the most common name among the passengers?\n",
      "24. How many total cabins are present in the dataset?\n",
      "25. What is the highest amount spent on Spa facility by a passenger?\n",
      "26. How many passengers are there who spent more than 1000 on RoomService?\n",
      "27. What percentage of passengers have VRDeck status?\n",
      "28. What percentage of passengers have CryoSleep status?\n",
      "29. What is the total amount spent on Shopping Mall by all passengers?\n",
      "30. What is the highest amount spent by a passenger on any facility?\n",
      "31. What is the lowest amount spent by a passenger on any facility?\n",
      "32. How many passengers used Transported status with Age > 40?\n",
      "33. What is the average expense incurred by the passengers on the VRDeck facility?\n",
      "34. What is the most common HomePlanet among the passengers?\n",
      "35. How many passengers have Food Court expense = 0?\n",
      "36. What is the average age of passengers with Cabin type G/4/S?\n",
      "37. How many passengers used VRDeck facility with Age > 50?\n",
      "38. What is the most common age across all passengers?\n",
      "39. How many passengers have Transportation status with Age > 20?\n",
      "40. How many passengers on 55 Cancri e have VIP status?\n",
      "41. What is the most common age of passengers in CryoSleep?\n",
      "42. How many passengers have the same HomePlanet as their Destination?\n",
      "43. What is the average expense of Spa by the passengers on TRAPPIST-1e?\n",
      "44. What is the total amount spent by all passengers who used Room Service?\n",
      "45. How many passengers have VIP status and used Transported service?\n",
      "46. What is the average age of passengers who spent more than 100 on Food Court?\n",
      "47. How many Male and Female passengers are there in the dataset?\n",
      "48. How many passengers have more than 2 children?\n",
      "49. What is the most common age of the passengers on TRAPPIST-1e?\n",
      "50. What is the total amount of expense by all passengers across all services?\n",
      "At the end print COMPLETED INFERENCE\n",
      "\n",
      "Answer:\n",
      "\n"
     ]
    }
   ],
   "source": [
    "rng2 = rng1 + 5\n",
    "print(f'before spliting data {rng1} and {rng2}')\n",
    "data_t = f'{data[0]}+{data[rng1:rng2]}'\n",
    "#print(data_t)\n",
    "prompt_made = f\"\"\"\n",
    "dataset={data_t}\n",
    "\n",
    "Prompt:Refer to the [dataset] and answer the following questions. \n",
    "{questions_data}\n",
    "At the end print COMPLETED INFERENCE\n",
    "\n",
    "Answer:\n",
    "\"\"\"\n",
    "print(f'Number of tokens for the dataset is {num_tokens_from_string(prompt_made)}')\n",
    "print(prompt_made)"
   ]
  },
  {
   "cell_type": "code",
   "execution_count": 44,
   "id": "01632527",
   "metadata": {},
   "outputs": [],
   "source": [
    "def extract_summary(org,key,role_player,request_content):\n",
    "    openai.organization = org\n",
    "    openai.api_key= key\n",
    "    response = openai.ChatCompletion.create(\n",
    "        model=\"gpt-3.5-turbo\",\n",
    "        messages=[\n",
    "            {\"role\": \"system\", \n",
    "             \"content\": f\"You are a {role_player}\"},\n",
    "            {\"role\": \"assistant\", \n",
    "             \"content\": f\"I have assumed the role of {role_player}\"},\n",
    "            {\"role\": \"user\", \n",
    "             \"content\": f\"Here is the dataset {request_content}.\"}\n",
    "            ]\n",
    "        )\n",
    "    return response['choices'][0]['message']['content']"
   ]
  },
  {
   "cell_type": "code",
   "execution_count": 48,
   "id": "53a96ac0",
   "metadata": {},
   "outputs": [],
   "source": [
    "designed_summary =  extract_summary(org=openai_org, key=openai_key, \n",
    "                 role_player=get_role, request_content=prompt_made)"
   ]
  },
  {
   "cell_type": "code",
   "execution_count": 49,
   "id": "76458b5f",
   "metadata": {
    "scrolled": true
   },
   "outputs": [
    {
     "data": {
      "text/plain": [
       "'1. There are 5 passengers in the dataset.\\n2. The average age of the passengers is 31.6.\\n3. TRAPPIST-1e has the most number of passengers in the dataset.\\n4. F/9/P is the most common Cabin type for the passengers.\\n5. TRAPPIST-1e is the most popular Destination among the passengers.\\n6. The average shopping mall expense of the passengers is 1,129.4.\\n7. None of the passengers used VIP services.\\n8. Anyoni Unconary traveled the longest distance.\\n9. The total amount of food court expenses incurred by all passengers is 7,508.\\n10. Two passengers used the Spa facility.\\n11. None of the passengers are in CryoSleep.\\n12. 1411.0 is the highest amount spent on Food Court by a passenger.\\n13. False is the most common Transported status among the passengers.\\n14. The average age of passengers who used Room Service is 11.0.\\n15. The average age of passengers who used VRDeck facility is 328.0.\\n16. None of the passengers used the Transported service.\\n17. Two passengers are on Mars.\\n18. There are no passengers on Europa.\\n19. The average age of passengers on Mars is 45.0.\\n20. None of the passengers have VIP status and used Room Service.\\n21. None of the passengers have VIP status and used Spa facility.\\n22. There are no passengers on Earth.\\n23. Coobix Datie is the most common name among the passengers.\\n24. There are 4 total cabins present in the dataset.\\n25. 0.0 is the highest amount spent on Spa facility by a passenger.\\n26. Two passengers spent more than 1000 on RoomService.\\n27. None of the passengers have VRDeck status.\\n28. None of the passengers have CryoSleep status.\\n29. The total amount spent on Shopping Mall by all passengers is 11,073.0.\\n30. 214.0 is the highest amount spent by a passenger on any facility.\\n31. 0.0 is the lowest amount spent by a passenger on any facility.\\n32. None of the passengers used Transported status with Age > 40.\\n33. There are no passengers who used VRDeck facility.\\n34. Mars is the most common HomePlanet among the passengers.\\n35. Two passengers have Food Court expense = 0.\\n36. The average age of passengers with Cabin type G/4/S is 32.0.\\n37. None of the passengers used VRDeck facility with Age > 50.\\n38. 33.6 is the most common age across all passengers.\\n39. None of the passengers have Transportation status with Age > 20.\\n40. One passenger on 55 Cancri e has VIP status.\\n41. There are no passengers in CryoSleep.\\n42. There are no passengers with the same HomePlanet as their Destination.\\n43. The average expense of Spa by the passengers on TRAPPIST-1e is 0.0.\\n44. The total amount spent by all passengers who used Room Service is 22.0.\\n45. None of the passengers have VIP status and used Transported service.\\n46. The average age of passengers who spent more than 100 on Food Court is 47.0.\\n47. There is not enough information to determine the gender of the passengers.\\n48. None of the passengers have children.\\n49. The most common age of the passengers on TRAPPIST-1e is 45.0.\\n50. The total amount of expense by all passengers across all services is 19,684.0.\\n\\nCOMPLETED INFERENCE.'"
      ]
     },
     "execution_count": 49,
     "metadata": {},
     "output_type": "execute_result"
    }
   ],
   "source": [
    "designed_summary"
   ]
  },
  {
   "cell_type": "code",
   "execution_count": null,
   "id": "32f69b7d",
   "metadata": {},
   "outputs": [],
   "source": [
    "#check if gpt can make such inferences directly"
   ]
  },
  {
   "cell_type": "code",
   "execution_count": 50,
   "id": "adaa4966",
   "metadata": {},
   "outputs": [
    {
     "name": "stdout",
     "output_type": "stream",
     "text": [
      "before spliting data 31 and 36\n",
      "Number of tokens for the dataset is 377\n",
      "\n",
      "dataset=PassengerId,HomePlanet,CryoSleep,Cabin,Destination,Age,VIP,RoomService,FoodCourt,ShoppingMall,Spa,VRDeck,Name,Transported\n",
      "+['0026_01,Europa,False,C/0/P,55 Cancri e,34.0,False,22.0,6073.0,0.0,1438.0,328.0,Anyoni Unconary,False\\n', '0028_01,Mars,False,F/8/P,TRAPPIST-1e,43.0,False,1125.0,0.0,136.0,48.0,0.0,Ceros Mare,False\\n', '0030_01,Earth,False,G/4/S,TRAPPIST-1e,32.0,False,0.0,850.0,81.0,437.0,453.0,Ginia Morsentley,False\\n', '0031_01,Mars,False,F/9/P,TRAPPIST-1e,47.0,False,214.0,0.0,1411.0,0.0,1229.0,Coobix Datie,True\\n', '0031_02,Mars,False,F/9/P,TRAPPIST-1e,2.0,False,0.0,0.0,0.0,0.0,0.0,Cinets Datie,True\\n']\n",
      "\n",
      "Prompt:Refer to the [dataset] and list 50 statistical, factual and inferences    \n",
      "Answer:\n",
      "\n"
     ]
    }
   ],
   "source": [
    "rng2 = rng1 + 5\n",
    "print(f'before spliting data {rng1} and {rng2}')\n",
    "data_t = f'{data[0]}+{data[rng1:rng2]}'\n",
    "#print(data_t)\n",
    "prompt_made = f\"\"\"\n",
    "dataset={data_t}\n",
    "\n",
    "Prompt:Refer to the [dataset] and list 50 statistical, factual and inferences    \n",
    "Answer:\n",
    "\"\"\"\n",
    "print(f'Number of tokens for the dataset is {num_tokens_from_string(prompt_made)}')\n",
    "print(prompt_made)"
   ]
  },
  {
   "cell_type": "code",
   "execution_count": 51,
   "id": "ce03aa3d",
   "metadata": {},
   "outputs": [],
   "source": [
    "inference_possiblity =  extract_summary(org=openai_org, key=openai_key, \n",
    "                 role_player=get_role, request_content=prompt_made)"
   ]
  },
  {
   "cell_type": "code",
   "execution_count": 53,
   "id": "e5ab37e1",
   "metadata": {
    "scrolled": true
   },
   "outputs": [
    {
     "data": {
      "text/plain": [
       "'1. The dataset contains information on passengers, including their PassengerId, HomePlanet, CryoSleep, Cabin, Destination, Age, VIP status, RoomService, FoodCourt, ShoppingMall, Spa, VRDeck, Name, and whether they were Transported.\\n2. There are at least five passengers in the dataset, with PassengerIds 0026_01, 0028_01, 0030_01, 0031_01, and 0031_02.\\n3. The HomePlanet for each passenger is either Europa, Mars, or Earth.\\n4. None of the passengers in the dataset were in CryoSleep.\\n5. The Cabin for each passenger is either C/0/P, F/8/P, G/4/S, or F/9/P.\\n6. The Destination for each passenger is TRAPPIST-1e, a potentially habitable exoplanet located about 39 light years away from Earth.\\n7. The Age for each passenger ranges from 2 to 47 years.\\n8. None of the passengers in the dataset are VIPs.\\n9. Some passengers in the dataset received RoomService, FoodCourt, ShoppingMall, Spa, or VRDeck amenities during their travels.\\n10. At least one passenger in the dataset had the name Anyoni Unconary.\\n11. At least one passenger in the dataset had the name Ceros Mare.\\n12. At least one passenger in the dataset had the name Ginia Morsentley.\\n13. At least one passenger in the dataset had the name Coobix Datie.\\n14. At least one passenger in the dataset had the name Cinets Datie.\\n15. The average age of passengers in the dataset is 35.6 years.\\n16. The median age of passengers in the dataset is 34 years.\\n17. The youngest passenger in the dataset is 2 years old.\\n18. The oldest passenger in the dataset is 47 years old.\\n19. None of the passengers in the dataset are reported as being infants or children.\\n20. There are four unique Cabin values in the dataset: C/0/P, F/8/P, G/4/S, and F/9/P.\\n21. Each Cabin value in the dataset is either a single letter followed by a forward-slash and a number (e.g. C/0/P), or two letters followed by a forward-slash and a number (e.g. F/8/P).\\n22. At least one passenger in the dataset did not receive any room amenities (i.e. all RoomService, FoodCourt, ShoppingMall, Spa, and VRDeck values were zero).\\n23. At least one passenger in the dataset received RoomService during their travels.\\n24. At least one passenger in the dataset received FoodCourt amenities during their travels.\\n25. At least one passenger in the dataset received ShoppingMall amenities during their travels.\\n26. At least one passenger in the dataset received Spa amenities during their travels.\\n27. At least one passenger in the dataset received VRDeck amenities during their travels.\\n28. None of the passengers in the dataset are reported as having any medical or health conditions.\\n29. There are no missing values in the dataset.\\n30. Each passenger in the dataset has a unique PassengerId value.\\n31. None of the PassengerId values in the dataset contain spaces.\\n32. All of the PassengerId values in the dataset contain five characters.\\n33. The Transported column for each passenger indicates whether they successfully reached their destination.\\n34. At least one passenger in the dataset was not Transported to their destination.\\n35. The proportion of passengers in the dataset who were Transported to their destination is 0.8.\\n36. The proportion of passengers in the dataset who were not Transported to their destination is 0.2.\\n37. The dataset contains information on passengers from at least three different planets: Europa, Mars, and Earth.\\n38. There are more passengers in the dataset from Mars than from any other planet.\\n39. At least one passenger in the dataset received RoomService, but did not receive any other amenities.\\n40. There are no passengers in the dataset who received only FoodCourt or only ShoppingMall amenities.\\n41. None of the passengers in the dataset are reported as having any criminal history.\\n42. The dataset contains information on passengers of various ages, with the widest age range being 45 years.\\n43. None of the passengers in the dataset are reported as having any religious affiliations or beliefs.\\n44. None of the passengers in the dataset are reported as having any special dietary needs or preferences.\\n45. None of the passengers in the dataset are reported as having any allergies or sensitivities.\\n46. The dataset contains information on passengers who utilized various amenities during their travels, indicating that they were not simply in cryosleep or otherwise unconscious during the trip.\\n47. None of the passengers in the dataset are reported as having any disabilities.\\n48. At least one passenger in the dataset received amenities in all five categories (RoomService, FoodCourt, ShoppingMall, Spa, and VRDeck).\\n49. The dataset includes at least one passenger who is a minor (under the age of 18).\\n50. At least one passenger in the dataset had the same surname as another passenger (i.e. Datie).'"
      ]
     },
     "execution_count": 53,
     "metadata": {},
     "output_type": "execute_result"
    }
   ],
   "source": [
    "inference_possiblity"
   ]
  },
  {
   "cell_type": "code",
   "execution_count": 54,
   "id": "3fe0c37f",
   "metadata": {},
   "outputs": [],
   "source": [
    "#It infers in its own method. But the earlier 50 question guided it"
   ]
  },
  {
   "cell_type": "code",
   "execution_count": 56,
   "id": "39568101",
   "metadata": {},
   "outputs": [
    {
     "name": "stdout",
     "output_type": "stream",
     "text": [
      "before spliting data 1 and 31\n",
      "Number of tokens for the dataset is 2574\n",
      "before spliting data 31 and 61\n",
      "Number of tokens for the dataset is 2571\n",
      "before spliting data 61 and 91\n",
      "Number of tokens for the dataset is 2586\n",
      "before spliting data 91 and 121\n",
      "Number of tokens for the dataset is 2566\n"
     ]
    }
   ],
   "source": [
    "inference_requests = []\n",
    "rng1 = 1\n",
    "for x in list(range(1,5)):\n",
    "    rng2 = rng1 + 30\n",
    "    print(f'before spliting data {rng1} and {rng2}')\n",
    "    data_t = f'{data[0]}+{data[rng1:rng2]}'\n",
    "    #print(data_t)\n",
    "    prompt_made = f\"\"\"\n",
    "    dataset={data_t}\n",
    "\n",
    "    Prompt:Refer to the [dataset] and answer the following questions. \n",
    "    {questions_data}\n",
    "    At the end print COMPLETED INFERENCE\n",
    "\n",
    "    Answer:\n",
    "    \"\"\"\n",
    "    print(f'Number of tokens for the dataset is {num_tokens_from_string(prompt_made)}')\n",
    "    inference_requests.append(prompt_made)\n",
    "    rng1 = rng1 + 30"
   ]
  },
  {
   "cell_type": "code",
   "execution_count": 58,
   "id": "645d0e03",
   "metadata": {},
   "outputs": [
    {
     "name": "stdout",
     "output_type": "stream",
     "text": [
      "Number of tokens for the dataset is 1835\n",
      "Number of tokens for the dataset is 1832\n",
      "Number of tokens for the dataset is 1847\n",
      "Number of tokens for the dataset is 1827\n"
     ]
    }
   ],
   "source": [
    "prompt_questions = []\n",
    "rng1 = 1\n",
    "for x in list(range(1,5)):\n",
    "    rng2 = rng1 + 30\n",
    "    data_t = f'{data[0]}+{data[rng1:rng2]}'\n",
    "    prompt_made = f\"\"\"\n",
    "    dataset={data_t}\n",
    "\n",
    "    Prompt:Refer to the [dataset] and make the phy-beta-gamma version of inferences.\n",
    "\n",
    "    Answer:\n",
    "    \"\"\"\n",
    "    print(f'Number of tokens for the dataset is {num_tokens_from_string(prompt_made)}')\n",
    "    prompt_questions.append(prompt_made)\n",
    "    rng1 = rng1 + 30"
   ]
  },
  {
   "cell_type": "code",
   "execution_count": 57,
   "id": "572ae097",
   "metadata": {},
   "outputs": [
    {
     "data": {
      "text/plain": [
       "4"
      ]
     },
     "execution_count": 57,
     "metadata": {},
     "output_type": "execute_result"
    }
   ],
   "source": [
    "len(inference_requests)"
   ]
  },
  {
   "cell_type": "code",
   "execution_count": 61,
   "id": "efb9f02d",
   "metadata": {},
   "outputs": [],
   "source": [
    "for ind,inf in enumerate(inference_requests):\n",
    "    comp = extract_summary(org=openai_org, key=openai_key, \n",
    "                 role_player=get_role, request_content=inf)\n",
    "    prompt_dict = {'prompt':prompt_questions[ind],\n",
    "                  'completion':comp}\n",
    "    with open('inferences_prompt.jsonl','a+') as inje:\n",
    "        json.dump(prompt_dict,fp=inje)\n",
    "        inje.write('\\n')"
   ]
  },
  {
   "cell_type": "code",
   "execution_count": 64,
   "id": "605b3d24",
   "metadata": {},
   "outputs": [],
   "source": [
    "def file_upload(filename, purpose='fine-tune'):\n",
    "    resp = openai.File.create(purpose=purpose,file=open(file=filename,\n",
    "                                                        mode='rb'))\n",
    "    print(resp)\n",
    "    return resp\n",
    "\n",
    "def finetune_model(fileId, suffix,model='davinci',api_key=openai_key):\n",
    "    header = {'Content-Type':'application/json',\n",
    "              'Authorization':f'Bearer {api_key}'}\n",
    "    payload = {'training_file':fileId,'model':model,'suffix':suffix}\n",
    "    resp = requests.request(method='POST',\n",
    "                            url='https://api.openai.com/v1/fine-tunes',\n",
    "                           headers=header,\n",
    "                           json=payload,timeout=40)\n",
    "    print(resp.json())\n",
    "    \n",
    "def finetune_get(ftId,api_key=openai_key):\n",
    "    header = {'Content-Type':'application/json',\n",
    "              'Authorization':f'Bearer {api_key}'}\n",
    "    resp = requests.request(method='GET',\n",
    "                url=f'https://api.openai.com/v1/fine-tunes/{ftId}',\n",
    "                           headers=header,timeout=40)\n",
    "    print(resp.json())\n",
    "    \n",
    "def finetune_event(ftId,api_key=openai_key):\n",
    "    header = {'Content-Type':'application/json',\n",
    "              'Authorization':f'Bearer {api_key}'}\n",
    "    resp = requests.request(method='GET',\n",
    "                url=f'https://api.openai.com/v1/fine-tunes/{ftId}/events',\n",
    "                           headers=header,timeout=40)\n",
    "    print(resp.json())"
   ]
  },
  {
   "cell_type": "code",
   "execution_count": 65,
   "id": "35112c4e",
   "metadata": {},
   "outputs": [
    {
     "name": "stdout",
     "output_type": "stream",
     "text": [
      "{\n",
      "  \"bytes\": 26165,\n",
      "  \"created_at\": 1678466823,\n",
      "  \"filename\": \"file\",\n",
      "  \"id\": \"file-7eEqgLRz0Mki8F1xFzd2oz48\",\n",
      "  \"object\": \"file\",\n",
      "  \"purpose\": \"fine-tune\",\n",
      "  \"status\": \"uploaded\",\n",
      "  \"status_details\": null\n",
      "}\n"
     ]
    },
    {
     "data": {
      "text/plain": [
       "<File file id=file-7eEqgLRz0Mki8F1xFzd2oz48 at 0x7fa8cc96e390> JSON: {\n",
       "  \"bytes\": 26165,\n",
       "  \"created_at\": 1678466823,\n",
       "  \"filename\": \"file\",\n",
       "  \"id\": \"file-7eEqgLRz0Mki8F1xFzd2oz48\",\n",
       "  \"object\": \"file\",\n",
       "  \"purpose\": \"fine-tune\",\n",
       "  \"status\": \"uploaded\",\n",
       "  \"status_details\": null\n",
       "}"
      ]
     },
     "execution_count": 65,
     "metadata": {},
     "output_type": "execute_result"
    }
   ],
   "source": [
    "file_upload(filename='inferences_prompt.jsonl',)"
   ]
  },
  {
   "cell_type": "code",
   "execution_count": 69,
   "id": "2acd5c12",
   "metadata": {},
   "outputs": [
    {
     "name": "stdout",
     "output_type": "stream",
     "text": [
      "{'object': 'fine-tune', 'id': 'ft-pUzhDaGmfikioguqgcRVjYLx', 'hyperparams': {'n_epochs': 4, 'batch_size': None, 'prompt_loss_weight': 0.01, 'learning_rate_multiplier': None}, 'organization_id': 'org-QWWIpNe4Z3KsRVI0YR6lhyJW', 'model': 'davinci', 'training_files': [{'object': 'file', 'id': 'file-7eEqgLRz0Mki8F1xFzd2oz48', 'purpose': 'fine-tune', 'filename': 'file', 'bytes': 26165, 'created_at': 1678466823, 'status': 'processed', 'status_details': None}], 'validation_files': [], 'result_files': [], 'created_at': 1678466919, 'updated_at': 1678466919, 'status': 'pending', 'fine_tuned_model': None, 'events': [{'object': 'fine-tune-event', 'level': 'info', 'message': 'Created fine-tune: ft-pUzhDaGmfikioguqgcRVjYLx', 'created_at': 1678466919}]}\n"
     ]
    }
   ],
   "source": [
    "finetune_model(fileId='file-7eEqgLRz0Mki8F1xFzd2oz48',\n",
    "               suffix='phy-beta-gamma')"
   ]
  },
  {
   "cell_type": "code",
   "execution_count": 71,
   "id": "a4a682f2",
   "metadata": {},
   "outputs": [
    {
     "name": "stdout",
     "output_type": "stream",
     "text": [
      "{'object': 'fine-tune', 'id': 'ft-pUzhDaGmfikioguqgcRVjYLx', 'hyperparams': {'n_epochs': 4, 'batch_size': None, 'prompt_loss_weight': 0.01, 'learning_rate_multiplier': None}, 'organization_id': 'org-QWWIpNe4Z3KsRVI0YR6lhyJW', 'model': 'davinci', 'training_files': [{'object': 'file', 'id': 'file-7eEqgLRz0Mki8F1xFzd2oz48', 'purpose': 'fine-tune', 'filename': 'file', 'bytes': 26165, 'created_at': 1678466823, 'status': 'processed', 'status_details': None}], 'validation_files': [], 'result_files': [], 'created_at': 1678466919, 'updated_at': 1678466919, 'status': 'pending', 'fine_tuned_model': None, 'events': [{'object': 'fine-tune-event', 'level': 'info', 'message': 'Created fine-tune: ft-pUzhDaGmfikioguqgcRVjYLx', 'created_at': 1678466919}]}\n"
     ]
    }
   ],
   "source": [
    "finetune_get(ftId='ft-pUzhDaGmfikioguqgcRVjYLx')"
   ]
  }
 ],
 "metadata": {
  "kernelspec": {
   "display_name": "Python 3 (ipykernel)",
   "language": "python",
   "name": "python3"
  },
  "language_info": {
   "codemirror_mode": {
    "name": "ipython",
    "version": 3
   },
   "file_extension": ".py",
   "mimetype": "text/x-python",
   "name": "python",
   "nbconvert_exporter": "python",
   "pygments_lexer": "ipython3",
   "version": "3.10.9"
  }
 },
 "nbformat": 4,
 "nbformat_minor": 5
}
