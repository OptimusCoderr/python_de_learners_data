{
 "cells": [
  {
   "cell_type": "code",
   "execution_count": 1,
   "id": "1cbf96cb",
   "metadata": {},
   "outputs": [],
   "source": [
    "#!/usr/bin/env python\n",
    "import json, openai\n",
    "import warnings\n",
    "import os\n",
    "warnings.filterwarnings('ignore')\n",
    "import configparser\n",
    "import datetime"
   ]
  },
  {
   "cell_type": "code",
   "execution_count": 2,
   "id": "b207a083",
   "metadata": {},
   "outputs": [],
   "source": [
    "readKey = configparser.ConfigParser()\n",
    "readKey.read_file(open('apidata.config'))\n",
    "\n",
    "openai_org = readKey['OPENAI'][\"ORG\"]\n",
    "openai_key = readKey['OPENAI']['KEY'] "
   ]
  },
  {
   "cell_type": "code",
   "execution_count": 3,
   "id": "7fd1ede8",
   "metadata": {},
   "outputs": [],
   "source": [
    "def extract_response(org,key,role_player,request_content):\n",
    "    openai.organization = org\n",
    "    openai.api_key= key\n",
    "    response = openai.ChatCompletion.create(\n",
    "        model=\"gpt-3.5-turbo\",\n",
    "        messages=[\n",
    "            {\"role\": \"system\", \n",
    "             \"content\": f\"You are a {role_player}\"},\n",
    "            {\"role\": \"user\", \n",
    "             \"content\": request_content}\n",
    "            ]\n",
    "        )\n",
    "    return response['choices'][0]['message']['content']"
   ]
  },
  {
   "cell_type": "code",
   "execution_count": 4,
   "id": "3656021b",
   "metadata": {},
   "outputs": [
    {
     "name": "stdout",
     "output_type": "stream",
     "text": [
      "What role you want me to play: Police Inspector\n"
     ]
    }
   ],
   "source": [
    "get_role = input(\"What role you want me to play: \")"
   ]
  },
  {
   "cell_type": "code",
   "execution_count": 5,
   "id": "9c521e11",
   "metadata": {},
   "outputs": [
    {
     "name": "stdout",
     "output_type": "stream",
     "text": [
      "Give the prompt here: Order the criminal in 5 words\n",
      "\"Freeze, hands up, surrender!\"\n",
      "Want to Exit? y / n : n\n",
      "Give the prompt here: Explain the encounter to the IG of Police in 50 words\n",
      "Sir, I received intel that a gang was planning a bank robbery. Along with my team, I conducted a raid and caught them trying to break into the safe. There was a brief exchange of fire but we managed to apprehend them without any casualties. The stolen cash and weapons were recovered from the scene.\n",
      "Want to Exit? y / n : y\n",
      "Thanks for spending time with me\n"
     ]
    }
   ],
   "source": [
    "while True:\n",
    "    get_prompt = input(\"Give the prompt here: \")\n",
    "    content_output = extract_response(org=openai_org, key=openai_key, \n",
    "                 role_player=get_role, request_content=get_prompt)\n",
    "    print(content_output,end='\\n')\n",
    "\n",
    "    exit_q = input(\"Want to Exit? y / n : \")\n",
    "    if exit_q == 'y' or exit_q == 'Y':\n",
    "        print(\"Thanks for spending time with me\")\n",
    "        break"
   ]
  }
 ],
 "metadata": {
  "kernelspec": {
   "display_name": "Python 3 (ipykernel)",
   "language": "python",
   "name": "python3"
  },
  "language_info": {
   "codemirror_mode": {
    "name": "ipython",
    "version": 3
   },
   "file_extension": ".py",
   "mimetype": "text/x-python",
   "name": "python",
   "nbconvert_exporter": "python",
   "pygments_lexer": "ipython3",
   "version": "3.10.9"
  }
 },
 "nbformat": 4,
 "nbformat_minor": 5
}
