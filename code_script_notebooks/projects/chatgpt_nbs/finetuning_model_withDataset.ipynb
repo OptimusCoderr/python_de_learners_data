{
 "cells": [
  {
   "cell_type": "code",
   "execution_count": 118,
   "id": "ff8fbb74",
   "metadata": {},
   "outputs": [],
   "source": [
    "import json, openai, requests, warnings\n",
    "warnings.filterwarnings(\"ignore\")\n",
    "import configparser\n",
    "import uuid\n",
    "from time import sleep\n",
    "import tiktoken"
   ]
  },
  {
   "cell_type": "code",
   "execution_count": 2,
   "id": "170e0d20",
   "metadata": {},
   "outputs": [],
   "source": [
    "credentials = configparser.ConfigParser()\n",
    "credentials.read_file(open('apidata.config'))\n",
    "my_key = credentials['OPENAI']['KEY']\n",
    "my_org = credentials['OPENAI']['org']"
   ]
  },
  {
   "cell_type": "code",
   "execution_count": 3,
   "id": "60a66295",
   "metadata": {},
   "outputs": [],
   "source": [
    "def gpt3_completion(org, key,prompt,prompt_part,\n",
    "                    engine='text-davinci-003',temp=1.0,\n",
    "                   top_p=1.0,tokens=500,freq_pen=0.0,\n",
    "                   pres_pen=0.0,stop=['asdfasdf','asdfasdf'],\n",
    "                   filename='temp_file.jsonl'):\n",
    "    \"\"\"The function will take the prompt and the prompt parts to \n",
    "    begin the data collection. Once the data collection is completed, \n",
    "    the prompt part will be used for fine tuning. The prompt used will \n",
    "    be discarded\"\"\"\n",
    "    openai.api_key = key\n",
    "    openai.organization = org\n",
    "    max_retry=5\n",
    "    retry = 0\n",
    "    prompt = prompt.encode(encoding='ASCII',errors='ignore').decode()\n",
    "    while True:\n",
    "        try:\n",
    "            response = openai.Completion.create(\n",
    "            model=engine,\n",
    "            prompt=prompt,\n",
    "            temperature=temp,\n",
    "            max_tokens=tokens,\n",
    "            top_p=top_p,\n",
    "            frequency_penalty=freq_pen,\n",
    "            presence_penalty=pres_pen,\n",
    "            stop=stop)\n",
    "            \n",
    "            text = response['choices'][0]['text'].strip()\n",
    "            outprompt = prompt_part\n",
    "            dict_reply = {'prompt':outprompt,'completion':text}\n",
    "            with open(filename,'a+') as taker:\n",
    "                json.dump(dict_reply,fp=taker)\n",
    "                taker.write('\\n')\n",
    "            \n",
    "            return dict_reply\n",
    "        except Exception as e:\n",
    "            retry += 1\n",
    "            if retry > max_retry:\n",
    "                return f'GPT errored out {e}'\n",
    "            sleep(1)"
   ]
  },
  {
   "cell_type": "code",
   "execution_count": 47,
   "id": "84d37c2c",
   "metadata": {},
   "outputs": [],
   "source": [
    "def gpt3_question_collect(org, key,prompt,\n",
    "                    engine='text-davinci-003',temp=1.0,\n",
    "                   top_p=1.0,tokens=500,freq_pen=0.0,\n",
    "                   pres_pen=0.0,stop=['asdfasdf','asdfasdf'],\n",
    "                   filename='questions_file.jsonl'):\n",
    "    \"\"\"The function will take the prompt return the questions \n",
    "    that can be asked on the dataset. The same will be written \n",
    "    in questions_file.jsonl\"\"\"\n",
    "    openai.api_key = key\n",
    "    openai.organization = org\n",
    "    max_retry=5\n",
    "    retry = 0\n",
    "    prompt = prompt.encode(encoding='ASCII',errors='ignore').decode()\n",
    "    while True:\n",
    "        try:\n",
    "            response = openai.Completion.create(\n",
    "            model=engine,\n",
    "            prompt=prompt,\n",
    "            temperature=temp,\n",
    "            max_tokens=tokens,\n",
    "            top_p=top_p,\n",
    "            frequency_penalty=freq_pen,\n",
    "            presence_penalty=pres_pen,\n",
    "            stop=stop)\n",
    "            \n",
    "            text = response['choices'][0]['text'].strip()\n",
    "            dict_reply = {'prompt':prompt,'questions':text}\n",
    "            with open(filename,'a+') as taker:\n",
    "                json.dump(dict_reply,fp=taker)\n",
    "                taker.write('\\n')\n",
    "            \n",
    "            return dict_reply\n",
    "        except Exception as e:\n",
    "            retry += 1\n",
    "            if retry > max_retry:\n",
    "                return f'GPT errored out {e}'\n",
    "            sleep(1)"
   ]
  },
  {
   "cell_type": "code",
   "execution_count": 61,
   "id": "a2f2fd9d",
   "metadata": {},
   "outputs": [],
   "source": [
    "def gpt3_answer_collect(org, key,prompt_question,\n",
    "                    engine='text-davinci-003',temp=1.0,\n",
    "                   top_p=1.0,tokens=500,freq_pen=0.0,\n",
    "                   pres_pen=0.0,stop=['asdfasdf','asdfasdf'],\n",
    "                   filename='prompt_file.jsonl'):\n",
    "    \"\"\"The function will take the prompt return the questions \n",
    "    that can be asked on the dataset. The same will be written \n",
    "    in questions_file.jsonl\"\"\"\n",
    "    openai.api_key = key\n",
    "    openai.organization = org\n",
    "    max_retry=5\n",
    "    retry = 0\n",
    "    prompt = prompt_question.encode(encoding='ASCII',errors='ignore').decode()\n",
    "    while True:\n",
    "        try:\n",
    "            response = openai.Completion.create(\n",
    "            model=engine,\n",
    "            prompt=prompt_question,\n",
    "            temperature=temp,\n",
    "            max_tokens=tokens,\n",
    "            top_p=top_p,\n",
    "            frequency_penalty=freq_pen,\n",
    "            presence_penalty=pres_pen,\n",
    "            stop=stop)\n",
    "            \n",
    "            text = response['choices'][0]['text'].strip()\n",
    "            dict_reply = {'prompt':prompt_question,\n",
    "                          'completion':text}\n",
    "            with open(filename,'a+') as taker:\n",
    "                json.dump(dict_reply,fp=taker)\n",
    "                taker.write('\\n')\n",
    "            \n",
    "            return dict_reply\n",
    "        except Exception as e:\n",
    "            retry += 1\n",
    "            if retry > max_retry:\n",
    "                return f'GPT errored out {e}'\n",
    "            sleep(1)"
   ]
  },
  {
   "cell_type": "code",
   "execution_count": 4,
   "id": "cdd3ccbf",
   "metadata": {},
   "outputs": [],
   "source": [
    "#reading in the dataset sample_data.csv\n",
    "\n",
    "with open('space_titanic.csv','r') as sd:\n",
    "    data = sd.readlines()"
   ]
  },
  {
   "cell_type": "code",
   "execution_count": 5,
   "id": "56af55d7",
   "metadata": {},
   "outputs": [
    {
     "data": {
      "text/plain": [
       "8694"
      ]
     },
     "execution_count": 5,
     "metadata": {},
     "output_type": "execute_result"
    }
   ],
   "source": [
    "len(data)"
   ]
  },
  {
   "cell_type": "code",
   "execution_count": 6,
   "id": "03f7b290",
   "metadata": {},
   "outputs": [
    {
     "data": {
      "text/plain": [
       "'PassengerId,HomePlanet,CryoSleep,Cabin,Destination,Age,VIP,RoomService,FoodCourt,ShoppingMall,Spa,VRDeck,Name,Transported\\n0001_01,Europa,False,B/0/P,TRAPPIST-1e,39.0,False,0.0,0.0,0.0,0.0,0.0,Maham Ofracculy,False\\n'"
      ]
     },
     "execution_count": 6,
     "metadata": {},
     "output_type": "execute_result"
    }
   ],
   "source": [
    "data[0]+data[1]"
   ]
  },
  {
   "cell_type": "code",
   "execution_count": null,
   "id": "09c3ce1f",
   "metadata": {},
   "outputs": [],
   "source": [
    "# To get the tokeniser corresponding to a specific model in the OpenAI API:\n",
    "enc = tiktoken.encoding_for_model(\"text-davinci-003\")"
   ]
  },
  {
   "cell_type": "code",
   "execution_count": 8,
   "id": "6baaeafe",
   "metadata": {},
   "outputs": [
    {
     "data": {
      "text/plain": [
       "[1212, 318, 616, 717, 779, 286, 256, 1134, 30001]"
      ]
     },
     "execution_count": 8,
     "metadata": {},
     "output_type": "execute_result"
    }
   ],
   "source": [
    "enc.encode(\"This is my first use of tiktoken\")"
   ]
  },
  {
   "cell_type": "code",
   "execution_count": 9,
   "id": "b9cdc857",
   "metadata": {},
   "outputs": [
    {
     "data": {
      "text/plain": [
       "'This is my first use of tiktoken'"
      ]
     },
     "execution_count": 9,
     "metadata": {},
     "output_type": "execute_result"
    }
   ],
   "source": [
    "enc.decode(enc.encode(\"This is my first use of tiktoken\"))"
   ]
  },
  {
   "cell_type": "code",
   "execution_count": 10,
   "id": "a78a3cd5",
   "metadata": {},
   "outputs": [
    {
     "data": {
      "text/plain": [
       "50281"
      ]
     },
     "execution_count": 10,
     "metadata": {},
     "output_type": "execute_result"
    }
   ],
   "source": [
    "enc.n_vocab"
   ]
  },
  {
   "cell_type": "code",
   "execution_count": 8,
   "id": "c6108038",
   "metadata": {},
   "outputs": [],
   "source": [
    "def num_tokens_from_string(string: str, \n",
    "                           encoding_name: str = 'text-davinci-003') -> int:\n",
    "    \"\"\"Returns the number of tokens in a text string.\"\"\"\n",
    "    encoding = tiktoken.encoding_for_model(encoding_name)\n",
    "    num_tokens = len(encoding.encode(string))\n",
    "    return num_tokens"
   ]
  },
  {
   "cell_type": "code",
   "execution_count": 9,
   "id": "8228d090",
   "metadata": {},
   "outputs": [
    {
     "data": {
      "text/plain": [
       "9"
      ]
     },
     "execution_count": 9,
     "metadata": {},
     "output_type": "execute_result"
    }
   ],
   "source": [
    "num_tokens_from_string(string=\"This is the first use of tiktoken\",\n",
    "                       encoding_name='text-davinci-003')"
   ]
  },
  {
   "cell_type": "code",
   "execution_count": 19,
   "id": "9b2c1976",
   "metadata": {},
   "outputs": [],
   "source": [
    "### prompt design\n",
    "\n",
    "prompt = f\"\"\"\n",
    "[Dataset] = {data[0]}+{data[1:60]} \n",
    "prompt:Based on above [Dataset] list 10 questions that I can ask\n",
    "\n",
    "Answer:\n",
    "\"\"\""
   ]
  },
  {
   "cell_type": "code",
   "execution_count": 20,
   "id": "a561533a",
   "metadata": {},
   "outputs": [
    {
     "data": {
      "text/plain": [
       "3527"
      ]
     },
     "execution_count": 20,
     "metadata": {},
     "output_type": "execute_result"
    }
   ],
   "source": [
    "num_tokens_from_string(prompt)"
   ]
  },
  {
   "cell_type": "markdown",
   "id": "c30982d1",
   "metadata": {},
   "source": [
    "### The prompt and the answer should be total 4001 token"
   ]
  },
  {
   "cell_type": "code",
   "execution_count": 21,
   "id": "e43e3731",
   "metadata": {},
   "outputs": [
    {
     "data": {
      "text/plain": [
       "474"
      ]
     },
     "execution_count": 21,
     "metadata": {},
     "output_type": "execute_result"
    }
   ],
   "source": [
    "4001 - num_tokens_from_string(prompt)"
   ]
  },
  {
   "cell_type": "markdown",
   "id": "2e8e30ae",
   "metadata": {},
   "source": [
    "Psuedocode:\n",
    "\n",
    "1) Split the dataset into small chunks so it can fit inside the prompt. \n",
    "\n",
    "1a) Each dataset should be given a unique name\n",
    "\n",
    "2) Use the dataset chunks and send the prompt asking for the 15 questions that you can ask\n",
    "\n",
    "3) Collect the questions and attach it with the dataset chunk and write in a seperate file\n",
    "\n",
    "Do this for 15 chunks of the dataset you will have 225 questions\n",
    "\n",
    "4) Each dataset chunks will become 15 prompts with individual questions\n",
    "\n",
    "Prompt: Refer the {Dataset(num)} that was provided to you. {question}\n",
    "\n",
    "Answer:\n",
    "\n",
    "5) The prompt, along with the dataset, dataset num, question is considered as one prompt. The answer the model provides is considered as completion. \n",
    "\n",
    "{\"prompt\":dataset{num}=dataset_values,Refer the {dataset(num)} that was provided to you. {question}, \"completion\":Answer}\n",
    "\n",
    "6) Train the model..."
   ]
  },
  {
   "cell_type": "code",
   "execution_count": 24,
   "id": "537c58a4",
   "metadata": {},
   "outputs": [
    {
     "data": {
      "text/plain": [
       "144.9"
      ]
     },
     "execution_count": 24,
     "metadata": {},
     "output_type": "execute_result"
    }
   ],
   "source": [
    "#I will train with 6000 datasets\n",
    "len(data)/60"
   ]
  },
  {
   "cell_type": "code",
   "execution_count": 51,
   "id": "088bf55e",
   "metadata": {},
   "outputs": [],
   "source": [
    "data_chunks = []\n",
    "for x in list(range(1,100)):\n",
    "    data_t = f'{data[0]}+{data[(x+1):(x*60+1)]}'\n",
    "    \n",
    "    prompt_maker = f\"\"\"\n",
    "    dataset_{x}={data_t}\n",
    "    \n",
    "    Prompt:Refer to the [dataset_{x+1}] and List 25 questions that can be asked from it\n",
    "    \n",
    "    Answer:\n",
    "    \"\"\"\n",
    "    data_chunks.append(prompt_maker)"
   ]
  },
  {
   "cell_type": "code",
   "execution_count": 45,
   "id": "d5841e1d",
   "metadata": {},
   "outputs": [
    {
     "data": {
      "text/plain": [
       "3527"
      ]
     },
     "execution_count": 45,
     "metadata": {},
     "output_type": "execute_result"
    }
   ],
   "source": [
    "num_tokens_from_string(data_chunks[0])"
   ]
  },
  {
   "cell_type": "code",
   "execution_count": 58,
   "id": "15a24253",
   "metadata": {
    "scrolled": true
   },
   "outputs": [
    {
     "data": {
      "text/plain": [
       "\"\\n    dataset_1=PassengerId,HomePlanet,CryoSleep,Cabin,Destination,Age,VIP,RoomService,FoodCourt,ShoppingMall,Spa,VRDeck,Name,Transported\\n+['0002_01,Earth,False,F/0/S,TRAPPIST-1e,24.0,False,109.0,9.0,25.0,549.0,44.0,Juanna Vines,True\\\\n', '0003_01,Europa,False,A/0/S,TRAPPIST-1e,58.0,True,43.0,3576.0,0.0,6715.0,49.0,Altark Susent,False\\\\n', '0003_02,Europa,False,A/0/S,TRAPPIST-1e,33.0,False,0.0,1283.0,371.0,3329.0,193.0,Solam Susent,False\\\\n', '0004_01,Earth,False,F/1/S,TRAPPIST-1e,16.0,False,303.0,70.0,151.0,565.0,2.0,Willy Santantines,True\\\\n', '0005_01,Earth,False,F/0/P,PSO J318.5-22,44.0,False,0.0,483.0,0.0,291.0,0.0,Sandie Hinetthews,True\\\\n', '0006_01,Earth,False,F/2/S,TRAPPIST-1e,26.0,False,42.0,1539.0,3.0,0.0,0.0,Billex Jacostaffey,True\\\\n', '0006_02,Earth,True,G/0/S,TRAPPIST-1e,28.0,False,0.0,0.0,0.0,0.0,,Candra Jacostaffey,True\\\\n', '0007_01,Earth,False,F/3/S,TRAPPIST-1e,35.0,False,0.0,785.0,17.0,216.0,0.0,Andona Beston,True\\\\n', '0008_01,Europa,True,B/1/P,55 Cancri e,14.0,False,0.0,0.0,0.0,0.0,0.0,Erraiam Flatic,True\\\\n', '0008_02,Europa,True,B/1/P,TRAPPIST-1e,34.0,False,0.0,0.0,,0.0,0.0,Altardr Flatic,True\\\\n', '0008_03,Europa,False,B/1/P,55 Cancri e,45.0,False,39.0,7295.0,589.0,110.0,124.0,Wezena Flatic,True\\\\n', '0009_01,Mars,False,F/1/P,TRAPPIST-1e,32.0,False,73.0,0.0,1123.0,0.0,113.0,Berers Barne,True\\\\n', '0010_01,Earth,False,G/1/S,TRAPPIST-1e,48.0,False,719.0,1.0,65.0,0.0,24.0,Reney Baketton,False\\\\n', '0011_01,Earth,False,F/2/P,TRAPPIST-1e,28.0,False,8.0,974.0,12.0,2.0,7.0,Elle Bertsontry,True\\\\n', '0012_01,Earth,False,,TRAPPIST-1e,31.0,False,32.0,0.0,876.0,0.0,0.0,Justie Pooles,False\\\\n', '0014_01,Mars,False,F/3/P,55 Cancri e,27.0,False,1286.0,122.0,,0.0,0.0,Flats Eccle,False\\\\n', '0015_01,Earth,False,F/4/P,55 Cancri e,24.0,False,0.0,1.0,0.0,0.0,637.0,Carry Hughriend,False\\\\n', '0016_01,Mars,True,F/5/P,TRAPPIST-1e,45.0,False,0.0,0.0,0.0,0.0,0.0,Alus Upead,True\\\\n', '0017_01,Earth,False,G/0/P,TRAPPIST-1e,0.0,False,0.0,0.0,0.0,0.0,0.0,Lyde Brighttt,True\\\\n', '0017_02,Earth,False,F/6/P,55 Cancri e,14.0,False,412.0,0.0,1.0,0.0,679.0,Philda Brighttt,False\\\\n', '0020_01,Earth,True,E/0/S,TRAPPIST-1e,1.0,False,0.0,0.0,0.0,0.0,0.0,Almary Brantuarez,False\\\\n', '0020_02,Earth,True,E/0/S,55 Cancri e,49.0,False,0.0,0.0,0.0,0.0,0.0,Glendy Brantuarez,False\\\\n', '0020_03,Earth,True,E/0/S,55 Cancri e,29.0,False,0.0,0.0,,0.0,0.0,Mollen Mcfaddennon,False\\\\n', '0020_04,Earth,False,E/0/S,TRAPPIST-1e,10.0,False,0.0,0.0,0.0,0.0,0.0,Breney Jacostanley,True\\\\n', '0020_05,Earth,True,E/0/S,PSO J318.5-22,1.0,False,,0.0,0.0,0.0,0.0,Mael Brantuarez,False\\\\n', '0020_06,Earth,False,E/0/S,TRAPPIST-1e,7.0,False,0.0,0.0,0.0,0.0,0.0,Terta Mcfaddennon,False\\\\n', '0022_01,Mars,False,D/0/P,TRAPPIST-1e,21.0,False,980.0,2.0,69.0,0.0,0.0,,False\\\\n', '0024_01,Europa,True,C/2/S,TRAPPIST-1e,62.0,False,0.0,0.0,,0.0,0.0,Penton Fullided,True\\\\n', '0025_01,Earth,False,F/6/S,TRAPPIST-1e,15.0,False,0.0,225.0,0.0,998.0,0.0,Karard Brookenson,False\\\\n', '0026_01,Europa,False,C/0/P,55 Cancri e,34.0,False,22.0,6073.0,0.0,1438.0,328.0,Anyoni Unconary,False\\\\n', '0028_01,Mars,False,F/8/P,TRAPPIST-1e,43.0,False,1125.0,0.0,136.0,48.0,0.0,Ceros Mare,False\\\\n', '0030_01,Earth,False,G/4/S,TRAPPIST-1e,32.0,False,0.0,850.0,81.0,437.0,453.0,Ginia Morsentley,False\\\\n', '0031_01,Mars,False,F/9/P,TRAPPIST-1e,47.0,False,214.0,0.0,1411.0,0.0,1229.0,Coobix Datie,True\\\\n', '0031_02,Mars,False,F/9/P,TRAPPIST-1e,2.0,False,0.0,0.0,0.0,0.0,0.0,Cinets Datie,True\\\\n', '0031_03,Mars,False,F/9/P,TRAPPIST-1e,20.0,False,,0.0,1750.0,990.0,0.0,Dontch Datie,True\\\\n', '0034_01,Europa,True,D/1/S,55 Cancri e,28.0,False,0.0,0.0,0.0,0.0,0.0,Ziba Oingwhedly,True\\\\n', '0035_01,Mars,False,D/1/P,55 Cancri e,23.0,False,784.0,964.0,0.0,951.0,0.0,Luse Butte,False\\\\n', '0036_01,Earth,False,F/8/S,55 Cancri e,15.0,,0.0,492.0,48.0,20.0,401.0,Marina Leodger,False\\\\n', '0038_01,Earth,False,F/10/S,55 Cancri e,20.0,False,554.0,195.0,0.0,2606.0,0.0,Loise Wheelez,False\\\\n', '0039_01,Earth,True,G/1/P,55 Cancri e,30.0,False,0.0,0.0,,0.0,0.0,Jorgie Batthewitt,False\\\\n', '0041_01,Earth,True,G/2/P,TRAPPIST-1e,17.0,False,0.0,0.0,0.0,0.0,0.0,Margia Moodsey,True\\\\n', '0043_01,Europa,False,B/3/P,TRAPPIST-1e,45.0,False,0.0,164.0,45.0,2511.0,855.0,Ankalik Cylistrand,False\\\\n', '0044_01,Earth,True,G/3/P,TRAPPIST-1e,55.0,False,0.0,0.0,0.0,0.0,0.0,Jodye Coopelandez,False\\\\n', '0044_02,Earth,True,G/3/P,55 Cancri e,4.0,False,0.0,0.0,0.0,0.0,0.0,Kayne Coopelandez,True\\\\n', '0044_03,Earth,True,G/3/P,PSO J318.5-22,21.0,False,0.0,0.0,0.0,0.0,0.0,Cassa Coopelandez,True\\\\n', '0045_01,Mars,False,F/10/P,TRAPPIST-1e,21.0,False,970.0,0.0,180.0,0.0,64.0,Zelowl Chmad,False\\\\n', '0045_02,Mars,True,F/10/P,,19.0,False,0.0,0.0,0.0,0.0,0.0,Mass Chmad,True\\\\n', '0050_01,Earth,False,E/1/S,55 Cancri e,35.0,False,790.0,0.0,0.0,,0.0,Sony Lancis,False\\\\n', '0051_01,Earth,False,E/2/S,TRAPPIST-1e,56.0,False,0.0,112.0,0.0,1379.0,127.0,Vivia Johnshines,False\\\\n', '0052_01,Earth,False,G/6/S,TRAPPIST-1e,,False,4.0,0.0,2.0,4683.0,0.0,Elaney Hubbarton,False\\\\n', '0053_01,Earth,False,F/11/S,TRAPPIST-1e,25.0,False,0.0,0.0,1938.0,0.0,1.0,Elson Hickerson,True\\\\n', '0056_01,Europa,False,A/1/S,TRAPPIST-1e,2.0,False,0.0,0.0,0.0,0.0,0.0,Okulas Tractive,True\\\\n', '0056_02,Europa,True,A/1/S,TRAPPIST-1e,38.0,False,0.0,0.0,0.0,0.0,0.0,Instab Tractive,True\\\\n', '0056_03,Europa,False,A/1/S,TRAPPIST-1e,27.0,False,279.0,605.0,3374.0,286.0,3.0,Zinoces Tractive,True\\\\n', '0058_01,Earth,True,G/7/S,PSO J318.5-22,36.0,False,0.0,0.0,0.0,0.0,0.0,Warry Ayalazquez,False\\\\n', '0061_01,Earth,False,F/12/S,TRAPPIST-1e,22.0,False,45.0,1096.0,148.0,1377.0,1.0,Shanya Salez,False\\\\n', '0062_01,Earth,False,F/13/S,TRAPPIST-1e,62.0,False,0.0,592.0,0.0,17.0,25.0,Sterry Greeves,False\\\\n', '0064_01,Mars,True,F/14/S,TRAPPIST-1e,15.0,False,0.0,0.0,0.0,0.0,0.0,,True\\\\n', '0064_02,,True,E/3/S,TRAPPIST-1e,33.0,False,0.0,0.0,,0.0,0.0,Colatz Keen,True\\\\n']\\n    \\n    Prompt:Refer to the [dataset_2] and List 25 questions that can be asked from it\\n    \\n    Answer:\\n    \""
      ]
     },
     "execution_count": 58,
     "metadata": {},
     "output_type": "execute_result"
    }
   ],
   "source": [
    "data_chunks[0]"
   ]
  },
  {
   "cell_type": "code",
   "execution_count": 50,
   "id": "1477a9b1",
   "metadata": {
    "scrolled": true
   },
   "outputs": [
    {
     "data": {
      "text/plain": [
       "{'prompt': \"\\n    dataset_2=PassengerId,HomePlanet,CryoSleep,Cabin,Destination,Age,VIP,RoomService,FoodCourt,ShoppingMall,Spa,VRDeck,Name,Transported\\n+['0002_01,Earth,False,F/0/S,TRAPPIST-1e,24.0,False,109.0,9.0,25.0,549.0,44.0,Juanna Vines,True\\\\n', '0003_01,Europa,False,A/0/S,TRAPPIST-1e,58.0,True,43.0,3576.0,0.0,6715.0,49.0,Altark Susent,False\\\\n', '0003_02,Europa,False,A/0/S,TRAPPIST-1e,33.0,False,0.0,1283.0,371.0,3329.0,193.0,Solam Susent,False\\\\n', '0004_01,Earth,False,F/1/S,TRAPPIST-1e,16.0,False,303.0,70.0,151.0,565.0,2.0,Willy Santantines,True\\\\n', '0005_01,Earth,False,F/0/P,PSO J318.5-22,44.0,False,0.0,483.0,0.0,291.0,0.0,Sandie Hinetthews,True\\\\n', '0006_01,Earth,False,F/2/S,TRAPPIST-1e,26.0,False,42.0,1539.0,3.0,0.0,0.0,Billex Jacostaffey,True\\\\n', '0006_02,Earth,True,G/0/S,TRAPPIST-1e,28.0,False,0.0,0.0,0.0,0.0,,Candra Jacostaffey,True\\\\n', '0007_01,Earth,False,F/3/S,TRAPPIST-1e,35.0,False,0.0,785.0,17.0,216.0,0.0,Andona Beston,True\\\\n', '0008_01,Europa,True,B/1/P,55 Cancri e,14.0,False,0.0,0.0,0.0,0.0,0.0,Erraiam Flatic,True\\\\n', '0008_02,Europa,True,B/1/P,TRAPPIST-1e,34.0,False,0.0,0.0,,0.0,0.0,Altardr Flatic,True\\\\n', '0008_03,Europa,False,B/1/P,55 Cancri e,45.0,False,39.0,7295.0,589.0,110.0,124.0,Wezena Flatic,True\\\\n', '0009_01,Mars,False,F/1/P,TRAPPIST-1e,32.0,False,73.0,0.0,1123.0,0.0,113.0,Berers Barne,True\\\\n', '0010_01,Earth,False,G/1/S,TRAPPIST-1e,48.0,False,719.0,1.0,65.0,0.0,24.0,Reney Baketton,False\\\\n', '0011_01,Earth,False,F/2/P,TRAPPIST-1e,28.0,False,8.0,974.0,12.0,2.0,7.0,Elle Bertsontry,True\\\\n', '0012_01,Earth,False,,TRAPPIST-1e,31.0,False,32.0,0.0,876.0,0.0,0.0,Justie Pooles,False\\\\n', '0014_01,Mars,False,F/3/P,55 Cancri e,27.0,False,1286.0,122.0,,0.0,0.0,Flats Eccle,False\\\\n', '0015_01,Earth,False,F/4/P,55 Cancri e,24.0,False,0.0,1.0,0.0,0.0,637.0,Carry Hughriend,False\\\\n', '0016_01,Mars,True,F/5/P,TRAPPIST-1e,45.0,False,0.0,0.0,0.0,0.0,0.0,Alus Upead,True\\\\n', '0017_01,Earth,False,G/0/P,TRAPPIST-1e,0.0,False,0.0,0.0,0.0,0.0,0.0,Lyde Brighttt,True\\\\n', '0017_02,Earth,False,F/6/P,55 Cancri e,14.0,False,412.0,0.0,1.0,0.0,679.0,Philda Brighttt,False\\\\n', '0020_01,Earth,True,E/0/S,TRAPPIST-1e,1.0,False,0.0,0.0,0.0,0.0,0.0,Almary Brantuarez,False\\\\n', '0020_02,Earth,True,E/0/S,55 Cancri e,49.0,False,0.0,0.0,0.0,0.0,0.0,Glendy Brantuarez,False\\\\n', '0020_03,Earth,True,E/0/S,55 Cancri e,29.0,False,0.0,0.0,,0.0,0.0,Mollen Mcfaddennon,False\\\\n', '0020_04,Earth,False,E/0/S,TRAPPIST-1e,10.0,False,0.0,0.0,0.0,0.0,0.0,Breney Jacostanley,True\\\\n', '0020_05,Earth,True,E/0/S,PSO J318.5-22,1.0,False,,0.0,0.0,0.0,0.0,Mael Brantuarez,False\\\\n', '0020_06,Earth,False,E/0/S,TRAPPIST-1e,7.0,False,0.0,0.0,0.0,0.0,0.0,Terta Mcfaddennon,False\\\\n', '0022_01,Mars,False,D/0/P,TRAPPIST-1e,21.0,False,980.0,2.0,69.0,0.0,0.0,,False\\\\n', '0024_01,Europa,True,C/2/S,TRAPPIST-1e,62.0,False,0.0,0.0,,0.0,0.0,Penton Fullided,True\\\\n', '0025_01,Earth,False,F/6/S,TRAPPIST-1e,15.0,False,0.0,225.0,0.0,998.0,0.0,Karard Brookenson,False\\\\n', '0026_01,Europa,False,C/0/P,55 Cancri e,34.0,False,22.0,6073.0,0.0,1438.0,328.0,Anyoni Unconary,False\\\\n', '0028_01,Mars,False,F/8/P,TRAPPIST-1e,43.0,False,1125.0,0.0,136.0,48.0,0.0,Ceros Mare,False\\\\n', '0030_01,Earth,False,G/4/S,TRAPPIST-1e,32.0,False,0.0,850.0,81.0,437.0,453.0,Ginia Morsentley,False\\\\n', '0031_01,Mars,False,F/9/P,TRAPPIST-1e,47.0,False,214.0,0.0,1411.0,0.0,1229.0,Coobix Datie,True\\\\n', '0031_02,Mars,False,F/9/P,TRAPPIST-1e,2.0,False,0.0,0.0,0.0,0.0,0.0,Cinets Datie,True\\\\n', '0031_03,Mars,False,F/9/P,TRAPPIST-1e,20.0,False,,0.0,1750.0,990.0,0.0,Dontch Datie,True\\\\n', '0034_01,Europa,True,D/1/S,55 Cancri e,28.0,False,0.0,0.0,0.0,0.0,0.0,Ziba Oingwhedly,True\\\\n', '0035_01,Mars,False,D/1/P,55 Cancri e,23.0,False,784.0,964.0,0.0,951.0,0.0,Luse Butte,False\\\\n', '0036_01,Earth,False,F/8/S,55 Cancri e,15.0,,0.0,492.0,48.0,20.0,401.0,Marina Leodger,False\\\\n', '0038_01,Earth,False,F/10/S,55 Cancri e,20.0,False,554.0,195.0,0.0,2606.0,0.0,Loise Wheelez,False\\\\n', '0039_01,Earth,True,G/1/P,55 Cancri e,30.0,False,0.0,0.0,,0.0,0.0,Jorgie Batthewitt,False\\\\n', '0041_01,Earth,True,G/2/P,TRAPPIST-1e,17.0,False,0.0,0.0,0.0,0.0,0.0,Margia Moodsey,True\\\\n', '0043_01,Europa,False,B/3/P,TRAPPIST-1e,45.0,False,0.0,164.0,45.0,2511.0,855.0,Ankalik Cylistrand,False\\\\n', '0044_01,Earth,True,G/3/P,TRAPPIST-1e,55.0,False,0.0,0.0,0.0,0.0,0.0,Jodye Coopelandez,False\\\\n', '0044_02,Earth,True,G/3/P,55 Cancri e,4.0,False,0.0,0.0,0.0,0.0,0.0,Kayne Coopelandez,True\\\\n', '0044_03,Earth,True,G/3/P,PSO J318.5-22,21.0,False,0.0,0.0,0.0,0.0,0.0,Cassa Coopelandez,True\\\\n', '0045_01,Mars,False,F/10/P,TRAPPIST-1e,21.0,False,970.0,0.0,180.0,0.0,64.0,Zelowl Chmad,False\\\\n', '0045_02,Mars,True,F/10/P,,19.0,False,0.0,0.0,0.0,0.0,0.0,Mass Chmad,True\\\\n', '0050_01,Earth,False,E/1/S,55 Cancri e,35.0,False,790.0,0.0,0.0,,0.0,Sony Lancis,False\\\\n', '0051_01,Earth,False,E/2/S,TRAPPIST-1e,56.0,False,0.0,112.0,0.0,1379.0,127.0,Vivia Johnshines,False\\\\n', '0052_01,Earth,False,G/6/S,TRAPPIST-1e,,False,4.0,0.0,2.0,4683.0,0.0,Elaney Hubbarton,False\\\\n', '0053_01,Earth,False,F/11/S,TRAPPIST-1e,25.0,False,0.0,0.0,1938.0,0.0,1.0,Elson Hickerson,True\\\\n', '0056_01,Europa,False,A/1/S,TRAPPIST-1e,2.0,False,0.0,0.0,0.0,0.0,0.0,Okulas Tractive,True\\\\n', '0056_02,Europa,True,A/1/S,TRAPPIST-1e,38.0,False,0.0,0.0,0.0,0.0,0.0,Instab Tractive,True\\\\n', '0056_03,Europa,False,A/1/S,TRAPPIST-1e,27.0,False,279.0,605.0,3374.0,286.0,3.0,Zinoces Tractive,True\\\\n', '0058_01,Earth,True,G/7/S,PSO J318.5-22,36.0,False,0.0,0.0,0.0,0.0,0.0,Warry Ayalazquez,False\\\\n', '0061_01,Earth,False,F/12/S,TRAPPIST-1e,22.0,False,45.0,1096.0,148.0,1377.0,1.0,Shanya Salez,False\\\\n', '0062_01,Earth,False,F/13/S,TRAPPIST-1e,62.0,False,0.0,592.0,0.0,17.0,25.0,Sterry Greeves,False\\\\n', '0064_01,Mars,True,F/14/S,TRAPPIST-1e,15.0,False,0.0,0.0,0.0,0.0,0.0,,True\\\\n', '0064_02,,True,E/3/S,TRAPPIST-1e,33.0,False,0.0,0.0,,0.0,0.0,Colatz Keen,True\\\\n']\\n    \\n    Prompt:Refer to the [dataset_2] and List 25 questions that can be asked from it\\n    \\n    Answer:\\n    \",\n",
       " 'questions': '1. How many passengers are there in the dataset?\\n2. Which home planets are the passengers from? \\n3. What is the average age of the passengers?\\n4. How many passengers experienced CryoSleep?\\n5. How many passengers have VIP status? \\n6. What is the average RoomService per passenger? \\n7. What is the most popular destination?\\n8. What is the average FoodCourt per passenger? \\n9. What is the average ShoppingMall usage per passenger?\\n10. What is the average Spa service used per passenger? \\n11. What is the average VRDeck usage per passenger? \\n12. How many passengers are from Earth? \\n13. How many passengers are from Europa? \\n14. How many passengers are from Mars? \\n15. How many passengers traveled in a Cabin? \\n16. How many passengers traveled without a Cabin? \\n17. How many passengers are under 18-years-old?\\n18. How many passengers are between 18 and 35-years-old? \\n19. How many passengers are between 36 and 50-years-old? \\n20. How many passengers are over 50-years-old?\\n21. What is the most popular destination for VIP passengers? \\n22. How many passengers have 0 RoomService? \\n23. How many passengers have 0 ShoppingMall visits?\\n24. How many passengers have Spa service usage of 0? \\n25. How many passengers have VRDeck usage of 0?'}"
      ]
     },
     "execution_count": 50,
     "metadata": {},
     "output_type": "execute_result"
    }
   ],
   "source": [
    "gpt3_question_collect(org=my_org,key=my_key,\n",
    "                      prompt=data_chunks[1])"
   ]
  },
  {
   "cell_type": "code",
   "execution_count": 59,
   "id": "4a28d3fb",
   "metadata": {},
   "outputs": [
    {
     "data": {
      "text/plain": [
       "{'prompt': \"\\n    dataset_1=PassengerId,HomePlanet,CryoSleep,Cabin,Destination,Age,VIP,RoomService,FoodCourt,ShoppingMall,Spa,VRDeck,Name,Transported\\n+['0002_01,Earth,False,F/0/S,TRAPPIST-1e,24.0,False,109.0,9.0,25.0,549.0,44.0,Juanna Vines,True\\\\n', '0003_01,Europa,False,A/0/S,TRAPPIST-1e,58.0,True,43.0,3576.0,0.0,6715.0,49.0,Altark Susent,False\\\\n', '0003_02,Europa,False,A/0/S,TRAPPIST-1e,33.0,False,0.0,1283.0,371.0,3329.0,193.0,Solam Susent,False\\\\n', '0004_01,Earth,False,F/1/S,TRAPPIST-1e,16.0,False,303.0,70.0,151.0,565.0,2.0,Willy Santantines,True\\\\n', '0005_01,Earth,False,F/0/P,PSO J318.5-22,44.0,False,0.0,483.0,0.0,291.0,0.0,Sandie Hinetthews,True\\\\n', '0006_01,Earth,False,F/2/S,TRAPPIST-1e,26.0,False,42.0,1539.0,3.0,0.0,0.0,Billex Jacostaffey,True\\\\n', '0006_02,Earth,True,G/0/S,TRAPPIST-1e,28.0,False,0.0,0.0,0.0,0.0,,Candra Jacostaffey,True\\\\n', '0007_01,Earth,False,F/3/S,TRAPPIST-1e,35.0,False,0.0,785.0,17.0,216.0,0.0,Andona Beston,True\\\\n', '0008_01,Europa,True,B/1/P,55 Cancri e,14.0,False,0.0,0.0,0.0,0.0,0.0,Erraiam Flatic,True\\\\n', '0008_02,Europa,True,B/1/P,TRAPPIST-1e,34.0,False,0.0,0.0,,0.0,0.0,Altardr Flatic,True\\\\n', '0008_03,Europa,False,B/1/P,55 Cancri e,45.0,False,39.0,7295.0,589.0,110.0,124.0,Wezena Flatic,True\\\\n', '0009_01,Mars,False,F/1/P,TRAPPIST-1e,32.0,False,73.0,0.0,1123.0,0.0,113.0,Berers Barne,True\\\\n', '0010_01,Earth,False,G/1/S,TRAPPIST-1e,48.0,False,719.0,1.0,65.0,0.0,24.0,Reney Baketton,False\\\\n', '0011_01,Earth,False,F/2/P,TRAPPIST-1e,28.0,False,8.0,974.0,12.0,2.0,7.0,Elle Bertsontry,True\\\\n', '0012_01,Earth,False,,TRAPPIST-1e,31.0,False,32.0,0.0,876.0,0.0,0.0,Justie Pooles,False\\\\n', '0014_01,Mars,False,F/3/P,55 Cancri e,27.0,False,1286.0,122.0,,0.0,0.0,Flats Eccle,False\\\\n', '0015_01,Earth,False,F/4/P,55 Cancri e,24.0,False,0.0,1.0,0.0,0.0,637.0,Carry Hughriend,False\\\\n', '0016_01,Mars,True,F/5/P,TRAPPIST-1e,45.0,False,0.0,0.0,0.0,0.0,0.0,Alus Upead,True\\\\n', '0017_01,Earth,False,G/0/P,TRAPPIST-1e,0.0,False,0.0,0.0,0.0,0.0,0.0,Lyde Brighttt,True\\\\n', '0017_02,Earth,False,F/6/P,55 Cancri e,14.0,False,412.0,0.0,1.0,0.0,679.0,Philda Brighttt,False\\\\n', '0020_01,Earth,True,E/0/S,TRAPPIST-1e,1.0,False,0.0,0.0,0.0,0.0,0.0,Almary Brantuarez,False\\\\n', '0020_02,Earth,True,E/0/S,55 Cancri e,49.0,False,0.0,0.0,0.0,0.0,0.0,Glendy Brantuarez,False\\\\n', '0020_03,Earth,True,E/0/S,55 Cancri e,29.0,False,0.0,0.0,,0.0,0.0,Mollen Mcfaddennon,False\\\\n', '0020_04,Earth,False,E/0/S,TRAPPIST-1e,10.0,False,0.0,0.0,0.0,0.0,0.0,Breney Jacostanley,True\\\\n', '0020_05,Earth,True,E/0/S,PSO J318.5-22,1.0,False,,0.0,0.0,0.0,0.0,Mael Brantuarez,False\\\\n', '0020_06,Earth,False,E/0/S,TRAPPIST-1e,7.0,False,0.0,0.0,0.0,0.0,0.0,Terta Mcfaddennon,False\\\\n', '0022_01,Mars,False,D/0/P,TRAPPIST-1e,21.0,False,980.0,2.0,69.0,0.0,0.0,,False\\\\n', '0024_01,Europa,True,C/2/S,TRAPPIST-1e,62.0,False,0.0,0.0,,0.0,0.0,Penton Fullided,True\\\\n', '0025_01,Earth,False,F/6/S,TRAPPIST-1e,15.0,False,0.0,225.0,0.0,998.0,0.0,Karard Brookenson,False\\\\n', '0026_01,Europa,False,C/0/P,55 Cancri e,34.0,False,22.0,6073.0,0.0,1438.0,328.0,Anyoni Unconary,False\\\\n', '0028_01,Mars,False,F/8/P,TRAPPIST-1e,43.0,False,1125.0,0.0,136.0,48.0,0.0,Ceros Mare,False\\\\n', '0030_01,Earth,False,G/4/S,TRAPPIST-1e,32.0,False,0.0,850.0,81.0,437.0,453.0,Ginia Morsentley,False\\\\n', '0031_01,Mars,False,F/9/P,TRAPPIST-1e,47.0,False,214.0,0.0,1411.0,0.0,1229.0,Coobix Datie,True\\\\n', '0031_02,Mars,False,F/9/P,TRAPPIST-1e,2.0,False,0.0,0.0,0.0,0.0,0.0,Cinets Datie,True\\\\n', '0031_03,Mars,False,F/9/P,TRAPPIST-1e,20.0,False,,0.0,1750.0,990.0,0.0,Dontch Datie,True\\\\n', '0034_01,Europa,True,D/1/S,55 Cancri e,28.0,False,0.0,0.0,0.0,0.0,0.0,Ziba Oingwhedly,True\\\\n', '0035_01,Mars,False,D/1/P,55 Cancri e,23.0,False,784.0,964.0,0.0,951.0,0.0,Luse Butte,False\\\\n', '0036_01,Earth,False,F/8/S,55 Cancri e,15.0,,0.0,492.0,48.0,20.0,401.0,Marina Leodger,False\\\\n', '0038_01,Earth,False,F/10/S,55 Cancri e,20.0,False,554.0,195.0,0.0,2606.0,0.0,Loise Wheelez,False\\\\n', '0039_01,Earth,True,G/1/P,55 Cancri e,30.0,False,0.0,0.0,,0.0,0.0,Jorgie Batthewitt,False\\\\n', '0041_01,Earth,True,G/2/P,TRAPPIST-1e,17.0,False,0.0,0.0,0.0,0.0,0.0,Margia Moodsey,True\\\\n', '0043_01,Europa,False,B/3/P,TRAPPIST-1e,45.0,False,0.0,164.0,45.0,2511.0,855.0,Ankalik Cylistrand,False\\\\n', '0044_01,Earth,True,G/3/P,TRAPPIST-1e,55.0,False,0.0,0.0,0.0,0.0,0.0,Jodye Coopelandez,False\\\\n', '0044_02,Earth,True,G/3/P,55 Cancri e,4.0,False,0.0,0.0,0.0,0.0,0.0,Kayne Coopelandez,True\\\\n', '0044_03,Earth,True,G/3/P,PSO J318.5-22,21.0,False,0.0,0.0,0.0,0.0,0.0,Cassa Coopelandez,True\\\\n', '0045_01,Mars,False,F/10/P,TRAPPIST-1e,21.0,False,970.0,0.0,180.0,0.0,64.0,Zelowl Chmad,False\\\\n', '0045_02,Mars,True,F/10/P,,19.0,False,0.0,0.0,0.0,0.0,0.0,Mass Chmad,True\\\\n', '0050_01,Earth,False,E/1/S,55 Cancri e,35.0,False,790.0,0.0,0.0,,0.0,Sony Lancis,False\\\\n', '0051_01,Earth,False,E/2/S,TRAPPIST-1e,56.0,False,0.0,112.0,0.0,1379.0,127.0,Vivia Johnshines,False\\\\n', '0052_01,Earth,False,G/6/S,TRAPPIST-1e,,False,4.0,0.0,2.0,4683.0,0.0,Elaney Hubbarton,False\\\\n', '0053_01,Earth,False,F/11/S,TRAPPIST-1e,25.0,False,0.0,0.0,1938.0,0.0,1.0,Elson Hickerson,True\\\\n', '0056_01,Europa,False,A/1/S,TRAPPIST-1e,2.0,False,0.0,0.0,0.0,0.0,0.0,Okulas Tractive,True\\\\n', '0056_02,Europa,True,A/1/S,TRAPPIST-1e,38.0,False,0.0,0.0,0.0,0.0,0.0,Instab Tractive,True\\\\n', '0056_03,Europa,False,A/1/S,TRAPPIST-1e,27.0,False,279.0,605.0,3374.0,286.0,3.0,Zinoces Tractive,True\\\\n', '0058_01,Earth,True,G/7/S,PSO J318.5-22,36.0,False,0.0,0.0,0.0,0.0,0.0,Warry Ayalazquez,False\\\\n', '0061_01,Earth,False,F/12/S,TRAPPIST-1e,22.0,False,45.0,1096.0,148.0,1377.0,1.0,Shanya Salez,False\\\\n', '0062_01,Earth,False,F/13/S,TRAPPIST-1e,62.0,False,0.0,592.0,0.0,17.0,25.0,Sterry Greeves,False\\\\n', '0064_01,Mars,True,F/14/S,TRAPPIST-1e,15.0,False,0.0,0.0,0.0,0.0,0.0,,True\\\\n', '0064_02,,True,E/3/S,TRAPPIST-1e,33.0,False,0.0,0.0,,0.0,0.0,Colatz Keen,True\\\\n']\\n    \\n    Prompt:Refer to the [dataset_2] and List 25 questions that can be asked from it\\n    \\n    Answer:\\n    \",\n",
       " 'questions': '1. What is the PassengerId of the passengers in the dataset_2?\\n2. How many passengers are there in the dataset_2?\\n3. What percentage of passengers had Cryosleep?\\n4. What was the average Age of the passengers?\\n5. How many of the passengers were VIPs?\\n6. How many passengers had RoomService?\\n7. What is the range of FoodCourt options used by the passengers?\\n8. How many passengers shopped in the ShoppingMall?\\n9. What percentage of passengers used the Spa facility?\\n10. How many passengers used the VRDeck?\\n11. What is the most common HomePlanet among the passengers?\\n12. What is the Destination of the majority of the passengers in the dataset_2?\\n13. What is the Cabin type used by the most passengers?\\n14. What is the average amount of RoomService provided for VIP passengers?\\n15. How many passengers had nonzero RoomService values?\\n16. What is the mean FoodCourt value for passengers travelling to PSO J318.5-22?\\n17. What is the median Spa value for passengers travelling to PSO J318.5-22?\\n18. How many passengers did not have names?\\n19. How many passengers could not be transported?\\n20. How many passengers were under 16 years of age?\\n21. How many passengers travelling to 55 Cancri e were under 10 years of age?\\n22. What is the mean VRDeck value for passengers travelling to TRAPPIST-1e?\\n23. How many passengers below 25 years of age had a Cabin type F/0/P?\\n24. How many passengers between 0 and 10 years of age had a Cabin type F/0/P?\\n25. How many passengers over 55 years of age had a Cabin type G/0/S?'}"
      ]
     },
     "execution_count": 59,
     "metadata": {},
     "output_type": "execute_result"
    }
   ],
   "source": [
    "gpt3_question_collect(org=my_org,key=my_key,\n",
    "                      prompt=data_chunks[0])"
   ]
  },
  {
   "cell_type": "code",
   "execution_count": 62,
   "id": "5a6d3d4b",
   "metadata": {},
   "outputs": [
    {
     "data": {
      "text/plain": [
       "{'prompt': 'Refer to [dataset_1] and \\n                   answer What is the range of FoodCourt options used by the passengers?',\n",
       " 'completion': 'The range of FoodCourt options used by the passengers in dataset_1 includes drinks, snacks, sandwiches, entrees, desserts, and more.'}"
      ]
     },
     "execution_count": 62,
     "metadata": {},
     "output_type": "execute_result"
    }
   ],
   "source": [
    "gpt3_answer_collect(org=my_org,key=my_key,\n",
    "                   prompt_question='''Refer to [dataset_1] and \n",
    "                   answer What is the range of FoodCourt options used by the passengers?''')"
   ]
  },
  {
   "cell_type": "code",
   "execution_count": 63,
   "id": "25783af6",
   "metadata": {},
   "outputs": [
    {
     "data": {
      "text/plain": [
       "{'prompt': 'Refer to [dataset_1] and \\n                   answer How many passengers between 0 and 10 years of age had a Cabin type F/0/P?',\n",
       " 'completion': 'There is no information available on the ages of passengers in the provided dataset 1. However, the dataset does indicate the number of passengers who had a Cabin type F, 0, or P, which is 17.'}"
      ]
     },
     "execution_count": 63,
     "metadata": {},
     "output_type": "execute_result"
    }
   ],
   "source": [
    "gpt3_answer_collect(org=my_org,key=my_key,\n",
    "                   prompt_question='''Refer to [dataset_1] and \n",
    "                   answer How many passengers between 0 and 10 years of age had a Cabin type F/0/P?''')"
   ]
  },
  {
   "cell_type": "code",
   "execution_count": 64,
   "id": "44cdab36",
   "metadata": {},
   "outputs": [
    {
     "data": {
      "text/plain": [
       "{'prompt': 'Refer to [dataset_1] and \\n                   answer What is the mean VRDeck value for passengers travelling to TRAPPIST-1e?',\n",
       " 'completion': 'The mean VRDeck value for passengers travelling to TRAPPIST-1e is 5.87.'}"
      ]
     },
     "execution_count": 64,
     "metadata": {},
     "output_type": "execute_result"
    }
   ],
   "source": [
    "gpt3_answer_collect(org=my_org,key=my_key,\n",
    "                   prompt_question='''Refer to [dataset_1] and \n",
    "                   answer What is the mean VRDeck value for passengers travelling to TRAPPIST-1e?''')"
   ]
  },
  {
   "cell_type": "code",
   "execution_count": 69,
   "id": "63192bd6",
   "metadata": {},
   "outputs": [],
   "source": [
    "with open('questions_file.jsonl','r') as qpf:\n",
    "    json_data = json.load(qpf)"
   ]
  },
  {
   "cell_type": "code",
   "execution_count": 77,
   "id": "b2665cbe",
   "metadata": {},
   "outputs": [],
   "source": [
    "def question_extractor(reply_dict):\n",
    "    extracted = []\n",
    "    quest_list = reply_dict['questions'].split('\\n')\n",
    "    \n",
    "    for que in quest_list:\n",
    "        ready = que.split('.')[1].strip(' ')\n",
    "        extracted.append(ready)\n",
    "    \n",
    "    return extracted"
   ]
  },
  {
   "cell_type": "code",
   "execution_count": 72,
   "id": "0f07c792",
   "metadata": {},
   "outputs": [],
   "source": [
    "questionList = json_data[0]['questions'].split('\\n')"
   ]
  },
  {
   "cell_type": "code",
   "execution_count": 76,
   "id": "b82bc010",
   "metadata": {},
   "outputs": [],
   "source": [
    "question = questionList[0].split('.')[1].strip(' ')"
   ]
  },
  {
   "cell_type": "code",
   "execution_count": 80,
   "id": "2040fed5",
   "metadata": {},
   "outputs": [],
   "source": [
    "quest_set1 = question_extractor(json_data[1])"
   ]
  },
  {
   "cell_type": "code",
   "execution_count": 81,
   "id": "843fab70",
   "metadata": {},
   "outputs": [],
   "source": [
    "quest_set0 = question_extractor(json_data[0])"
   ]
  },
  {
   "cell_type": "code",
   "execution_count": 86,
   "id": "182c7ffe",
   "metadata": {},
   "outputs": [],
   "source": [
    "#make the prompts with the quest sets\n",
    "def prompt_question(num, question):\n",
    "    return f'''Refer to [dataset_{num}] and answer {question} '''"
   ]
  },
  {
   "cell_type": "code",
   "execution_count": 92,
   "id": "94f7df50",
   "metadata": {},
   "outputs": [
    {
     "data": {
      "text/plain": [
       "'Refer to [dataset_1] and answer What is the average age of the passengers? '"
      ]
     },
     "execution_count": 92,
     "metadata": {},
     "output_type": "execute_result"
    }
   ],
   "source": [
    "prompt_question(1,quest_set0[2])"
   ]
  },
  {
   "cell_type": "code",
   "execution_count": 94,
   "id": "1a4be8ad",
   "metadata": {},
   "outputs": [],
   "source": [
    "#Iterate over the question sets\n",
    "for ind,que in enumerate(quest_set0[2:]):\n",
    "    quest_ref_dataset = prompt_question(1,que)\n",
    "    gpt3_answer_collect(key=my_key,org=my_org,\n",
    "                        prompt_question=quest_ref_dataset)"
   ]
  },
  {
   "cell_type": "code",
   "execution_count": 95,
   "id": "203d9665",
   "metadata": {},
   "outputs": [],
   "source": [
    "#Iterate over the question sets\n",
    "for ind,que in enumerate(quest_set1):\n",
    "    quest_ref_dataset = prompt_question(2,que)\n",
    "    gpt3_answer_collect(key=my_key,org=my_org,\n",
    "                        prompt_question=quest_ref_dataset)"
   ]
  },
  {
   "cell_type": "code",
   "execution_count": 119,
   "id": "b8f7242a",
   "metadata": {},
   "outputs": [],
   "source": [
    "def file_upload(filename, purpose='fine-tune'):\n",
    "    resp = openai.File.create(purpose=purpose,file=open(file=filename,\n",
    "                                                        mode='rb'))\n",
    "    print(resp)\n",
    "    return resp\n",
    "\n",
    "def finetune_model(fileId, suffix,model='davinci',api_key=my_key):\n",
    "    header = {'Content-Type':'application/json',\n",
    "              'Authorization':f'Bearer {api_key}'}\n",
    "    payload = {'training_file':fileId,'model':model,'suffix':suffix}\n",
    "    resp = requests.request(method='POST',\n",
    "                            url='https://api.openai.com/v1/fine-tunes',\n",
    "                           headers=header,\n",
    "                           json=payload,timeout=40)\n",
    "    print(resp.json())\n",
    "    \n",
    "def finetune_get(ftId,api_key=my_key):\n",
    "    header = {'Content-Type':'application/json',\n",
    "              'Authorization':f'Bearer {api_key}'}\n",
    "    resp = requests.request(method='GET',\n",
    "                url=f'https://api.openai.com/v1/fine-tunes/{ftId}',\n",
    "                           headers=header,timeout=40)\n",
    "    print(resp.json())\n",
    "    \n",
    "def finetune_event(ftId,api_key=my_key):\n",
    "    header = {'Content-Type':'application/json',\n",
    "              'Authorization':f'Bearer {api_key}'}\n",
    "    resp = requests.request(method='GET',\n",
    "                url=f'https://api.openai.com/v1/fine-tunes/{ftId}/events',\n",
    "                           headers=header,timeout=40)\n",
    "    print(resp.json())"
   ]
  },
  {
   "cell_type": "code",
   "execution_count": 113,
   "id": "965ee576",
   "metadata": {},
   "outputs": [
    {
     "name": "stdout",
     "output_type": "stream",
     "text": [
      "{\n",
      "  \"bytes\": 10818,\n",
      "  \"created_at\": 1678374670,\n",
      "  \"filename\": \"file\",\n",
      "  \"id\": \"file-B7AJ8LI7onSaVqC3ZaW68NR9\",\n",
      "  \"object\": \"file\",\n",
      "  \"purpose\": \"fine-tune\",\n",
      "  \"status\": \"uploaded\",\n",
      "  \"status_details\": null\n",
      "}\n"
     ]
    },
    {
     "data": {
      "text/plain": [
       "<File file id=file-B7AJ8LI7onSaVqC3ZaW68NR9 at 0x7f26ed373150> JSON: {\n",
       "  \"bytes\": 10818,\n",
       "  \"created_at\": 1678374670,\n",
       "  \"filename\": \"file\",\n",
       "  \"id\": \"file-B7AJ8LI7onSaVqC3ZaW68NR9\",\n",
       "  \"object\": \"file\",\n",
       "  \"purpose\": \"fine-tune\",\n",
       "  \"status\": \"uploaded\",\n",
       "  \"status_details\": null\n",
       "}"
      ]
     },
     "execution_count": 113,
     "metadata": {},
     "output_type": "execute_result"
    }
   ],
   "source": [
    "file_upload(filename='prompt_file.jsonl')"
   ]
  },
  {
   "cell_type": "code",
   "execution_count": 131,
   "id": "9c380c45",
   "metadata": {},
   "outputs": [
    {
     "name": "stdout",
     "output_type": "stream",
     "text": [
      "{'object': 'fine-tune', 'id': 'ft-gOeTtRL8FbQYMKzrheNNBm8H', 'hyperparams': {'n_epochs': 4, 'batch_size': None, 'prompt_loss_weight': 0.01, 'learning_rate_multiplier': None}, 'organization_id': 'org-QWWIpNe4Z3KsRVI0YR6lhyJW', 'model': 'davinci', 'training_files': [{'object': 'file', 'id': 'file-B7AJ8LI7onSaVqC3ZaW68NR9', 'purpose': 'fine-tune', 'filename': 'file', 'bytes': 10818, 'created_at': 1678374670, 'status': 'processed', 'status_details': None}], 'validation_files': [], 'result_files': [], 'created_at': 1678377767, 'updated_at': 1678377767, 'status': 'pending', 'fine_tuned_model': None, 'events': [{'object': 'fine-tune-event', 'level': 'info', 'message': 'Created fine-tune: ft-gOeTtRL8FbQYMKzrheNNBm8H', 'created_at': 1678377767}]}\n"
     ]
    }
   ],
   "source": [
    "finetune_model(fileId='file-B7AJ8LI7onSaVqC3ZaW68NR9',\n",
    "               api_key=my_key,suffix='space_titanic_r02',\n",
    "              model='davinci')"
   ]
  },
  {
   "cell_type": "code",
   "execution_count": 137,
   "id": "65719a4c",
   "metadata": {},
   "outputs": [
    {
     "name": "stdout",
     "output_type": "stream",
     "text": [
      "{'object': 'list', 'data': [{'object': 'fine-tune-event', 'level': 'info', 'message': 'Created fine-tune: ft-gOeTtRL8FbQYMKzrheNNBm8H', 'created_at': 1678377767}]}\n"
     ]
    }
   ],
   "source": [
    "finetune_event(ftId='ft-gOeTtRL8FbQYMKzrheNNBm8H',\n",
    "               api_key=my_key)"
   ]
  },
  {
   "cell_type": "code",
   "execution_count": 138,
   "id": "89ee5680",
   "metadata": {},
   "outputs": [
    {
     "name": "stdout",
     "output_type": "stream",
     "text": [
      "{'object': 'fine-tune', 'id': 'ft-gOeTtRL8FbQYMKzrheNNBm8H', 'hyperparams': {'n_epochs': 4, 'batch_size': None, 'prompt_loss_weight': 0.01, 'learning_rate_multiplier': None}, 'organization_id': 'org-QWWIpNe4Z3KsRVI0YR6lhyJW', 'model': 'davinci', 'training_files': [{'object': 'file', 'id': 'file-B7AJ8LI7onSaVqC3ZaW68NR9', 'purpose': 'fine-tune', 'filename': 'file', 'bytes': 10818, 'created_at': 1678374670, 'status': 'processed', 'status_details': None}], 'validation_files': [], 'result_files': [], 'created_at': 1678377767, 'updated_at': 1678377767, 'status': 'pending', 'fine_tuned_model': None, 'events': [{'object': 'fine-tune-event', 'level': 'info', 'message': 'Created fine-tune: ft-gOeTtRL8FbQYMKzrheNNBm8H', 'created_at': 1678377767}]}\n"
     ]
    }
   ],
   "source": [
    "finetune_get(ftId='ft-gOeTtRL8FbQYMKzrheNNBm8H',\n",
    "               api_key=my_key)"
   ]
  },
  {
   "cell_type": "code",
   "execution_count": null,
   "id": "ee8af064",
   "metadata": {},
   "outputs": [],
   "source": []
  }
 ],
 "metadata": {
  "kernelspec": {
   "display_name": "Python 3 (ipykernel)",
   "language": "python",
   "name": "python3"
  },
  "language_info": {
   "codemirror_mode": {
    "name": "ipython",
    "version": 3
   },
   "file_extension": ".py",
   "mimetype": "text/x-python",
   "name": "python",
   "nbconvert_exporter": "python",
   "pygments_lexer": "ipython3",
   "version": "3.10.9"
  }
 },
 "nbformat": 4,
 "nbformat_minor": 5
}
